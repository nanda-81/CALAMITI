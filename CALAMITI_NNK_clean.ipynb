{
 "cells": [
  {
   "cell_type": "code",
   "execution_count": null,
   "metadata": {
    "colab": {
     "base_uri": "https://localhost:8080/"
    },
    "id": "YOfhO88BmZH5",
    "outputId": "c7df2e85-513b-4e90-c831-45e52884a816"
   },
   "outputs": [],
   "source": [
    "from google.colab import drive\n",
    "drive.mount('/content/drive/')"
   ]
  },
  {
   "cell_type": "code",
   "execution_count": null,
   "metadata": {
    "colab": {
     "base_uri": "https://localhost:8080/"
    },
    "id": "RKMnGi4Vnrio",
    "outputId": "e031ff5b-7457-49bc-ab10-fc066df9b38d"
   },
   "outputs": [],
   "source": [
    "%cd /content/drive/MyDrive/CALAMITI_Project/neuroimage_2021_calamiti\n",
    "\n"
   ]
  },
  {
   "cell_type": "code",
   "execution_count": null,
   "metadata": {
    "colab": {
     "base_uri": "https://localhost:8080/"
    },
    "id": "uCUzRhozoaZ3",
    "outputId": "1491bf9d-1efd-4c30-9fca-76d37cfb78e2"
   },
   "outputs": [],
   "source": [
    "!pip install nibabel tqdm\n",
    "!pip install torch torchvision --index-url https://download.pytorch.org/whl/cu118  # For GPU\n"
   ]
  },
  {
   "cell_type": "code",
   "execution_count": null,
   "metadata": {
    "colab": {
     "base_uri": "https://localhost:8080/",
     "height": 349
    },
    "id": "0gp3MlbVqARp",
    "outputId": "9237b4dc-57f4-454a-b750-4b4885daa488"
   },
   "outputs": [],
   "source": [
    "from zipfile import ZipFile\n",
    "import os\n",
    "\n",
    "uploaded_path = '/content/neuroimage_2021_calamiti.zip'\n",
    "with ZipFile(uploaded_path, 'r') as zip_ref:\n",
    "    zip_ref.extractall('/content/calamiti')\n",
    "os.chdir('/content/calamiti')\n"
   ]
  },
  {
   "cell_type": "code",
   "execution_count": null,
   "metadata": {
    "colab": {
     "base_uri": "https://localhost:8080/",
     "height": 158
    },
    "id": "CzCNidduyGwA",
    "outputId": "9ca51b83-8735-4804-aa6a-4fc0987a0973"
   },
   "outputs": [],
   "source": [
    "import os\n",
    "os.chdir(\"/content/calamiti\")\n"
   ]
  },
  {
   "cell_type": "code",
   "execution_count": null,
   "metadata": {
    "colab": {
     "base_uri": "https://localhost:8080/"
    },
    "id": "tB3MJmHCy1nt",
    "outputId": "5fca0e31-0692-4038-e5bf-1fd71df5ab12"
   },
   "outputs": [],
   "source": [
    "!pip install torch torchvision --index-url https://download.pytorch.org/whl/cu118"
   ]
  },
  {
   "cell_type": "code",
   "execution_count": null,
   "metadata": {
    "colab": {
     "base_uri": "https://localhost:8080/"
    },
    "id": "jdnJ_CO4y_ee",
    "outputId": "787fc09c-e2c3-4abb-d9fc-3a3f670d5100"
   },
   "outputs": [],
   "source": [
    "!pip uninstall -y torchvision\n"
   ]
  },
  {
   "cell_type": "code",
   "execution_count": null,
   "metadata": {
    "colab": {
     "base_uri": "https://localhost:8080/",
     "height": 931
    },
    "id": "lzf5wqLQ0QuQ",
    "outputId": "dc8effa6-8de3-4b09-b6e7-e00515c3f429"
   },
   "outputs": [],
   "source": [
    "!pip install torchvision==0.15.2+cu118 --index-url https://download.pytorch.org/whl/cu118\n"
   ]
  },
  {
   "cell_type": "code",
   "execution_count": null,
   "metadata": {
    "id": "LtouevEs1jtO"
   },
   "outputs": [],
   "source": [
    "import sys\n",
    "sys.path.append('/content/drive/MyDrive/CALAMITI_Project/neuroimage_2021_calamiti/code/modules')\n"
   ]
  },
  {
   "cell_type": "code",
   "execution_count": null,
   "metadata": {
    "id": "moZQ-XSm2M1i"
   },
   "outputs": [],
   "source": [
    "import os\n",
    "os.kill(os.getpid(), 9)\n"
   ]
  },
  {
   "cell_type": "code",
   "execution_count": null,
   "metadata": {
    "colab": {
     "base_uri": "https://localhost:8080/",
     "height": 445
    },
    "id": "Zm0-meZu2IXx",
    "outputId": "c5807b4a-a7a5-44cf-99e8-533dc3f60dc5"
   },
   "outputs": [],
   "source": [
    "!pip install numpy==1.24.4\n"
   ]
  },
  {
   "cell_type": "code",
   "execution_count": null,
   "metadata": {
    "colab": {
     "base_uri": "https://localhost:8080/",
     "height": 383
    },
    "id": "b9QAR3vB1lg2",
    "outputId": "f61a02d7-a64d-4145-a84c-feed2e6d9dc6"
   },
   "outputs": [],
   "source": [
    "from multiorientation import MultiOrientationImages\n",
    "\n",
    "dataset_path = '/content/drive/MyDrive/CALAMITI_Project/sample_dataset'\n",
    "dataset = MultiOrientationImages(dataset_path, data_name='T1w', mode='train')\n",
    "\n",
    "sample = dataset[0]\n",
    "print(sample['input'].shape)   # Expecting [1, 3, H, W]\n",
    "print(sample['target'].shape)  # Expecting [1, H, W]\n"
   ]
  },
  {
   "cell_type": "code",
   "execution_count": null,
   "metadata": {
    "colab": {
     "base_uri": "https://localhost:8080/",
     "height": 383
    },
    "id": "1LEr6xKA1ZBs",
    "outputId": "a7486149-8093-486e-c2e2-cbc57951dd42"
   },
   "outputs": [],
   "source": [
    "from multiorientation import MultiOrientationImages\n",
    "\n",
    "dataset_path = '/content/drive/MyDrive/CALAMITI_Project/sample_dataset'\n",
    "dataset = MultiOrientationImages(dataset_path, data_name='T1w', mode='train')\n",
    "\n",
    "sample = dataset[0]\n",
    "print(sample['input'].shape)   # Should be [1, 3, H, W]\n",
    "print(sample['target'].shape)  # Should be [1, H, W]\n"
   ]
  },
  {
   "cell_type": "code",
   "execution_count": null,
   "metadata": {
    "colab": {
     "base_uri": "https://localhost:8080/"
    },
    "id": "bz1BxtS3CuHy",
    "outputId": "8e969458-9487-4989-972f-2730920709e7"
   },
   "outputs": [],
   "source": [
    "from google.colab import drive\n",
    "drive.mount('/content/drive')\n"
   ]
  },
  {
   "cell_type": "code",
   "execution_count": null,
   "metadata": {
    "id": "HnosQxHZC_a0"
   },
   "outputs": [],
   "source": [
    "import sys\n",
    "sys.path.append('/content/drive/MyDrive/CALAMITI_Project/neuroimage_2021_calamiti/code/modules')\n"
   ]
  },
  {
   "cell_type": "code",
   "execution_count": null,
   "metadata": {
    "colab": {
     "base_uri": "https://localhost:8080/"
    },
    "id": "mP1arP_CDCIC",
    "outputId": "d2913c81-b0e0-4675-d14f-fe2f6e60b8ba"
   },
   "outputs": [],
   "source": [
    "!pip install nibabel tqdm\n",
    "!pip install torch==2.0.1+cu118 torchvision==0.15.2+cu118 --index-url https://download.pytorch.org/whl/cu118\n",
    "!pip install numpy==1.24.4\n"
   ]
  },
  {
   "cell_type": "code",
   "execution_count": null,
   "metadata": {
    "id": "9ZZVns0jDrH3"
   },
   "outputs": [],
   "source": [
    "!python /content/drive/MyDrive/CALAMITI_Project/neuroimage_2021_calamiti/code/modules/fusion.py\n"
   ]
  },
  {
   "cell_type": "code",
   "execution_count": null,
   "metadata": {
    "colab": {
     "base_uri": "https://localhost:8080/"
    },
    "id": "Dh0-9E9PEVAr",
    "outputId": "6b84bb45-e579-49c8-9691-eab9e3e15c8e"
   },
   "outputs": [],
   "source": [
    "%cd /content/drive/MyDrive/CALAMITI_Project/neuroimage_2021_calamiti/code/modules/\n"
   ]
  },
  {
   "cell_type": "code",
   "execution_count": null,
   "metadata": {
    "colab": {
     "base_uri": "https://localhost:8080/"
    },
    "id": "U7u0VdyYEY8N",
    "outputId": "8c0e6c2c-1a55-42c8-88b1-eb1fb367b16b"
   },
   "outputs": [],
   "source": [
    "!python fusion.py\n"
   ]
  },
  {
   "cell_type": "code",
   "execution_count": null,
   "metadata": {
    "id": "C5FCuDsYEhQ1"
   },
   "outputs": [],
   "source": [
    "!rm -f /content/drive/MyDrive/CALAMITI_Project/neuroimage_2021_calamiti/code/modules/__init__.py\n"
   ]
  },
  {
   "cell_type": "code",
   "execution_count": null,
   "metadata": {
    "colab": {
     "base_uri": "https://localhost:8080/",
     "height": 546
    },
    "id": "SfIk5UBKFhlr",
    "outputId": "4a4e336d-dc9d-47b2-de32-7df57ad69a13"
   },
   "outputs": [],
   "source": [
    "import sys\n",
    "import importlib.util\n",
    "\n",
    "fusion_path = \"/content/drive/MyDrive/CALAMITI_Project/neuroimage_2021_calamiti/code/modules/fusion.py\"\n",
    "\n",
    "spec = importlib.util.spec_from_file_location(\"fusion\", fusion_path)\n",
    "fusion = importlib.util.module_from_spec(spec)\n",
    "sys.modules[\"fusion\"] = fusion\n",
    "spec.loader.exec_module(fusion)\n",
    "\n",
    "# Now run the training\n",
    "fusion.run_training()\n"
   ]
  },
  {
   "cell_type": "code",
   "execution_count": null,
   "metadata": {
    "id": "lPvhGVg7GKku"
   },
   "outputs": [],
   "source": [
    "if \"fusion\" in sys.modules:\n",
    "    del sys.modules[\"fusion\"]\n"
   ]
  },
  {
   "cell_type": "code",
   "execution_count": null,
   "metadata": {
    "colab": {
     "base_uri": "https://localhost:8080/"
    },
    "id": "U_hD555fGOxY",
    "outputId": "b63fffcc-e267-48bf-9f35-49853faef3e7"
   },
   "outputs": [],
   "source": [
    "!head -n 20 /content/drive/MyDrive/CALAMITI_Project/neuroimage_2021_calamiti/code/modules/fusion.py\n"
   ]
  },
  {
   "cell_type": "code",
   "execution_count": null,
   "metadata": {
    "colab": {
     "base_uri": "https://localhost:8080/"
    },
    "id": "udvOztCNEAWP",
    "outputId": "131d7a85-1bfd-4a03-c415-9ed90cc4d5ee"
   },
   "outputs": [],
   "source": [
    "!python /content/drive/MyDrive/CALAMITI_Project/neuroimage_2021_calamiti/code/modules/fusion.py\n"
   ]
  },
  {
   "cell_type": "code",
   "execution_count": null,
   "metadata": {
    "colab": {
     "base_uri": "https://localhost:8080/"
    },
    "id": "vZ5WNvW9F6ts",
    "outputId": "552c4a01-16fb-4682-ea84-7c05e4a4afdc"
   },
   "outputs": [],
   "source": [
    "%cd /content/drive/MyDrive/CALAMITI_Project/neuroimage_2021_calamiti/code/modules\n",
    "!ls\n"
   ]
  },
  {
   "cell_type": "code",
   "execution_count": null,
   "metadata": {
    "id": "qdKO4KppG2iG"
   },
   "outputs": [],
   "source": [
    "# Read contents\n",
    "file_path = '/content/drive/MyDrive/CALAMITI_Project/neuroimage_2021_calamiti/code/modules/fusion.py'\n",
    "with open(file_path, 'r') as file:\n",
    "    content = file.read()\n",
    "\n",
    "# Example: Add a print at the end\n",
    "content += '\\nprint(\"Fusion script updated!\")\\n'\n",
    "\n",
    "# Write it back\n",
    "with open(file_path, 'w') as file:\n",
    "    file.write(content)\n"
   ]
  },
  {
   "cell_type": "code",
   "execution_count": null,
   "metadata": {
    "id": "6LHeVG8IHIoO"
   },
   "outputs": [],
   "source": [
    "new_code = \"\"\"\n",
    "#!/usr/bin/env python\n",
    "# -*- coding: utf-8 -*-\n",
    "import os\n",
    "from tqdm import tqdm\n",
    "import numpy as np\n",
    "\n",
    "import torch\n",
    "from torch import nn\n",
    "from torch.utils.data import DataLoader\n",
    "from torch.utils.data.dataloader import default_collate\n",
    "import nibabel as nib\n",
    "\n",
    "from multiorientation import MultiOrientationImages, custom_collate\n",
    "from network import FusionNet\n",
    "from utils import mkdir_p\n",
    "\n",
    "\n",
    "class FusionNetwork:\n",
    "    def __init__(self, pretrained_model=None, gpu=-1, data_path=\"\", data_name=\"\", batch_size=1):\n",
    "        self.data_path = data_path\n",
    "        self.data_name = data_name\n",
    "        self.batch_size = batch_size\n",
    "        self.pretrained_model = pretrained_model\n",
    "\n",
    "        self.gpu = gpu\n",
    "        self.device = torch.device(\"cuda\" if gpu >= 0 and torch.cuda.is_available() else \"cpu\")\n",
    "\n",
    "        self.fusion_net = FusionNet(in_ch=1, out_ch=1).to(self.device)\n",
    "        self.checkpoint = None\n",
    "        self.start_epoch = 0\n",
    "\n",
    "        if self.pretrained_model is not None:\n",
    "            self.checkpoint = torch.load(self.pretrained_model, map_location=self.device)\n",
    "            self.fusion_net.load_state_dict(self.checkpoint['fusion_net'])\n",
    "\n",
    "    def load_dataset(self, dataset_dir, data_name, batch_size):\n",
    "        self.train_dataset = MultiOrientationImages(dataset_dir=dataset_dir, data_name=data_name, mode=\"train\")\n",
    "        self.valid_dataset = MultiOrientationImages(dataset_dir=dataset_dir, data_name=data_name, mode=\"valid\")\n",
    "\n",
    "        if len(self.train_dataset) == 0:\n",
    "            print(\"[WARNING] No training samples found. Skipping training.\")\n",
    "            self.train_loader = None\n",
    "        else:\n",
    "            self.train_loader = DataLoader(self.train_dataset, batch_size=batch_size, shuffle=True, num_workers=0, collate_fn=custom_collate)\n",
    "\n",
    "        if len(self.valid_dataset) == 0:\n",
    "            print(\"[WARNING] No validation samples found. Skipping validation.\")\n",
    "            self.valid_loader = None\n",
    "        else:\n",
    "            self.valid_loader = DataLoader(self.valid_dataset, batch_size=batch_size, shuffle=True, num_workers=0, collate_fn=custom_collate)\n",
    "\n",
    "        print(\"Train dataset path:\", self.train_dataset.data_path)\n",
    "        print(\"Valid dataset path:\", self.valid_dataset.data_path)\n",
    "\n",
    "    def initialize_training(self, out_dir, lr):\n",
    "        self.out_dir = out_dir\n",
    "        mkdir_p(self.out_dir)\n",
    "        mkdir_p(os.path.join(out_dir, 'results'))\n",
    "        mkdir_p(os.path.join(out_dir, 'models'))\n",
    "\n",
    "        self.l1_loss = nn.L1Loss(reduction='none')\n",
    "        self.optim_fusion_net = torch.optim.AdamW(self.fusion_net.parameters(), lr=lr)\n",
    "\n",
    "        if self.checkpoint is not None:\n",
    "            self.start_epoch = self.checkpoint['epoch']\n",
    "            self.optim_fusion_net.load_state_dict(self.checkpoint['optim_fusion_net'])\n",
    "\n",
    "        self.start_epoch += 1\n",
    "\n",
    "    def train(self, epochs):\n",
    "        if self.train_loader is None:\n",
    "            print(\"[SKIP] Training skipped due to empty dataset.\")\n",
    "            return\n",
    "\n",
    "        log_file = os.path.join(self.out_dir, 'training_log.txt')\n",
    "\n",
    "        for epoch in range(self.start_epoch, epochs + 1):\n",
    "            self.fusion_net.train()\n",
    "            train_loss_sum = 0.0\n",
    "            num_train_imgs = 0\n",
    "\n",
    "            for batch_id, batch in tqdm(enumerate(self.train_loader), total=len(self.train_loader), desc=f\"Epoch {epoch} [Train]\"):\n",
    "                if batch is None or not all(k in batch for k in ['input', 'target']):\n",
    "                    print(f\"[SKIP] Missing data in batch {batch_id}\")\n",
    "                    continue\n",
    "\n",
    "                input_tensor = batch[\"input\"].to(self.device)  # [B, 1, 3, H, W]\n",
    "                ori_img = batch[\"target\"].to(self.device)     # [B, 1, H, W]\n",
    "\n",
    "                curr_batch_size = ori_img.size(0)\n",
    "\n",
    "                self.optim_fusion_net.zero_grad()\n",
    "                syn_img = self.fusion_net(input_tensor)\n",
    "                loss = self.cal_loss(syn_img, ori_img)\n",
    "                loss.backward()\n",
    "                self.optim_fusion_net.step()\n",
    "\n",
    "                train_loss_sum += loss.item() * curr_batch_size\n",
    "                num_train_imgs += curr_batch_size\n",
    "\n",
    "            avg_train_loss = train_loss_sum / num_train_imgs\n",
    "            print(f\"[Epoch {epoch}] Avg Train Loss: {avg_train_loss:.4f}\")\n",
    "\n",
    "            if self.valid_loader is None:\n",
    "                print(\"[SKIP] Validation skipped due to empty dataset.\")\n",
    "                avg_valid_loss = 0.0\n",
    "            else:\n",
    "                self.fusion_net.eval()\n",
    "                valid_loss_sum = 0.0\n",
    "                num_valid_imgs = 0\n",
    "\n",
    "                with torch.no_grad():\n",
    "                    for batch_id, batch in tqdm(enumerate(self.valid_loader), total=len(self.valid_loader), desc=f\"Epoch {epoch} [Valid]\"):\n",
    "                        if batch is None or not all(k in batch for k in ['input', 'target']):\n",
    "                            print(f\"[SKIP] Missing data in batch {batch_id}\")\n",
    "                            continue\n",
    "\n",
    "                        input_tensor = batch[\"input\"].to(self.device)\n",
    "                        ori_img = batch[\"target\"].to(self.device)\n",
    "                        curr_batch_size = ori_img.size(0)\n",
    "\n",
    "                        syn_img = self.fusion_net(input_tensor)\n",
    "                        loss = self.cal_loss(syn_img, ori_img)\n",
    "\n",
    "                        valid_loss_sum += loss.item() * curr_batch_size\n",
    "                        num_valid_imgs += curr_batch_size\n",
    "\n",
    "                if num_valid_imgs > 0:\n",
    "                    avg_valid_loss = valid_loss_sum / num_valid_imgs\n",
    "                else:\n",
    "                    avg_valid_loss = 0.0\n",
    "\n",
    "                print(f\"[Epoch {epoch}] Avg Valid Loss: {avg_valid_loss:.4f}\")\n",
    "\n",
    "            checkpoint_path = os.path.join(self.out_dir, 'models', f\"fusion_epoch{epoch:03d}.pth\")\n",
    "            self.save_model(checkpoint_path, epoch)\n",
    "\n",
    "            with open(log_file, 'a') as f:\n",
    "                f.write(f\"{epoch},{avg_train_loss:.6f},{avg_valid_loss:.6f}\\n\")\n",
    "\n",
    "    def save_model(self, file_name, epoch):\n",
    "        state = {\n",
    "            'epoch': epoch,\n",
    "            'fusion_net': self.fusion_net.state_dict(),\n",
    "            'optim_fusion_net': self.optim_fusion_net.state_dict()\n",
    "        }\n",
    "        torch.save(state, file_name)\n",
    "        print(f\"[SAVED] Model checkpoint saved at {file_name}\")\n",
    "\n",
    "    def test(self, imgs, out_dir, prefix, img_affine, img_hdr, norm=1000):\n",
    "        self.fusion_net.eval()\n",
    "        with torch.no_grad():\n",
    "            imgs = tuple([img.to(self.device) for img in imgs])\n",
    "            imgs = torch.cat(imgs, dim=1)\n",
    "            fuse_img = self.fusion_net(imgs)\n",
    "\n",
    "            img_save = np.array(fuse_img.cpu().squeeze().permute(1, 2, 0).permute(1, 0, 2))\n",
    "            img_save = img_save * ( norm / 0.25)\n",
    "            img_save = nib.Nifti1Image(img_save, img_affine, img_hdr)\n",
    "            file_name = os.path.join(out_dir, f'{prefix}_fusion.nii.gz')\n",
    "            nib.save(img_save, file_name)\n",
    "\n",
    "    def cal_loss(self, syn_img, ori_img):\n",
    "        loss = self.l1_loss(syn_img, ori_img)\n",
    "        return loss.mean()\n",
    "\n",
    "def custom_collate(batch):\n",
    "    batch = [sample for sample in batch if sample is not None]\n",
    "    if len(batch) == 0:\n",
    "        return None\n",
    "    return default_collate(batch)\n",
    "\n",
    "def run_training():\n",
    "    class Args:\n",
    "        dataset_dir = \"/content/drive/MyDrive/CALAMITI_Project/sample_dataset/slices/default\"\n",
    "        modality = \"T1w\"\n",
    "        output_dir = \"./output\"\n",
    "        batch_size = 1\n",
    "        epochs = 20\n",
    "        lr = 0.0001\n",
    "        gpu = 0 if torch.cuda.is_available() else -1\n",
    "        mode = 'train'\n",
    "        checkpoint = None\n",
    "\n",
    "    args = Args()\n",
    "\n",
    "    network = FusionNetwork(\n",
    "        pretrained_model=args.checkpoint,\n",
    "        gpu=args.gpu,\n",
    "        data_path=args.dataset_dir,\n",
    "        data_name=args.modality,\n",
    "        batch_size=args.batch_size\n",
    "    )\n",
    "\n",
    "    network.load_dataset(args.dataset_dir, args.modality, args.batch_size)\n",
    "    network.initialize_training(args.output_dir, lr=args.lr)\n",
    "\n",
    "    if args.mode == 'train':\n",
    "        network.train(epochs=args.epochs)\n",
    "    else:\n",
    "        print(\"[SKIP] Only training mode is implemented.\")\n",
    "\n",
    "#no entry point, we'll import and call run_training() manually\n",
    "\"\"\"\n",
    "\n",
    "with open(file_path, 'w') as f:\n",
    "    f.write(new_code)\n"
   ]
  },
  {
   "cell_type": "code",
   "execution_count": null,
   "metadata": {
    "colab": {
     "base_uri": "https://localhost:8080/"
    },
    "id": "a-i2TbajHbYY",
    "outputId": "668caef3-8e91-46f8-e096-783dc7231d9c"
   },
   "outputs": [],
   "source": [
    "!head -n 15 /content/drive/MyDrive/CALAMITI_Project/neuroimage_2021_calamiti/code/modules/fusion.py\n"
   ]
  },
  {
   "cell_type": "code",
   "execution_count": null,
   "metadata": {
    "colab": {
     "base_uri": "https://localhost:8080/",
     "height": 176
    },
    "id": "awsviv6WHfeC",
    "outputId": "afb06669-0b02-428a-bf44-55ce2aa40d7e"
   },
   "outputs": [],
   "source": [
    "import sys\n",
    "import importlib.util\n",
    "\n",
    "# Remove cached version\n",
    "if \"fusion\" in sys.modules:\n",
    "    del sys.modules[\"fusion\"]\n",
    "\n",
    "fusion_path = \"/content/drive/MyDrive/CALAMITI_Project/neuroimage_2021_calamiti/code/modules/fusion.py\"\n",
    "\n",
    "spec = importlib.util.spec_from_file_location(\"fusion\", fusion_path)\n",
    "fusion = importlib.util.module_from_spec(spec)\n",
    "sys.modules[\"fusion\"] = fusion\n",
    "spec.loader.exec_module(fusion)\n",
    "\n",
    "# Run main\n",
    "fusion.main()\n"
   ]
  },
  {
   "cell_type": "code",
   "execution_count": null,
   "metadata": {
    "colab": {
     "base_uri": "https://localhost:8080/",
     "height": 1000,
     "referenced_widgets": [
      "6bf53bd60a874c3bb287ae1393a5e6f9",
      "98c8158932cf497dbb9648162e777042",
      "540ca14962db4eccaf127a576be3a9a3",
      "818c3f8e557c4ecfaa777f7844fec373",
      "549f0323d95d428e98f76f94d8f88b18",
      "240c4a2233c14757911d3c0abdf6747a",
      "9c1121aba4a24ea990f56d5422488300",
      "b4a2c5c2d3ff421787cdbd03c100b423",
      "012348bd34564ff7bd5b2166b2e564c4",
      "ca0ae6bad1a54ab2a126579867355185",
      "811df29bc78c4dd899178174a11abfc6",
      "ddbb623d9996490d87ba8bc8e939b492",
      "9999228a79cd428db05cb8b21b3312c0",
      "4a21571ed1274ffaa2adb5d11736ce6d",
      "4cf4a4c518c44fd1993b4509e6325376",
      "ac2347d5fea84a5386d1360c83ff41f2",
      "63105e923fc44c3cbe617eb25afddedb",
      "f105918da1c54cc5853fdbd4917f210c",
      "5e9125ba53cd4dcaa2c74db1d27d885a",
      "f32131867a60482fae62bdba29be5f4e",
      "78bbb255a47e4a95a6527fa52fd85395",
      "7a9e7e20c646446ba32784690fb559b9",
      "b842b401ec414d0c8ad69e7e2dacda02",
      "a486dd58307c43b3820bf400090a5b85",
      "db9fbf7da43d4d3dbf8906dce6948e24",
      "15c16a65f32f4e5aa810488471d6d606",
      "612d92bbdd214d2bb34d82ccb7d0e91b",
      "fe0e6576353745bb92fb43dd6c358fa6",
      "176f1591773546428108223ea6031fe4",
      "fe36255ed2d64a0cb94b931940f0c8f8",
      "5e7a06e53e5e4514a38601479b4f5400",
      "fdd3ed3192ed4fedb831b37e9b1eb15a",
      "14c0a1bfdf504cb29726c9d71b21a9db",
      "fa73d1c994b5403fb1ce6312878f4124",
      "ffdabdad648f4f3d94cc81e1f3f6990f",
      "3326f820310c4cfe8db7b1c32b54d01b",
      "1b90c0bcaad644a3b3f83adbac08479d",
      "2b375842363348b0bf96ffe6836259c6",
      "a71c2b9898a748c98982b4574e13312c",
      "3fb129ebcaa64a4a821e831f32bfc820",
      "ecfbb133d123411fa4d18d51815a1969",
      "ae60bebfe92649beb33298f5d9ca5578",
      "bca7dccac7a142b4b200115031bd2619",
      "1e34562516634de6bdc684cde44e935f",
      "e4f14a505153472f9d86c0f19e88ed7b",
      "ed5151eba3d44976bdce4fa3292f65f2",
      "12767619ed1344dfa0add95177ca6825",
      "e83a892a61114cb7a192526526398e40",
      "0af56ac4b14a4547b33a715f13361855",
      "2ff262d495984000989a75bf40ffda92",
      "fddd21fc2a5442a2898ed1cbfc946606",
      "4bd7cb3402aa4c0498f754c321ea95b7",
      "bb909e9d0b9347ecb3fbb075870931fe",
      "69e108ffb7d84a56bb156c512f8da0e0",
      "9776e20fb0394f96a62370faf793d7e8",
      "02631d1cbbce499b8fa8599e32b2dd9c",
      "0254123bbba34834ba32c4515821e613",
      "4b77c64bcf8b4c17a2234a4244b98470",
      "8d771177d887439c892a5f8dc645c00b",
      "153f5793c6bf4f0c90166dda1df70b63",
      "f8cd3d6642db49e5a00968a37abb526e",
      "b7b4cfdb02ce4903aff063654eeea0f6",
      "ae341da9062242c1bfe22528c23ab7a9",
      "4bd22472282a4126a88cfb848e8906ef",
      "fe8682b177da4125b58680544442a5f0",
      "cee667bae83c4d8da0871e22b4df8292",
      "84227a201b734f849ff7c4537f67e95a",
      "e64058dab9544cc98b33d1e90647803b",
      "f8c327e27c704056b2828ea152a8d976",
      "4453f3f375b8487496a95d249042b947",
      "093d044bdbb14834aeae04d79752c6f2",
      "91ab6e3b253f43f99ebf4cad0fceffd1",
      "a4774d710ac342758f4003f5e6866972",
      "c205a5fb9fc649709dc6a95abc8071b4",
      "913edb1389ca45fb827443293930f35f",
      "344d4849cef84cf88396444f0b376657",
      "63f69fe156ab4b53a79cf613d1803712",
      "de486a754a75418f802648a17dab59fd",
      "ed12ce3e49f44cff8b3e85adeadec7a7",
      "5c9df22706d244b1ac7370530d92da65",
      "1351d12e072544e1bcc2719d87fb9bbe",
      "fbd018ff013949a2bd8554bc0f09651c",
      "df3b7926185a49129e777f67ce5d4f95",
      "b30440d7183b4610a643bfcbb3ad00ea",
      "3c5627c9ad09452c868904ad33d25f46",
      "faba13e3d0e0462a9c8584863fe4559c",
      "79235adbb34740f29807c9c7662a3406",
      "f1a1a56b788c4e9b88236fcd08d1c30e",
      "728a38f1c7b04fb095c9a0edbbb06402",
      "b2b414da47f044ee93b0a991f51f13c9",
      "639e7a004a754c85a1af09f218ffd103",
      "de4477b68afb4d708437f1e931544672",
      "a7cfb96f510149a9bb3b62feb895720c",
      "dd5ec1abc2a14928878a510312b6ac40",
      "300ec6e0258d4b7da96bee26ed8bec19",
      "c87f841d8d5b40f0a401a607b234eb19",
      "4c6e8a5f4ab4408da53dd00eb2d5e15d",
      "aba3f7eb63bd450f9e5c7ee7ed35b0e8",
      "bb992e2a129b4ba9b635f4b0f61b642f",
      "e2bb37382ea0477197f0aebd14c3fdd3",
      "bd6955df380c4d08b7d115632f8b2b62",
      "8ba389b8a6cb45f2ba1517d6defdb000",
      "34ad5211b10145d59b5b7802e736a50f",
      "6a191c16cf9d4fc49eeede6ecd900486",
      "1b3ad9f77ba04cba9efbf23a1d832f5a",
      "dc67875f55c04263ab500f7e61ee2055",
      "947da6e4acca49cf9e13e69a05087906",
      "c04ae97478f44b85b333574d86d07ea7",
      "c1e6d38962fb41db8cd60e88b99b41cf",
      "4d609df08dbf436f9ae70fbefcf93070",
      "b89b7c4cfcbe4d7982b5bdf5ec9ad7ba",
      "d98815c3b9b2471e9fd904985b3ebf1b",
      "06a7f8dfeaf4455c888b5cd3c6a360d8",
      "780d9c47e99b4844af2a5e4b16182c4c",
      "78526c816bc042f586a0542fb5725d37",
      "d472587d2db74e72a9bf82a582b23b90",
      "39c49a2a7e624d87b7356cc143843099",
      "390b7cb098de483fb2b6b5a1eaa12655",
      "1591e93a704941a7b56e0911b33e4351",
      "b7c0263b572b43279aa5726aeee99c0f",
      "3bfdf975668645d7a278007b2511b475",
      "67a444bbc07649eaa7ad3fbc25ffe2df",
      "af589913111a42ab9b2675f989370eb0",
      "6526018f10e94f649bd959605ce8c946",
      "a094fc1a3d024d3a8487992d40867fbd",
      "131e8f384f5c4d7d816adc5c774a06df",
      "358ef9f690cd48cd822b1d384275091d",
      "c8c22cbfe1c54dea9c75513284293eca",
      "25c9349472c247748b97886fbe358cdf",
      "46cbbd94c49541e89476d4b0742ad4a0",
      "34418a2d14a442db95a9e90074bb9e07",
      "dd91a73c41a84744a118469c3ef071d8",
      "cc6b99326ce34353b4937a408ad99b99",
      "5b3ff59fd9a74bb2b93c7ce6ed00f1e4",
      "9e30a1c73e7f4134953aca10ba1ac167",
      "86a47394f27d4be4888a8b535b7c4aa8",
      "a20b28c06cd84cb0aee556adafd3e998",
      "0cd430a0b3654e7ab79f8667ca9cab00",
      "5a91ce33b3484340a03d07630d009f95",
      "a0c0c89510674f9bbfef6246c1b280b2",
      "9d076f4613f94c8bb0df7405028c33f9",
      "26edf9e2d38946529afc8724382701e0",
      "4bb20437969e4a7db15d964e85d436ef",
      "7b31c14ef13a443da566a59d96c891b5",
      "9948ee2aca4f4411b7ccd8a56a020dbc",
      "6940181fbdf440ae85a8e38d73fb59ae",
      "b0f8e0c3f0f449e8afc864647cfe4014",
      "62f4226a5b5c40b585afd56ef937c720",
      "e9be9d55939344c6810f6b8c5f345e6e",
      "d5e3e4c6bfad4cefaddfcee684fbe92b",
      "497ced0ea98c46d5875d70a0fdacc138",
      "6fc6b1362e504ab98e6a60631b2612db",
      "665031d7064949b3a4bb7a1334591ea2",
      "8fdf86c80cb34168ac9cc0f0619077bf",
      "08348fdc8fa94744ada0266e372b08bb",
      "c172f0878e1a48c1a353b2626fd86950",
      "20c3c30ce700491894a3f24e899da8e3",
      "2e4c517308054a69955e3cc7c7583e9d",
      "d7f8877b6216434db7d18e61c1e8c03e",
      "a1c5099fb9d04600ba8a1dada137baba",
      "2983525f07d246feb11b685e4049fbde",
      "6f3daa6df4c44f5abee496f4bdc0d358",
      "6cd6606d680348fd955ad387665c57c2",
      "30f29170f4ad48009c10df8f791e4145",
      "b706fffe5a2a4b4fb5ebf16067619361",
      "5a61aff335a241ebafbad31f8e58667d",
      "b79137b5af0641beb631e6840b06778d",
      "5babb691c4f74eb9af72655b88434f81",
      "574994484c1142949188b8429ceae878",
      "4872211dc10848b591b428eef0d708f3",
      "b456ddfd015348eda8b628d92386d4aa",
      "7e4ea4db90974de39d5cb68a36574f5b",
      "d636e323d05840a3822f2eb461ee740b",
      "a45f3fe1130a4423b5239ef84d1698f8",
      "7a997ffa28df487ea4a75ab0bc629022",
      "a4f6f12129904db78f915e925e998324",
      "6a6abf8d621e4af7b1b41dd88ec9d2f1",
      "6517a1857c0b4d3f960fb2281022c84b",
      "13c01b54e8224eb2b445fe4ab3ce36d9",
      "c3cb590392d64c968b94321d806cede3",
      "b4ed3322670744c187ceeb59f4e4311f",
      "c7787b8ec2f9429982396bc96b7623c6",
      "0f21a0aba7784465bafb359326815fb4",
      "46da8e54abde44eb8709ed93db41a031",
      "48a09b06f51f4812a3b430ca4f60c90d",
      "be23ecfc2b9c4fde86f4e0163fa66e11",
      "73a49af3fc1c44638d238eeeb9b9bcad",
      "dce1be4c0507490e92efd64b4ebce595",
      "b420a4f8ed2d45398044e7d2082e2f9d",
      "4ada44258e7c4f1fb802161da15339f2",
      "3037b33388854feaad020fbb94a432fb",
      "41560da89ebb424e886777de038dd175",
      "279e4a2bc81b46f1ab23fdbf0367bce5",
      "66b38730cc6e4c69b3b2dd5ba0907663",
      "23eefb4b37ad49908015d5b6c6521488",
      "bfa7d01114854f2ea668a5357fa2b8bf",
      "826e1f773a6547ab90f3fe43eca9597f",
      "13f2b0df71904f068b92d3a3f57f7d6a",
      "f1e7877557de4effa6a1c242009266be",
      "c53e7d6d588e44dfacc20c9e758dea71",
      "883a6402c66f4219809aa37168716afb",
      "62fa918f08f34ddaae46b1b20e610efb",
      "a4cfad740c5c431a82165f3796397a76",
      "8ca383d16f6c4f91b2a6d7e069b7dbda",
      "22a97d94378b4e5b83385eeb1234e3f6",
      "8fbbb6421cf84725a39e775041351e64",
      "41cd04eb311f4592bf5f91b1ec222206",
      "9e224d8f10d742bdaae8eab4168f81a3",
      "2d5d1305e53643308da3a52a6b69e167",
      "e1adb6b62182417c9b0fe63cc41583e6",
      "321a2e81a045464a8066c95615d27420",
      "8b456588f0a94ada9e4babfecc5b911c",
      "3d353d57deec46968c9d7630772197c3",
      "57d2b88ae7a443c29d9401369228147d",
      "94d7e7a1cc60437786a3b0681a3577bb",
      "569d5ed57fa04a34adf2f9c88a832195",
      "0a32365da7d34e78ae5427698cf00d47",
      "cbe814326c754f15a4562425bc79e340",
      "123c117f19e54c5dbaeaa05c3a85f460",
      "a7b265e15d4b463286717d6720e7dfb6",
      "f2bbc5ebadf14380a3780effe0ef680c",
      "621fc27e905043269314b644d2693e50",
      "ba6a00bc110e4893b4d9664a570ec572",
      "90634d0157964c468bebd9cc7948073b",
      "208cc2768f2a4db595b5f48dde9650e1",
      "59af830b25394bcbaebd5e10a60b8bff",
      "4b11f0bfafea4ce4832f4231d0d5e14a",
      "7135f246bfdb4a64999127d0004c39fc",
      "eac4bd40d0f046d9b89f9ddbb51da142",
      "1b7303d560df4ab2a97bb352e070e12b",
      "37b4871699f94b27a712d83e2722c7e5",
      "ef5cda1799c248d2bef4c2145b8d756a",
      "407debd8e16b4d47b4cf3179a60f58cb",
      "ce9b709d3ee84ed9a95a8ab60cd86d73",
      "9010c9087c0f4d4bb27ad94547401cf4",
      "cd3f505f5ae14c958fd3553f17f7eb32",
      "b057261dd0f241698daf2cdc4bdb42aa",
      "ff3340bff1ee490489e5341534ffed98",
      "a69fd9faef0e41ada2d8a4829afe9455",
      "f0ab9bcde4b542af827c974eccd63208",
      "6954764cae0e4745b0b05590e100f787",
      "f6ff534d5884437b9dcd2ba2ad31f736",
      "5edc5d7203b548c6af57a2b4ae8df9cb",
      "1ef2d657658a4937a05d7e5465b4713a",
      "29199bacb79e47e38a02db4dc553c11c",
      "82cde67943b9467d965ff3a42513a057",
      "30cac31c93c641e18c50cdc001a8ff59",
      "4a9c135db8094bed907eb7fd714f97ed",
      "df1b2c84642e49259b807fbee2440f8b",
      "a5dde08100b94d5eacdfe5af457befa6",
      "bb43298eb4794489b5d8395699abdb70",
      "b8e2da11a2ea483ba2c07ddec88dd8bd",
      "f4147676dca44e5484de09f3e662c803",
      "2855833e147842ab813ae719e0dbae9d",
      "d0db7b009f064b24b9a1d2bed5b7d8c0",
      "48016770ec60470c94393e020e1f4061",
      "8ed448ac4f024969b42af34f63ed8a68",
      "b58580eb639548d7a38997a9ba14b511",
      "9c1cabd69e1a47aba1368dd0f3a2ade2",
      "7805be49f8f64952b6cd178d41763475",
      "61e6764a37734181ac25887df38e2476",
      "376d78be6a524a5e8e54767c960532e0",
      "49b453b11b0a4e8e9de50600e1302545",
      "7fd79babef0141e98fbe4100a1510a08",
      "dd2337961c0b4de7838d1dd8546f815b",
      "85b774c58c5c417db4cbcf532e3cb7f0",
      "448d177a186d492f979d50f57f5b8074",
      "941441e4b699486a99344e2c84db9c3c",
      "a1680f73d55342f0a9ea1949e1b585fa",
      "f5b9fe7a69ec4ea9a6564613cc1abea1",
      "d5f12082b39e4388bd27a6a7472a25b4",
      "97e7184bcd0449bc9ef3b108b4385d6b",
      "459b63534df3471ca17098d82bcf4577",
      "df9cf856f5e94780a67e33c933983f56",
      "20ec3cb53c1844978d0db48b324d78a4",
      "bcbadfeb22484b83b5a68b1c56876a0f",
      "7409854d2a164beea272ef0bbcd96960",
      "2b918fd5f9c940dd835c97311988e8ef",
      "c6772db42a9f4c6fb449a1da51061268",
      "1dd4b7bd428b4d08b79836a2e9781e42",
      "f4687d4406ae46e7a0b443830a84e7b0",
      "0252ec1fe5a047e69ea217ba8e2d98f7",
      "a7c97c8fc714453f958cdb5ee93a3375",
      "730538a6ea744a79a0a2d687cfb7fd37",
      "2bbbb8943e3a4f03b1b9f8696f052ab7",
      "0f17fb7e60f643ca8d9174af4b850bd1",
      "a67ce6a808214074bd0c475b4f611144",
      "5901d56860184e039046bfda764afe41",
      "7c9181653b9a4fb5bd215c7825be833d",
      "6be3fcc7c1fa4334ab6145b191f69d10",
      "250ba266ba7649c2a669b6aafa920478",
      "2a0f18787298496685d50fd9771817b4",
      "a31e2a0bb7d84bd09a52244ce7e8d3ed",
      "49894185fd7f49d184ea4a32df47ac59",
      "f4e20eea99a3484b9c403245c5dccec6",
      "376b7fa97f8147bdbb1368def693d31f",
      "24d50c6907ea4a2fa3543a0584223dac",
      "a4178cd44eb04f07ae7855627f5c26e8",
      "19176abfe6874eca9cb3347699bf4a3d",
      "dbf16093692e45cc9da1967175595d73",
      "0b178d8fd69643ecb64108b6ff9a5487",
      "23b12acb9a374e19bde8e219ee3145b4",
      "053bb2eb0bf84723bcb9bae8c23adfd6",
      "7cd658cf0f34457e973cf5c112ca24e9",
      "7a702aaf3b504b65b970e120ad2cbf37",
      "8537106f2f3042f78982251bfbcfc219",
      "f83cfd41f4c74188bd9779189d905905",
      "56422170cd004b0196cdb8c798f9a6d4",
      "9da3b15d7e8e432dbbbfdf6f84fe9bfc",
      "527528208344411e98ba7c87b4c84e70",
      "f8b001e621d844cc943848eac7988645",
      "0f696e3c7023411290cbdc83f681e1ad",
      "54094aff4f054f29b16e46ef20a9d40b",
      "430d98d1dd764671b84b32af52fffb13",
      "f6526b02c3d84745a32414b3bc387a28",
      "6de87d7555d14f9aa39beeba440a47d5",
      "57e9a18ebf37487bb27cffe31269fac1",
      "87779ae4e7e7488cba37895e8a6f8715",
      "3f944dcbc5984d8b84d7b52b1aa031e1",
      "97b26134ee994af88ae4f39372189b86",
      "8680b0008b8f40e2a998a2eb0de2cde8",
      "2ce372678073490fac46e75dab38e290",
      "d50bf3474f7742078c1b703264891993",
      "20d3c73023d84063aca6e9c4a6d79931",
      "0b9dc63253ae4a80ba6531100c190a0b",
      "b960cb47fce74d4797022af9e262e024",
      "86ca5854f57245e3a2482e04993f24b4",
      "99ad46de44524d0da420f5969599771d",
      "986ec17e72804b59a84c8d4d441fbe5e",
      "7bec6643b6af48f2bb616373ebebd7c5",
      "3b2968b885584df4bd8a0089a38b57bc",
      "9bc528b50af544e2828637688a16371e",
      "443744850f77440cab3c03462d7c0b45",
      "ad899fe2571c44bcad5852cab321b0f7",
      "055f0afc05814e4aa3b7a1103e274d2e",
      "ebd3f7e9ba614c0f9255cf7efdebd5f4",
      "8bfe0fd30e394d86936a4a729d6cadfa",
      "247d704ff04846c4b87d57902e01bec7",
      "5bf15309a15a4babaa21ef9a4b7c114d",
      "df9d656cff794c98a6cfa9a460e06669",
      "89f22894b8d344e5a876b566cad98103",
      "14d4ffa6c0e54eacb6f8409fcbad1896",
      "f0c40ac3b7a54ff99fc0437f7ddf47fb",
      "d6a25da0dee0416dafd19034102d3432",
      "1e26c3784783485f8a68852787425798",
      "96cbd23d57024213934ed9b1fabff184",
      "07757c95c2c14dc0a4143855e8e9d5c7",
      "0ab6fa6d5ea746a6880a28a9a8dfc691",
      "1a8b22a067344f00967b374625d0a6a9",
      "ad0f3411b28a45f2974d7ad9f96980ad",
      "3aaea2180d9d41ef8fc90b11d7c07afd",
      "9aeb7cc43e534d2cb9ff6c8180f2df11",
      "15c3045668194af292103086b1b380ab",
      "4a9587ca68744e1abae13ac9e2606f65",
      "da221d3b9b8f4c08b54f0d9ec3e94fa9",
      "84a73cdbccad40489c1b73e29f1ef897",
      "01e97da52c6d49888c1471e82cdc7c2a",
      "46b3071c3e6a4a22b425d63cc62777f7",
      "5ff8395ea2a34ce4b4f9c7144a12d798",
      "18e248da1dca427382ab60e824fe55a0",
      "5264991432124757b0ec2a7f5f9d9ee9",
      "928b7bc2ab314f21a5e23b192ee96bbe",
      "702d751874644d53be109c8a25a9444a",
      "3ff140c6115345dc91274685dfa0e476",
      "e1dedd5c595140fb91992bed73ab25e5",
      "ad9cee28ffc540669790b4d21e6148a2",
      "b1ba8d4ea370456591615c3592dd489c",
      "a9b33f915b3244ab83578ee071047dce",
      "f9e732885b164b1ca534d9e2e026c9b5",
      "f37647261d0c44f99883bba4d9c59993",
      "fba8f6ae5ce0471fab19de28c4811fea",
      "e87ec2ad8de64696afe31df83b812a88",
      "aec7afa39f504ae7b70fd34dc0288b37",
      "18312fd7926443a0be6bc1cbedd914aa",
      "3779090a74e14753b70891c248e0b120",
      "09eddc40e7494b7d946be84322c3e257",
      "1fe285a66b1e4d0db4cb4b7ddadfde65",
      "b8eca3cf476041229e06a5d90213560e",
      "40417ecda0d247198d4a9fb8bf8f4fbf",
      "b04b0d87e76c4c0faf0aca28dccba163",
      "bb0718c46df640dfb55a0dde0a556984",
      "8e40fc30fdcf489d91b35bc637bfcab6",
      "5a433dc87cfc4011b937f3081373dca3",
      "c04e75e0abf6443986a448e4fc9ae838",
      "41bf35e64e8545e4b9d97b5506ce7738",
      "cf7dc2d8d68544f2b0853e7a4ed4eded",
      "f3a3c98fbb48428cb39c59cb5e6ce9a8",
      "fc4625fc11054f029d583ff6ed80b5c4",
      "ca3dc21dfcfd404f805d7ce17ed21ed5",
      "e7ff85a197734634b762474b5a97e969",
      "8a1291f9827c4afb8894ebd6322f795f",
      "ceb5c0e618b0467bb66ba31fa06a73d2",
      "d765d93ccf5f4bdcb8de52c757be378d",
      "c14f808bd2794a7893e220c94410c54a",
      "4ac87f963ec547619f4d63df07f69526",
      "bf40dcfdab2c43358f8032465e0c7111",
      "25c9b6866cd544e39219e52d35caf57e",
      "9fec3c1ec1564b1681431c3cc667a72d",
      "8f63e0a240d84a979abcc210db7b3ba9",
      "0f2afd6e34b94530ac1edcf406b50d1e",
      "c6a056633ce64c05983e0777de7c9af0",
      "c48ff499452b494ca6f02ad63f1b94a8",
      "1df12f036a034ae1b888b27205298acc",
      "9727a981f6bf4c2fa7983e98aa9f5792",
      "faa9567e8b234abeb6a046ffe01fb81a",
      "78cbd3de19f549da880e0a7bcbce7c83",
      "3aed531a3b6e4c9bb11dc249424cc8cc",
      "b968f38bf3ba47ba9227641da0876158",
      "00b992a03b1c4d549d4fdeca56f93ffd",
      "91fe3832bd914bf9a22b9f632a813660",
      "12da9368e5474a5db7d3c8543aa23d3b",
      "e5bf333241fe45d5a6a58db6f70e3c64",
      "7dcbab9acb684909b6138461cd818f04",
      "73eeebddcade4ad99e669699a5c21b0a",
      "cd795de2b38d4af085a4b4b42af8a94b",
      "a73735f9cf5140da97eeef198906d407",
      "0183b76950014e2aab07abf22145bc34",
      "f2dd8aae9e144b0bb608885d29f6f519",
      "47c0c86d41ff42d7bbb34cf5cfef1140",
      "901aa9b49538434a81bdb665d70e79c6",
      "4cedf003ee57425b9291382fa3c242d6",
      "ac4b4860735440afb4ecb9726d5754eb",
      "28db8eab9f1b4ded81ad43bb10667ece",
      "f76a8bf1042141e7989948a874fb3fc1",
      "8ca96c20450b413b9fb9b0f84273272c",
      "fa323bee846a494aa7a519d90b5e67d2",
      "548bdde5ad3d4bb4945b37e669ea8aa7",
      "79e5f776eb5549a498e5b654c92921f2",
      "c0b7df6227a24025be1af437793661ca",
      "bba8d5db43f340dfb8ca5c512077d4f8",
      "c2c0274b90454c11af4667d1a012906b",
      "191f704af76b4336b29711ab45e7ca81",
      "3f94861ddfe645149a1741dd9e114b09",
      "a05efc8781d64d7d904b379f75414054",
      "93c566444eab4173a4df162a0b94ad1d",
      "975ded0bdcbc4f5eb735fd2cb9b63af9",
      "e94b013b5fe44fab9eb32c6f3b599c98",
      "0d518c30b8a946189fb42110ffdf2a07",
      "09bb980362dc429daa3f7fa5049af3ac",
      "c02257bf97094177a3382cf7bcf52483"
     ]
    },
    "id": "yFr4N1LPJSAZ",
    "outputId": "308a095c-a407-496f-ffa1-38cf52a55249"
   },
   "outputs": [],
   "source": [
    "# Clean import (no cache)\n",
    "if \"fusion\" in sys.modules:\n",
    "    del sys.modules[\"fusion\"]\n",
    "\n",
    "import importlib.util\n",
    "\n",
    "fusion_path = \"/content/drive/MyDrive/CALAMITI_Project/neuroimage_2021_calamiti/code/modules/fusion.py\"\n",
    "spec = importlib.util.spec_from_file_location(\"fusion\", fusion_path)\n",
    "fusion = importlib.util.module_from_spec(spec)\n",
    "sys.modules[\"fusion\"] = fusion\n",
    "spec.loader.exec_module(fusion)\n",
    "\n",
    "# ✅ Run the training function\n",
    "fusion.run_training()\n"
   ]
  },
  {
   "cell_type": "code",
   "execution_count": null,
   "metadata": {
    "id": "f2Vk6AAjRGO7"
   },
   "outputs": [],
   "source": [
    "import sys, importlib.util\n",
    "\n",
    "# ✅ Clear any old modules (even if not loaded yet)\n",
    "for mod in [\"fusion\", \"network\", \"multiorientation\", \"utils\"]:\n",
    "    if mod in sys.modules:\n",
    "        del sys.modules[mod]\n"
   ]
  },
  {
   "cell_type": "code",
   "execution_count": null,
   "metadata": {
    "id": "9n4xj-1HRI0w"
   },
   "outputs": [],
   "source": [
    "import sys\n",
    "module_path = \"/content/drive/MyDrive/CALAMITI_Project/neuroimage_2021_calamiti/code/modules\"\n",
    "if module_path not in sys.path:\n",
    "    sys.path.append(module_path)\n",
    "\n"
   ]
  },
  {
   "cell_type": "code",
   "execution_count": null,
   "metadata": {
    "colab": {
     "base_uri": "https://localhost:8080/",
     "height": 373
    },
    "id": "nljUryI_RX3c",
    "outputId": "fd0ef90b-980f-4a02-d829-0484237e1b48"
   },
   "outputs": [],
   "source": [
    "import importlib.util\n",
    "\n",
    "fusion_path = \"/content/drive/MyDrive/CALAMITI_Project/neuroimage_2021_calamiti/code/modules/fusion.py\"\n",
    "\n",
    "spec = importlib.util.spec_from_file_location(\"fusion\", fusion_path)\n",
    "fusion = importlib.util.module_from_spec(spec)\n",
    "sys.modules[\"fusion\"] = fusion\n",
    "spec.loader.exec_module(fusion)\n"
   ]
  },
  {
   "cell_type": "code",
   "execution_count": null,
   "metadata": {
    "colab": {
     "base_uri": "https://localhost:8080/"
    },
    "id": "GNBIFRmuRhrW",
    "outputId": "6b04675c-86a3-4706-af95-4a8136ea2674"
   },
   "outputs": [],
   "source": [
    "import inspect\n",
    "print(inspect.getsource(fusion.FusionNet))\n",
    "\n"
   ]
  },
  {
   "cell_type": "code",
   "execution_count": null,
   "metadata": {
    "colab": {
     "base_uri": "https://localhost:8080/",
     "height": 1000,
     "referenced_widgets": [
      "3cdd54c2ee2e4406b0d3019a0840108f",
      "53fc837e68ce48dbad2a39f5e3aeff91",
      "966881030ee848878ed913e986596632",
      "27f8b80b73d3408d91458c7b7186c2bb",
      "06194a2d4a9e4164af41733784b875b6",
      "feafe05096b94d6f94f6de3ca2da5713",
      "0437bba263bc4a48bfe36aa11b01c29b",
      "ce75a49ec4654d49b1089f9fdb05c580",
      "ebea3d0af3db42f8b5b5ed454abbb209",
      "a6e53ac9954b453c888da68ad46de93e",
      "7a0045dab1794b57a7e903429b947fab",
      "b1c1f5026ef1473b978b5056125ceff2",
      "79761bb9bea34361a9d56c2174305560",
      "ce138dfc5e244fd39054595d010b67cf",
      "da7d7d7d356642ca9c45a847bcf8b550",
      "1e0e6121a0b84345858a67d33bbd1ab0",
      "9da686590fa74c3bb4263fadf99c75d6",
      "f539ef205058460ca6370b9aebce0a5f",
      "f2d6d7662a0b4fb685f1f6e64faa5246",
      "34dd8df27f4d4c7b891f9573daf38260",
      "07a4865f7b174fae9adae9165da52bc2",
      "a477570315c34d388d5a958bb57554aa",
      "04b840a7871f46aeb730ae3d76dba423",
      "01afc7deb4ee4b84b6f22bcdc54d050b",
      "ec7b9b780eed4401afd573b81d01d133",
      "da2be9f85f8545258bd2c66d2e808169",
      "a92c9d91dc9e4d83870a634284b44dbd",
      "aa889fe8c3594f57a49bd896e866de81",
      "171316a624184c619210bc1d48c6333c",
      "29ed5f613c6c4ac69aabbd9fed5c5417",
      "0d7b1dbbdf7b4d1c89be1d946c8d8f13",
      "f9755b21d49d444a83eb7832a63d7b16",
      "a854de95070545518edf6339831f35d7",
      "5da3973f809448759dc51449452ab3f6",
      "556f95775fe843b09d3cc89091a4d01f",
      "85f7236e78b44fc4a7ea20bad3d7bae2",
      "a9e85e7b40df4b0285e4c26a93446520",
      "c852d9f8a5d545c9bbd144d30f355183",
      "69699b9bd21f46c7b56891f47f15b027",
      "213ace1fe3ab4539b340de7346088a32",
      "96c362e1329146bcba4696371060149a",
      "d0ee13f328b54c78855ce320b2ddde3b",
      "57ac6b63453146beb5e5d4c0901bb5c4",
      "c480f75f88d74b5ea583edbe7792b712",
      "6348ae9540c34b2b86f96b51a7657660",
      "023850d68efe4e7eb591ea884bdf7bae",
      "303a3cdc25684c519177802c30408dd5",
      "5ff1870f574f41f8a2a0f554d90f0e62",
      "b8e63f4a95d34c3bb725e354168c988e",
      "79fc6c0ec1f4433f8ffb84a05979cbf4",
      "33ec7b78622d4ea7bccec6358223bf0c",
      "7d175b57152e437aaff49de4cecd8067",
      "bf2329875e8346d396a8da9c3deaf3ad",
      "654166ce1b384a55b2f2d3f20073cbae",
      "5481ead64cb54c69ad071658d21c6938",
      "d98f660ee1c74d53b7f0fe356c0f79fc",
      "ef9823b492f0486d82a47b991fd9ce0c",
      "fff2f6318de1483d85d6a50c8e2bf06b",
      "cabdbed8e7db4f3ca8ca55c5f56c8dee",
      "5fd88ac0be95451b942be8dcc76f3e9c",
      "a44649f9caaf44b6b2011c33074413f2",
      "c08210d3fe41481c8da793af863f30e9",
      "acd61556a59a46149febc255286a06e4",
      "c2bedfadb1414a3eb7cd20f27a27d235",
      "4dc2f39fb3e8469e9df5969b7e9a0036",
      "73bbc68c801b41088054bfcb47afad5d",
      "11c0d606bd1c4257a6317f590033048b",
      "a915ada841d044f4bac423955f18849c",
      "966beba056fb4e37b7ee20dfbe71f850",
      "7b201d6c3a6844dfa7f1229cee77637d",
      "798fadd648d0464498611320ddf92a41",
      "880317b413404f928fa3599daa133abe",
      "e0bf8bbaadbf42819ccdac1a588c30c6",
      "ef25315831a2484dbedd295f33875bca",
      "d2d7222b9b0f4586ab6f326a0a5fd237",
      "879e123c0d394b01aba5b99331f1bab3",
      "b061eedd370c48a6a2efb469bc4b24ef",
      "b77dc7016f054b27a21c8f65cc8179e2",
      "a7b20daca2a84b39b121eee8e4d9198e",
      "6376df45b9a944aeaeee88fb577200cf",
      "7c2a1ac90827416987ff91cc81c29bdf",
      "04b9bf549b6f408dabf997c8e1b62173",
      "032af8b80a31470ca7fff805507ab4d6",
      "5d19b9099a54484eb4b23679e28a4c56",
      "7cc35e9674bb4a82ae7d895e970ada1d",
      "beaabd1136d94015bfa34457e2e8ebaa",
      "d0659ca316204b0a80a1857478ce2f49",
      "2a631b93f4534e6c99c79c7904827148",
      "01acf946ac164b5fb6b935dbe40ce539",
      "ca26a51744fc4e7aa9c6009a3e028d7a",
      "955459c3947d416abdb885ad036ae4f9",
      "ac6375ff568647a5892fb9a3402998b2",
      "3ebee73693a644f0b6f65945d2866c37",
      "3a4d3ee86b4543139082fcc1fbbff75f",
      "98648b0adbeb49c28b7d3c44d1092145",
      "40b8a1b2f917484680049e81c4d008fd",
      "5be5834604844e74971dd3e2b7f4f74c",
      "36e04492f38647e4a8555f98a3af54a5",
      "27b49ef3e0b74d8688c7c0942e26f48c",
      "6720b84cba614ea59f401beb5670be3b",
      "6e2b3671adc3486dafd41bddb7fcba0c",
      "6f95489f2d8747d3a5492c981cc7a7c1",
      "e685c9e24c5e4ccb87f79a2d85c018e2",
      "e39216cbe91a424da22f67a6f77ebe46",
      "9a6ad26c95424c249ba7137f4b04e69c",
      "db794cbdd7fd4a42a02bf8ae4282f36f",
      "bc0dddc055bd4ed485eb9e6eb34162e6",
      "54eacd0224d943c99d487244ec6528e5",
      "fb46c0a47837473c9bdcc2fc231730b3",
      "2e5f3906cc074d8eae48b54339fc6394",
      "706a1768157b47318a64efe2415348d8",
      "de52aff43c5047a593b905fdd8d30ffd",
      "1ae0f79ca9854bd8b3372268780e2976",
      "d8188ad729c842c1a2095fee19edeece",
      "9c6dc26552234faba9f73e19ec5e6191",
      "80c838ec028142a49bf35c1f87021d49",
      "905d2f940512438681df36291650707e",
      "353feb7f41334acbb558ae0a7b7e3cae",
      "2731931b465e4139a9304431822e4ab4",
      "4a053805a17e464d89fcd5cced65f38c",
      "33155932a4714443b376b1e22c095c87",
      "442986d3d0d24527a8409d27d554efc9",
      "536eb05de8f54aa88d7bd400f8e6c5f7",
      "851b2db3ef114effbab43cf2bdb9a0f0",
      "5131c743661a402e82687b311377569a",
      "b598994a6bca47aba783418c2b0113e8",
      "c2cf0513e1cb477a8ed94783df3bc502",
      "f606c37c6cfc4cb6874f3f97261183d7",
      "cdb6a1067ed845cab6d16cd92a39b941",
      "53029af9cda64500a3c67e56d4ec3064",
      "f5161c114060487b9a578add3debe516",
      "593de025ff89470ebec2531438215c25",
      "c970bad8e594477f84de324c9b7d886d",
      "3e29d968fd024a7296d3cd7e9b5c6728",
      "79152385e84b49159dc3526bed7909c3",
      "2aac190c16214be8814af7d19a30b381",
      "690286b7911846f69249496fdf904c04",
      "9e6d534a88f647aba8a1e4b4cc8d876c",
      "f597e78a625f40a5a02065360d6b6749",
      "6acbf8da37f24646afeae7509d1abb6b",
      "4c21023b707e44b68b2e06b1fce85fa8",
      "c46d38a74be942f7b554663a130f24c0",
      "9f8603c1657940498e40c923966a3314",
      "714c9ed8d5f3495eb3451ce3e6a521a3",
      "d333d3904b4a44e6ac2c8ec804022eed",
      "72d72bf7e00c4f1a809abde30d653fd5",
      "0ee6fb627916498b8f57e27270b987ad",
      "895e81e0920a4aee845d5ff9e16889a3",
      "b659b313e6a24d2c81e5c599de269616",
      "592c3dc871924deaba6fddefbf7c5ce7",
      "1bc68b354e9a4ee28beb35f853be0812",
      "a5b47c7be8024dce9531d0fdbc6c0669",
      "d8cb4ff61c69498e917ddc60c7031f8f",
      "e9ce6be206264b8a8958253d520c4f52",
      "d6164d98ef044fbabb5d9221771fc5fa",
      "f2dae2da22234aa5875c88710e2b27ed",
      "10352ff229bf4b5b95045660fcaf878e",
      "9cd82fc1a00549d4a96806140d5f6d44",
      "08c545c0cbc44d5e846cb75923d6f32d",
      "d110ff68bc1f492da1917e1b3e94a669",
      "7224c1b801e341bfaac1e40fe036cb7b",
      "43ceeb774d4b4ff19fa12c6b3c04867d",
      "97b6bf152e4c499f9d867599a11ca6cc",
      "b11f07794aa7426f80b14f90e6da53c8",
      "1f5550270446464bb1ed80465a86e5e0",
      "938e2ae0064444fe80528ecb5457b07d",
      "97ef41a54ee34e05a552491561f71ab5",
      "270feb7c25964a5fb1b00473f3f41c21",
      "d8d680a1d1654f759321dc206c7795b4",
      "3fce8122b2e747fc9383372c9c54467f",
      "bacf2a662ed44ce4a453ebbdcfbaeb33",
      "54c07c29c8f3417aa82d5a85471d5aa4",
      "56712f3314bb4ec3a1fc779896be6a4a",
      "723b145b43b0429bb610822f72dd3bc4",
      "63ee907b933c4ef8b5f718b3d4b96b80",
      "5227a5cf84c54a12bc97e89b0abb25c0",
      "a78675105f1d446ba2da4a29b1728f58",
      "0ae1baef4a894901b210cf7a6699f0a2",
      "05411f2567754edea83dea9d74dbc1d8",
      "f18d34f8d94c4bd2986cffb61314f8b7",
      "6cd1394a9d5142668bd21ef06f072cac",
      "0b029bb4c9b049458f9a5fc65250570d",
      "1f8f9939ba234068a47059145c80bc0e",
      "2928528038d549b6b68bec5c303ce946",
      "91fb1dd806dc46ea90d94d0a4a52d927",
      "2eb6d8ac74dc419488df35c37a43028e",
      "0a5dc216057f49c2a0b60ac353029d9a",
      "d3ca8722e65a4a748c5ab3da48279401",
      "814f571f63bc40e68c942f5772cd0df0",
      "355948ab6961479e8c5a4ba6ae8f9ac7",
      "f2d7cdc824d74789922262e4d80e2999",
      "2046f7b56f8946f98fdbd855311558af",
      "f65c9cbe2e9e4fde9996e12bad3a80ee",
      "46797e0b0ec5479ba4bf8c37f36f3ff2",
      "211dae6a25ed4748a5701d4984552713",
      "40dfb3b57dbc45dd924a68996511f941",
      "0046f5ccedea40f6b13e29ce3d9582c0",
      "4932290145474b6bb3ec39a448a21f76",
      "9d896f809e0b45aabf22669b016e246a",
      "e4665ffd478842208ef24cef44ca93f8",
      "cad1acc7cb364953b8bc2bb4f896c125",
      "d435a2c9fbd7486abad1360dbe0a0e2a",
      "79fdea0f311f410d951fb35616949794",
      "2efb5269c8054d93a783740bce2a223a",
      "41f762a3d620488692b708027f19c47b",
      "63cee998aee34e9c871ccaeadc323290",
      "da7a2219625a41aebe38d7a92c1d401b",
      "6e46ad2c85ff4e80918623f216139b51",
      "48421ae9036849c7bd2bd81f46f96f9d",
      "e981f4c09f394972b189b6f7fa9fb045",
      "23615d144a5b4f138a458467a3973994",
      "95063426af0e42f1babd1a61ba6aa234",
      "bdde7a43c1db4762b3c1125c27d61f5f",
      "edc5a14df47743178196123f32c1d719",
      "3975fecc61f848c99daf5b47fb1f9dd6",
      "8531bc18ecef48b9b736fa7ac26d3c3d",
      "040a3799e2204e2ebfb49c4e5a9c4a79",
      "3cc062b13d6841d4b3659739f28d724a",
      "ecc9d1bc87e34cdca7974bf833ccd127",
      "6b0d4979ecc1473b93fe76a57a67b3a9",
      "31a12689e93e463995bd9d664838a0bc",
      "3b1efca4b1ed48a0b813dcfbf947ab1c",
      "9665e30c832a4ee6b6ca8fb70a176b28",
      "7d40f3a4910a4ecf990f03e27fea9813",
      "4f4a6142442b42bcb043e889f4418cd5",
      "201b81bb8d2641ec969b98ba07b51414",
      "6929d5e9699e46a583d78c2496246abb",
      "802c4f86a8ce48818bfb498ca1226448",
      "956e2da3ac0941a9af32c24f68119f92",
      "5f878eb25d324957b3e97bafeea6d9d4",
      "7ed80b7cfc8741c1aade203a0bfb3fe3",
      "99391f51c9794f9fa4f9989fdbf9f00a",
      "7477c65f082f41e487d8bde37486d4b4",
      "f5db33e667d74f2182ca7d5308e29de1",
      "79660e1bf0144ba7a723dd2ddeb30267",
      "688ff92aa3d242aea454811b3b101d41",
      "4fc2528566f748aa8c8fb8e7151f04df",
      "b4bd3fd69a514c87b0b135af9e36aea6",
      "c07aa594ea22411b9040feb006913f85",
      "ecf9388ef1374501abe2dea6cc34df34",
      "c0d1085248384b23a1a82dd6995c666f",
      "75e46b802e29441b862db4f5ebbaac63",
      "2054446241f84ae09c6e39abd7b1b785",
      "9b15bcc170a040cdb7ffe58f609de989",
      "25fcb81d97bc455d870067b9918bed8a",
      "1135b7761c9c4ad6ae9caaa842401c11",
      "ed90b11148164934bdca7058278b7cc6",
      "76fe2305d3054cb6894376c60e5f33c9",
      "29e4d669aeb5434e8788d53fd7b7ba99",
      "046bd50e78204073a238beafa5ff66de",
      "9bc1fd81598f4ed98be44ee106fa2800",
      "fc79f7019838491498c950a7e9d11127",
      "4fbaf6c3ae2a40558f1a2b37a453e481",
      "1f47feba85e845bcbaa86603875f8760",
      "7f343751e2b94d3ea3c2fb653fc17f1a",
      "aa72cae830c844cf8bc6781ec0e0abbf",
      "f794c58d7fa94583a8d209e6f19c3a84",
      "2967be4368e943d0906756b0bc804436",
      "a095373883854396a44566c051225845",
      "2923446cf68c41d9b5461522867550bd",
      "df788cdf2b8a4908b072a506efbea6b1",
      "de50b4c7fe314c958df9e4a900a85bc6",
      "62af745df9db4d308dec0a4a4b831579",
      "c8fb7b15f172486da56ea91d5f44603b",
      "97f8ea87ea794aad874db8383968e294",
      "f6386b91404d417c8a40065e4132b640",
      "2d2c2c08f8d24357a804351118149a3e",
      "65212c3db6d64b86beeb2bc712da962e",
      "60f990dea26f4d6ca90706fcb55a36a7",
      "f647881474f34092ad070c3e89ec4264",
      "51c63bac995640bf8c8a90dae3fba4db",
      "86f9e08f10c14122895c14f5ac7a5ec4",
      "b06e4be32ed9453e97919336ab6b1d4c",
      "fbfa21626c794c6f854f515384b45606",
      "883130cd1b2148f285188b9c941f1f75",
      "f8281510cda74a798a373085ae9f4e92",
      "d65ed721012f466c923300311301f211",
      "4b9036a880e346d6857a9e96a49e8772",
      "97fac8b546204480ba9d1ef672b2a27b",
      "76467871f82d4107911d68cd05a1c443",
      "45882dea8d6f41f79460c76632c743ce",
      "d2a79befc26c41f7888a65123f8d5354",
      "4580b2d0e53f497aa9fd6e4114ec292b",
      "5a4686986a254450b84fc6870f2f4656",
      "6aeebf4b179c4ca285c173ed97fe7e2c",
      "db616d782e004c3eb7752138a70b4bc0",
      "f59a73e6994441e481a6129691b57711",
      "aca930d30a38485d899832aa049651cd",
      "2dc78dcd33b749d8a3986838776053fc",
      "183e5927bac84192b8d7830fb18d3dae",
      "eb98f275c2744e88a43a3a7bb4f23047",
      "0abdb883f4574c28a27b5f5341bd2552",
      "0deec203e7db4522af1688e4d94ddf80",
      "94ce6b15b96f40aebfa047d9365ce9c4",
      "a75f1767fd3446889d66cda6fe5a022f",
      "0a4292c2498c4018833ec646c1c16bd4",
      "2a085b46d8464b8c800af5afa2a446fb",
      "7462d194f5284d0a90978f20843c1ad3",
      "bcee77faee0f469aa7c49ab83dfe7fa0",
      "1b709922f09748cab4fd26954d016ef9",
      "244272b4af1b446b9e2c0d25e05e8917",
      "b4e587c155b545cb8f1bd8d7f4efea79",
      "dbc6ddf10c984b42bcf89195047a6f7a",
      "01c55774205b4358818744613e840b3e",
      "a60dbab79b134b11a9d36fab07bd4b10",
      "20f244d70f544bc39bdf43f9ce7b6629",
      "e2ec92a0e3bc4daa8f5f29dc14243709",
      "1350b044296343c38899802352f86892",
      "e5008d5be0f74c588c03672121b5a587",
      "bb322ab68e8946ab97102807d1cee097",
      "52233a87640448879de26fa3c8a8dfec",
      "2ab7b5cc6d8842eabe23e1473bc1ce9d",
      "4c2c871cbb4c45d1855bc7dd31433802",
      "8d51a2127d204ef9942e380c56c26043",
      "63458d4b011b418d83739428b9902e39",
      "94d1c2002ec54f079ae97d8980a73fbc",
      "18f8d9bc07b64c868aac573b83749ea3",
      "eed79616dbd744a1b9093f1b8dfa024e",
      "9211f6a2f4b747d791fe10b2f6ccc9a4",
      "3f11c0dbe8ca4cb694dbd326d6137302",
      "a105950484fa40628e3013f8029266c8",
      "5498947a668d47d9b6b5d26e2ca4c0f1",
      "d9745f88fb784aafa490b2cfc79ed7eb",
      "59a6a527dca841f69a889ca4421fee2e",
      "ea9359d25c9744eb9c6424ed30b89e5f",
      "474ef89c2dcf4acfb9731d1ddcb6b92f",
      "e37e71f1e7e0478fbb51a1104c4e866b",
      "e577cd831b424775bf98d6aa1c7d7608",
      "b8ac749653ac451181f1428c309cd3cf",
      "7643a2cf3be64187bc1b60119e878066",
      "49e9dd6035bd4c109a1546a0dd091aa0",
      "10e9a0bad5fa4973ae192e82967099cd",
      "738f6b68c20d43fe90487ec84112d0d0",
      "9bd55fc07cbe4bfa84c012eb6c492672",
      "a910773f69c445c395c69a1469e41d59",
      "bf2effb046794fd5acfd1aad9169e210",
      "ac2be515cd59408299d7cbeb6aa6bc4d",
      "46c24d3cc6e6477c93c5a27ce991061e",
      "1e3c159f30804b3c8cb0962590f5986c",
      "64b2e59b65c04e5eb2a7c3e366141cf7",
      "283bba047bfa4952881e396d920b1465",
      "f954984811cd447486c1ec1fb17d0907",
      "2fa2367286bb41f39ecaae72e1f1ef92",
      "12015f7c597b48bdb0211474a1cfa2c4",
      "d262d622043f4fb79cdb13d92026a9fd",
      "a38326af4bca4ba781f5601c51ab13a0",
      "72fff8fdcc8a44cb9b53a0765ebb151e",
      "11e558fd9b40488bb8100dadf36436de",
      "274ede3e4e07431789e29e235b850906",
      "829a80e4a9784673a4f9eabec43b5815",
      "02d5cfc2a0134fd9ae9d08368c964269",
      "dfed065c7c784b2d894afa20ab74436a",
      "c474c66100ab4f2781bb829554780e84",
      "d4813a59b968490588fe23676bffd397",
      "c6cb2c9b24ba491fb02c7438ec9f1207",
      "956ff7b1ab5e448989ec31122320582e",
      "94bbfa9765554c83a8d18eddaf06653a",
      "e352da88a380465f98bf113fa5ac13a4",
      "f910f6847000442a9423264cd1475f01",
      "a8b543b57d364064918563188732503c",
      "3c61c28390304690a259de13893601d0",
      "85d1cbcca7e24652b5cfa4da5c96ebf3",
      "3f73d84ff7b94d3f97aff5b4887e3ad5",
      "fa32ab4e78fc4350b35353a630248efb",
      "2f0e3b03230642fe801b9add2475a7e5",
      "957fa29d4f144f50a96b06bb9efa545f",
      "817a1095ee3148a2a1457e33e18f8320",
      "426dfadec271459fa72a48664d9662ae",
      "e493eb7e73404170a23074a438e5b81b",
      "42147dde11f04459a7cc1a53c59cd55b",
      "c722f3730579488a8b620ba7bc1237b9",
      "3a0d568d6a6c431fa8896ddb6be02c7e",
      "114350d1eb51413aba6458dc64b5eb6b",
      "1be63c06f80449b984b7caa55e1450c9",
      "be1c3ab3ad6a402e96da593611496897",
      "aa9747222109433ca3ea8d98739ad5f0",
      "ee977b89a3d843929469f966815c1648",
      "d619231e4acd483e80fcc0a69841004b",
      "0bf19e5bf8714db7b140c4788bda3625",
      "cb34af7537564f598e404f8784b5937d",
      "f6b03c91d4a040f09cd6a151e14680d9",
      "a04a120c3f334df0b13bd806235f6fd0",
      "076e07ab3f724351a9a26e730d7b2c56",
      "320415c9f893457280437d1380811e85",
      "9170210684154d3791125e3c81ea7471",
      "cdd1eb688c46436ca65dc1ec17364184",
      "a10535aad0c241f8a0c3b44752a01a51",
      "229077bf181342cd88b06aaa49f38b75",
      "0e1d98a444a54205a4cda2ebf802c513",
      "d785822b7025490fb77026be7de64ef7",
      "0e5526af9ee349caa3cabdc839fbb3f2",
      "192670ee58da4fed8c4f1a60364ce597",
      "5641ba59550a4151b853d151df53546b",
      "9caa8c7ae32e484eb0a0b651e31949a0",
      "585e1fb3bd874dce90fdbfdbd2e9c17b",
      "16d476e72ac542a1a047f31d8a9d4990",
      "2e8cdebb97ab48e183d38086339155d9",
      "6b9044e6f1f94d50b8186d0c02434e9f",
      "08204d7a21664bbf96dc1b43a1a08c46",
      "88c297d4582f43e2a3d5999b3e7be24d",
      "ec54d21ae0a84466ac667af7094cea9e",
      "eebe7797242842e09ab71ab772f00d4c",
      "4ee4239311034172a1edd27e75da9627",
      "7887fe404e3d4953bfa2fb11e39c9625",
      "e315bed560964ca281076471ed4a2cae",
      "1aa23562145d4c5393459607771bb6fc",
      "5e3ecd6c623542c9bc9f906d8459c075",
      "69cbb08bdb19488ea2ce03d0a90a47b0",
      "2d6d18c811424b76816a5f83fb0a75bf",
      "83afb663cbeb499e838a0e12260674df",
      "47562fff8c814a00a135e48ca6f32c07",
      "65da18bd16e04fbfbaac8b0f511c4e0d",
      "38769deaefc542c092130dfb6a1b4082",
      "a63910a7faf643079864ca668201fe32",
      "d716eef1fadb40a4b5da826dccf4521b",
      "415e9d4ca30a4b968976e5dc260c7e1a",
      "9e74d0d55fbe40d2b8eaf7a8f1fe105c",
      "ddbe1e8daf534b7da7c6cc961d1e9d42",
      "794145de6f2f4cf99c59a383d15e8404",
      "11812c126d4245e5b15b63abcdd1a1e4",
      "783a6b7727484c46bec9372a76c1c262",
      "34e5a7cae20a412f972a2da4ef122778",
      "22fe732fe1d74410a3f29d5f62879a53",
      "84a0a94cde694eb184a071294204788e",
      "94c7b1f110e94b70b32b63c5b1c54b24",
      "a5d5839455d448c0b4b0fe894b94130f",
      "e3204a617c294933b378968adabeee47",
      "81ce05ed5fc84ad69adc69f0f5d88b11",
      "a86ccaa209e14187b3882741f49d8dae",
      "b956fbdaf57148d79fa92212c01689a6",
      "b0d8ca9dd3bf4a2bbec4d16246a23bf7",
      "3ad2308fef9643948c8c2806b01c0ca7",
      "baab55a277c44286b9724ad3a2dcf735",
      "78009fbdec264e95b75464b34fcfec15",
      "b05789dda9644fb8ba2d2ca8ce8281a4",
      "3af0768e17854c24b57780094ef713f1",
      "cdf38ca864984d14b509db5314460f8f",
      "14a1448139104b83b47f3cc0f5a73f96",
      "b426416f846d40639126b35de525fccb",
      "7b5d883058c14365a3e2491f23dc5063"
     ]
    },
    "id": "fUEYgG8VRo92",
    "outputId": "cefa1b7b-b9cf-43f3-9719-0a41811eaf83"
   },
   "outputs": [],
   "source": [
    "fusion.run_training()\n"
   ]
  },
  {
   "cell_type": "code",
   "execution_count": null,
   "metadata": {
    "id": "ktBTCyJzlG3i"
   },
   "outputs": [],
   "source": [
    "import torch\n",
    "import matplotlib.pyplot as plt"
   ]
  },
  {
   "cell_type": "code",
   "execution_count": null,
   "metadata": {
    "colab": {
     "base_uri": "https://localhost:8080/"
    },
    "id": "SuSVwUONlI8h",
    "outputId": "f4f184e1-6dd8-4f19-a84d-b1336004cbf3"
   },
   "outputs": [],
   "source": [
    "import importlib.util\n",
    "import sys\n",
    "\n",
    "spec = importlib.util.spec_from_file_location(\"fusion\", \"/content/drive/MyDrive/CALAMITI_Project/neuroimage_2021_calamiti/code/modules/fusion.py\")\n",
    "fusion = importlib.util.module_from_spec(spec)\n",
    "sys.modules[\"fusion\"] = fusion\n",
    "spec.loader.exec_module(fusion)\n",
    "\n",
    "# 🔁 Reload the model from checkpoint\n",
    "network = fusion.FusionNetwork(\n",
    "    pretrained_model=\"./output/models/fusion_epoch020.pth\",\n",
    "    gpu=0 if torch.cuda.is_available() else -1,\n",
    "    data_path=\"/content/drive/MyDrive/CALAMITI_Project/neuroimage_2021_calamiti/sample_dataset/slices/default\",\n",
    "    data_name=\"T1w\",\n",
    "    batch_size=1\n",
    ")\n",
    "\n",
    "network.load_dataset(network.data_path, network.data_name, batch_size=1)\n"
   ]
  },
  {
   "cell_type": "markdown",
   "metadata": {
    "id": "cCFtGhF2lZII"
   },
   "source": [
    "Trained output over T1W"
   ]
  },
  {
   "cell_type": "code",
   "execution_count": null,
   "metadata": {
    "colab": {
     "base_uri": "https://localhost:8080/",
     "height": 404
    },
    "id": "63FCOemslObu",
    "outputId": "a23fdbc3-4af9-4470-a5ee-60457224627c"
   },
   "outputs": [],
   "source": [
    "# Get one batch\n",
    "val_batch = next(iter(network.valid_loader))\n",
    "\n",
    "# Move tensors to GPU/CPU\n",
    "device = network.device\n",
    "axial = val_batch['axial'].to(device)\n",
    "sagittal = val_batch['sagittal'].to(device)\n",
    "coronal = val_batch['coronal'].to(device)\n",
    "target = val_batch['target'].to(device)\n",
    "\n",
    "# Create input tensor and run inference\n",
    "input_tensor = torch.cat([axial, sagittal, coronal], dim=1)\n",
    "network.fusion_net.eval()\n",
    "with torch.no_grad():\n",
    "    fused_output = network.fusion_net(input_tensor)\n",
    "\n",
    "# 🖼️ Visualize the result\n",
    "plt.figure(figsize=(12, 4))\n",
    "\n",
    "plt.subplot(1, 2, 1)\n",
    "plt.imshow(fused_output[0, 0].cpu().numpy(), cmap='gray')\n",
    "plt.title(\"Fused Output\")\n",
    "plt.axis(\"off\")\n",
    "\n",
    "plt.subplot(1, 2, 2)\n",
    "plt.imshow(target[0, 0].cpu().numpy(), cmap='gray')\n",
    "plt.title(\"Ground Truth\")\n",
    "plt.axis(\"off\")\n",
    "\n",
    "plt.show()\n"
   ]
  },
  {
   "cell_type": "code",
   "execution_count": null,
   "metadata": {
    "colab": {
     "base_uri": "https://localhost:8080/",
     "height": 195
    },
    "id": "vyCEs5Sxl2SK",
    "outputId": "d5083292-cefc-4de4-ad58-ee0a44f71cf5"
   },
   "outputs": [],
   "source": [
    "import matplotlib.pyplot as plt\n",
    "import torch\n",
    "\n",
    "# Set model to evaluation mode\n",
    "network.fusion_net.eval()\n",
    "\n",
    "# Get one batch\n",
    "val_batch = next(iter(network.valid_loader))\n",
    "device = network.device\n",
    "\n",
    "# Extract and move inputs to device\n",
    "axial = val_batch['axial'].to(device)\n",
    "sagittal = val_batch['sagittal'].to(device)\n",
    "coronal = val_batch['coronal'].to(device)\n",
    "target = val_batch['target'].to(device)\n",
    "\n",
    "# Fuse inputs\n",
    "input_tensor = torch.cat([axial, sagittal, coronal], dim=1)\n",
    "with torch.no_grad():\n",
    "    fused_output = network.fusion_net(input_tensor)\n",
    "\n",
    "# Prepare 2D numpy arrays\n",
    "axial_np = axial[0, 0].cpu().numpy()\n",
    "sagittal_np = sagittal[0, 0].cpu().numpy()\n",
    "coronal_np = coronal[0, 0].cpu().numpy()\n",
    "fused_np = fused_output[0, 0].cpu().numpy()\n",
    "target_np = target[0, 0].cpu().numpy()\n",
    "\n",
    "# Plot\n",
    "plt.figure(figsize=(15, 4))\n",
    "\n",
    "plt.subplot(1, 5, 1)\n",
    "plt.imshow(axial_np, cmap='gray')\n",
    "plt.title(\"Axial View\")\n",
    "plt.axis('off')\n",
    "\n",
    "plt.subplot(1, 5, 2)\n",
    "plt.imshow(sagittal_np, cmap='gray')\n",
    "plt.title(\"Sagittal View\")\n",
    "plt.axis('off')\n",
    "\n",
    "plt.subplot(1, 5, 3)\n",
    "plt.imshow(coronal_np, cmap='gray')\n",
    "plt.title(\"Coronal View\")\n",
    "plt.axis('off')\n",
    "\n",
    "plt.subplot(1, 5, 4)\n",
    "plt.imshow(fused_np, cmap='gray')\n",
    "plt.title(\"Fused Output\")\n",
    "plt.axis('off')\n",
    "\n",
    "plt.subplot(1, 5, 5)\n",
    "plt.imshow(target_np, cmap='gray')\n",
    "plt.title(\"Ground Truth\")\n",
    "plt.axis('off')\n",
    "\n",
    "plt.tight_layout()\n",
    "plt.show()\n"
   ]
  },
  {
   "cell_type": "code",
   "execution_count": null,
   "metadata": {
    "colab": {
     "base_uri": "https://localhost:8080/"
    },
    "id": "iDmOZ860RznJ",
    "outputId": "bc7ae491-fbff-42cc-e23e-7342fa9906d3"
   },
   "outputs": [],
   "source": [
    "fusion.__file__  # May not work directly; alternative:\n",
    "print(fusion_path)\n"
   ]
  },
  {
   "cell_type": "code",
   "execution_count": null,
   "metadata": {
    "id": "0G_8fE7OTmFC"
   },
   "outputs": [],
   "source": [
    "import sys\n",
    "sys.path.append(\"/content/drive/MyDrive/CALAMITI_Project/neuroimage_2021_calamiti/code/modules\")\n",
    "\n"
   ]
  },
  {
   "cell_type": "code",
   "execution_count": null,
   "metadata": {
    "id": "BBepk1QbUAbn"
   },
   "outputs": [],
   "source": [
    "from multiorientation import MultiOrientationImages, custom_collate\n",
    "from network import FusionNet\n",
    "from utils import mkdir_p\n"
   ]
  },
  {
   "cell_type": "code",
   "execution_count": null,
   "metadata": {
    "colab": {
     "base_uri": "https://localhost:8080/",
     "height": 1000,
     "referenced_widgets": [
      "2fa3a93d95cc48b5a7eefd3b1886675e",
      "ef1d05480f9f4facab39ffb4475e6ed0",
      "f5b2bbc8f3da4b3b82775af391f47108",
      "9eb288d8001240539ff364906c99dc21",
      "83f559e357a243c081d5eacdd63dfef4",
      "ba8dc9a867c24c86a425af714b07d7d7",
      "aa73730ccc2249be996205e9c6496ece",
      "6b61a0a9a0564cfaaf304f48ce7b778d",
      "e1f419dfec67446ebf5f72f27c834155",
      "870cf009fb8f4fd1ba382d2536313847",
      "3ba801334a5940158a437be41269f8a2",
      "44d2ea70f66f4dc7a874c95d8c5b2937",
      "d3d448f2452543a399a064d317e004d8",
      "0a03843683c44458b41736dd1c74eb7f",
      "3547f8c6e08d483bb6d3c0ae3514fb33",
      "3aa5b44a03a74577ab5159cb37b4883e",
      "81640e9ed18742938698a9f1c6581e03",
      "8117a2fdb58d45b88e7e3b4b5e29c328",
      "cab2b608ee75445c8a2a1cb50c62a2c3",
      "d28ca6da6b694d678e3cc388b033edd8",
      "c9a2e2823bce423296444239c8f8f9ba",
      "dda6175602144e8ea0811b0fc4f4e243",
      "d3eb5546b96b4a0e9ae0a2d27c717b64",
      "df1e7aa402c941b1812ba325095cb462",
      "baf4d57c0d584d8bb8445a1227f7f7c0",
      "2af52fd17e1142b4b776d0ce6ec567ad",
      "0dbc9c8068bd4ceca23ff52b92015789",
      "a32a15d28be149f2ae80405230ac3ffa",
      "c6f2a18fd64745e8b696b73e9305f420",
      "489eb2540ea2410a8b226e4532dcd2ce",
      "d159f06147d440609381f41d71e25247",
      "d7be4ead35cc49249268fce4ac21d6f7",
      "624c865cd80948c8a21603a9c0af76b6",
      "2723ce2fef734da7b47a2067306d27e1",
      "fe5d588a514b4119a6d725da0c812815",
      "1880a10f0fb14645bf9bacca77ae91c3",
      "e0f4638850e54e23af575d7fb7724e46",
      "f15ac59c6bca4288869a161206df5bee",
      "b55c97dd1ea44af9abbf5f1cfbf02811",
      "da96860aa1e34035af45af3e0ee74cc6",
      "2d65b136352849adae491451a6339d0a",
      "3256b89233e8434da4c069c8f7b6e690",
      "0ba57b876f68459ebd59a42c6fd8aa4b",
      "5c67a6ac5d8b4096a732220354908e5f",
      "8473e468fc3f4da8b1b5f89de15ec3ae",
      "c13afe07cd114464a54f8cef1a59afdb",
      "96d2fa477ba447989c7de8aab8a57dd0",
      "5efba741044b416d8d9a65662aac89f0",
      "6dd9b9d3a440488484f4569b0cdf86c5",
      "25d9ee57bcb3405e8a6a430fb34b0e48",
      "a118f93a39de4d54a5ef4ac18edca27f",
      "f77634340be7442f83be51983a87c9b6",
      "5a4fa975eb7048feb34b261af2d9575e",
      "53173834e98b4534b6152a118e91ae08",
      "e7ddd23cf5634d6aaae3eed175fa06a3",
      "1b8553e42dbd4a76a704c82d720c1a80",
      "8d18dbb9b1594b2ca6c9477ba816b399",
      "adaee0926e4d4a5bb5d757effbac878d",
      "1872fbbaad8241fe9ebf01cc92fe83f4",
      "d84e853b493545099f3fc16c94ced6d0",
      "a82008a512fd47699c049b0aad53bf2e",
      "0922531343384ed1af2c101207eeaf7b",
      "e217eebc92f341a19319c1b805b5ed60",
      "4e311191b2484c1b8550e99eef8f64e1",
      "c2c94c19dd734a79974174b62503e4ec",
      "d5f625e5a0c4499894d9e8a275cc0f59",
      "11fa4f06300d43d3b718c02c9ed3d219",
      "53376f7cd48148a189cdfe0a1cc9a3cb",
      "436201c359574c3bb6cf759baec0d246",
      "c6c3e1850f1641278711146f5b64f552",
      "4f0a6ac9cf27441684421a8adbb92159",
      "8a064310f5304a7f9be730a8adadd8e8",
      "3a0e42d2b59d405087368f98d61b5a49",
      "da17388b8a8b47aa9288500384bc4de3",
      "a611592a07984e9a95666b2d1b1d8edc",
      "9d2bdb1d5f2846d18559ece3ab875c98",
      "fee08b3ec3c7491c886d85dbe0c49c8d",
      "cffc214e7dd247f0857838fb89870be6",
      "ef95d0dfd9dc4120837120a3fee3e6da",
      "747bac7cba27418fb1d2a70ed6c01eb3",
      "ecfcf159e9fa42e59ad74857be68fa0a",
      "a3f7d22068af4b8bbc0b01311a99e478",
      "b5d638b94ef64798b91e53c61e8ea638",
      "7d65e01e2cc34a7ea9225f8d4e283889",
      "82b65aab533142768e26fc161ee85e55",
      "5ede2c00249047b386da0a318d78949d",
      "260ba675e25c4212ba225e2aafc82bd0",
      "c8071c335f9a4c4a83e6da487f322f80",
      "f18fc5897fe5483fa82ac8a48de15ae8",
      "40855befa8924c9ba5f77621239cb830",
      "e106c644bc144a91baf81aaff07052d4",
      "ddc50ba99b3b4e36a9ad2e07471b3f28",
      "42441b7bb83e4e718eccc13e75ca92a1",
      "1f7a838742f242ed91b94cf188e4a1c8",
      "80fc24a5898240cb80e423fd7d185150",
      "b8a91eda9dd245a09b741396360647a6",
      "5adf4857e01c4ebb9ca135d7e1628b84",
      "26dfdda566634e56bfe20238f0ef48f0",
      "0c5fb42c61074b09afbac951708b074c",
      "f4a420b8f0574a808918aed5bfdb42fc",
      "761d96eea8904c259d93ce7eef467897",
      "cd5d3232744945cda6980ebe7a378a32",
      "5f8d4cb7d90e45298aa9730cbdc989c3",
      "f958f6a048f0406aa2215ddd8491b14e",
      "c4a14bff41694f93b626b8f163a8dd31",
      "69c718e2fa6b4fedb12a85a8ad18a6f6",
      "72246a80a5a642f480e7919c4b80dcb0",
      "ac148340fbc64b99871527d6a32e35c4",
      "825aeec762294bd5a51d2351a5f59ea2",
      "e7e0fd0b21a249a78f762c686a374999",
      "6a788648b063437caaa58b0632817d3a",
      "e740866d211547fe9080e57c801f02a0",
      "482bea2b070a4093bed82dac4285739c",
      "999f868643ab469d90cfa46f1ec16cbc",
      "e0c2b29c5ba14ba99939d45d628b22d7",
      "057c7df4dc144636ab28fac1c3c8340b",
      "c5158afd92cb4db4be0b64d00877fbf1",
      "6eadf2ff57d645dd8c2809462bfa65f8",
      "b73e5c4352884222aa8e3aed78c5eceb",
      "aab0fa36e5434b42ba0ebd701cd91609",
      "314c3d1f2bc44ab681aa715a67b5e201",
      "d000507d96a34be8b5c6bf6eee2536ac",
      "7712d7aa992c447e95c0e06b357133e4",
      "7c7d7434fe49441da51b4c94f7ded6b3",
      "86f07a033e944a1791a4dd6ec4054be6",
      "04a63d6cf91a4e9e8646072c74b7438c",
      "29c9a33cc15447058b9c13698b4d3761",
      "fd4d77aa6729444c8558742fab5785cd",
      "74f639b4437a4310acbb9a8bc96ad475",
      "9c23f9629a26450cbc98ef98396c1f11",
      "b5d11a3663f84ff98a5d6f930006e2ab",
      "7ac5441040524ca48df9323508ed2f16",
      "d31a723dc93841f1878bd6c87bc38cc3",
      "bb179c4b15d447268f77a3ebee288207",
      "4a0eeb5cf016466cb425b2724d241ad8",
      "a1dc17a531b24006b802c58b606f16f5",
      "e7e363abdd504cbda9faafc63cab05b5",
      "5fdc34e9c20b4fc988c4d6a8c2f9a272",
      "952ce8a577cd4b8a8f089cf145069019",
      "72cb4c581a4e4083aded3e66d11b8882",
      "de03a29279514f909308c5c775040d91",
      "6c0be1ae666c43149f48c85d7cc6aad9",
      "ba1fb8939b0847a7820dcfbe56fbe56b",
      "48dbbd2df1c949e68beee03d0fd84f9a",
      "d7fcb4dd0f1f41bbb1e63e1ee69b6c0d",
      "28d3b6983ed948f9bd59b596039895c1",
      "6b1613022af34cc2bfdcd6f55c6125e8",
      "4b69dd4cdba14c75b420d7481e9ab6cc",
      "9bf5b36b90fa420bad13cd7ca67bc7d5",
      "c337eda75b864e3cb361acdceb61a409",
      "bec38027a88446219512b982afde3fe7",
      "a35e1fff26a643bdbb00daaa1d802a73",
      "82c79ff37ef845708b48463d2facb155",
      "59d98c8b83f84f20b3f942cefdf94231",
      "5c9ffa2257504a41bc2afce3be4457ae",
      "f7f536e1267747c8ae6e09f68fdc3dca",
      "53317bd5300a4b379f386dcff6c0dc78",
      "3fe39337f9af40aa9aeac89ea9bfaa4f",
      "b815aef9a7b84f269831befed3086631",
      "c9b98fddbb6e41359679bf4005402c78",
      "e49248d342134088b030d68cc06c0ac0",
      "8b8465d598f74560be0b779471b0c9d5",
      "f3962831cd7f4bc8b56fdb287c287f22",
      "75ee87f128ce41cdbcfa63facb7dd633",
      "2dcd162a396947808fe0d69c2a3c64f2",
      "b1775a8f51284244ae6181aa54a9e41c",
      "bb175b6df35c4f81ba5a15ed57636675",
      "d3cb1e85a0b244cea60175a0118bda47",
      "2561d3017399416cb888ce3ce76cac07",
      "999b70a3ea80446ea8279d0c7602bed7",
      "580113af41d649f781bc807e62d71593",
      "787e059611064e18a151c9fe3a5ccfbe",
      "fcc633d69a0c46108116c908b44d05ff",
      "80f86314468c4fd2bb7e219cd41db4fb",
      "d2d6506403a04947acbe0ccc25a2cb59",
      "7e1b3bef9112494da08ce5680f9030e7",
      "8bc48b118c944ac289dae87788ea7313",
      "6500b33f3a5e4b3eab9c8ff630fde182",
      "e2351e9bf8d14472ba4137bd07bccc9d",
      "8546071ec103471786716e2ab353c494",
      "afd1162ad0ac4a0ba8db8b07934d8436",
      "d8c4da6386f04489a9dc787c8983f9ba",
      "a68c5a250c054b53b29c17af7a0cbf39",
      "f8f3a36a3a2a4d5ab9fc32c9bd5f999d",
      "ca9cc52c600e4bc38803df60de70b6db",
      "f07c284ba6c04778b709cccb90e30f9d",
      "0545a305749240fe9d278c4d1f6f9ec0",
      "185d052b17ac486d8fdcdbdd307a88e5",
      "fd020fb4593f445eb2f7b753bcf2b8a2",
      "6478932d1a954757ad60a3899fdabbc1",
      "5f181f6321f44f5b9503fd5b92c7c1a0",
      "7986d268370043f5bfd49e0004e21e8d",
      "aa036f78de204544bfd0b178526ef21d",
      "2d4db5a06f0840c483dd46ec83885f17",
      "92f94d49209e47bbb8464241a00e67e8",
      "07585f1347b04a069c93f3cccc16a0cc",
      "7aa92b122bbf4cb5b7509ad72fb50c76",
      "75cfa696796f4fa89b511d21f5df7828",
      "4a7d934035104f5e9099cf6145e06ee7",
      "7b0087f8f54241d3a6fcc03412891333",
      "94a77e8c9a254acfa8850be308f8222c",
      "a79800440bcf4b839fc7e2a76a5faa0a",
      "8323db70e0144c33b308eb3f13858a79",
      "b2d943e659d943ea9aeed2a34820242f",
      "98ce3ee934664a15b25a3fe989a49cf9",
      "06afe9620e1048bb85e65192fe2de141",
      "06f1f6873ca24fc7ae6704b0396c717b",
      "9ac94bf179754ccea732bd1beb27f42d",
      "af59111cd365426e8bc393a6811fa001",
      "42f8b5a7168a43d79864b74f9adc1f3f",
      "f4fd3006f3c740269c1e4a95ef561640",
      "22d38b519f504ad98c723da65edddea0",
      "3963b58fb37f46f680343a339f169361",
      "3d27f6206a7a482f892967ab60f91d14",
      "936affd542c64d7b90570a2bc85323bd",
      "7ec4a7fa4ec54e9fba27df4edc38cc97",
      "cb7f723aac75405ab2d2241a2d49f434",
      "c20fc40376b24ddbb26de28017c51301",
      "df2c8f1adebe40448dfbecf0c3f48e93",
      "1c36a2538771448eae1741e85383b0b1",
      "2d434518bb654f13a246afa93bd9db46",
      "9688ab37670842b1b287f41e52387713",
      "76fe69c16bf847a99f05ec9f71eb33f4",
      "92fada253df840d3b0450c871ba45374",
      "dc0e3ec893f64a18adf801c11fcc37e2",
      "2b47416f52604497b895c1d5f7c7fdb3",
      "b935ba56eb5d44a3a671033b6b96d31c",
      "783bc77dd501413fb1c75fe5fc4669ab",
      "b5a31ea6187449d58b05f16f1e48a67e",
      "47e97ab9412a4b07b4abfcf74491c03f",
      "f3fe535d678f41f88c72200a8c8a2c3d",
      "28f58c0e667d41079a7af4376764d99e",
      "3413daf11b7f4f3587b2081fbd815dda",
      "6ef463581c664ca5a6ee7eff02b8840a",
      "0ee76403513448c9a9e045b012d9e13c",
      "bacd675d706e4455b469c75e0a0f4fee",
      "5abd3930c770460abc35ccef69b04c5d",
      "9209772f1b8546439261062647a7a819",
      "aac4772d3c04407c9e01cd2663def28a",
      "6174ab359f1b4fb3a4624a9077f6a299",
      "25036356aa754059835232e5541ac7ab",
      "d2d5d9ac6c1e4b69882de4c6af9e351d",
      "dd69658ba81a43fe8bdf0c9a3f816b34",
      "dfc3dfa3de294122a4e3408604359fa8",
      "6533640fb1624911bea57fdca8bddf3f",
      "bb790a0b94634a1b8aa170842f2be1d6",
      "8065de051abc4f1aadf4ce65c39cf134",
      "daa863860ace404f92b17a8c1e7e2560",
      "0e8b29c9aa054054bdb95e622df55b2f",
      "fd45e57143724d79a2276aa69cf9fe38",
      "ac90ac847b3c4d47b327323bafc006cf",
      "f5329c1719794268a971a3825dad300c",
      "bea58fb3f0d047128571cf0938fb237d",
      "2eecf8a613d247b586dffc61b42e528c",
      "01058dd1942f4871ba5a2135b027f2f6",
      "9a7dec0c7a344fddbd5ce0b97921ed51",
      "21f7e8ed96d24c34b60c8aaeecab0344",
      "aeb45039bda54af3acf3c71d30a56b91",
      "da7d7290629b42f7a5e67dfbbc960fac",
      "9d2b80c06c2f4cb7adeed38c92702f8b",
      "cf3bc24f0c0941b988fc2937a7d390a1",
      "da521ce65768473680a5db23bfdfcb2f",
      "65361d9e87794f78894f9da8620a8160",
      "aa93922e37934f08a2b0c9fce2420af2",
      "3889749c79f7469bb0cca18d997f1f52",
      "f5787823a4564795a35873627f88cfdb",
      "7c54254a34ec4ab88d7e000ba5061c43",
      "b3f11b6f259a489f818ea6d114b2aa26",
      "834be5b2ccb04d70b23662dc37587bad",
      "3f791f87093e4ab791af0191b734a85b",
      "c05b23610d8348f38d7a9c083158dfc3",
      "20941c314e754cd095647a967b08fea6",
      "a4de7f88bcca49abb5b4cb5653574036",
      "76c14123641941baab4223456bf5a3e6",
      "d5031701c0084a30bacafc96633fefd7",
      "b8af11a2a601488db123804d7ee661ec",
      "81e3a86bf0804a13b6d5681f0d6ffb5f",
      "1d238873c946491885c07deed7d161c7",
      "30fb3ec7d9944685a826d6d6d1f6b868",
      "3fae3ae5f6d746aa8e6cccc84dc9291d",
      "2aa61e9efadb450a87bda60a68368e8c",
      "2f2d05a8faec42e7b6a3a0f8fa03468b",
      "a50caf63b4fd4a9f85d2fef9f2b0cf79",
      "5c5a49db4e1240e78ab5866f5cf38578",
      "395f1e85461841a5ab9a6051b89420b2",
      "70d8974d133342bc80311dbf313d45f8",
      "42de325bad1d47d29a9e05fba9f73086",
      "cb87a0237c3c4175b72a131d5c370bbe",
      "b9654691362e4eaf8330ff0a4e18da81",
      "d00435ee8ac54d869156c66031ea85d2",
      "acaff6e6c71a4b7dacc618ba574f160c",
      "167d43b90d67415f85f1491d40bd0294",
      "54cff27ccaff493f99d87bc6b6a3d011",
      "95783f1c300a4bc79a8af57b36404cdb",
      "04c7e77781ba4b8d9fc5edc55c120849",
      "f5ccf7dce11e4c3c97e9e8efc2203521",
      "524ecb4a1aa6460fa11395a99c6fac52",
      "dbc7f63f4d2845389298e3413afe4d92",
      "cdda6a80e5154403bb3ad05f2b24143c",
      "6cd139a81b224e8089311eb27c2d555c",
      "8e2aa2546fa6416285483a12f8e432ad",
      "597d756b5e2345bd9a36d60ef6be17b2",
      "3a632ca471ca4880926623096ff9a6f9",
      "4edf56b9303d46f5a82bc5252cd9cb3d",
      "f713189c1afc4fa99617ebba96d0160c",
      "ba1c549a719f437bb2887e60610c4c0b",
      "49c83dd8d3b8441e819a84b6308d3e64",
      "ee8eaaa1baaf4c7b85a25de660349898",
      "c1143d992c3440e687ce8e864e54baba",
      "27ec7c096ac84eecaefdaa8fe06683c3",
      "103eff7529544432afee9bc91f55917f",
      "ae22e9d92d5240ee8cecf2cd9eb25ee6",
      "a586fdb106dd4e6fb2ad02c36faa2fed",
      "172a1b6e4ef743a9ae7c6acbe8d0c658",
      "27c8345c9c8c4e8bbd33eb46c37d4bff",
      "c1f1981ed6a24b499a3b4751f2d7b61e",
      "ecab9112b3a043f89ef5eae6356ab972",
      "9748617419674ab9ae391d326cca0658",
      "794188373f554932a4848a73bc26cf24",
      "ac94b96743764dc7bb80f945b6bbf358",
      "cf8232aad20f45b7a42352827f3e52d5",
      "e1602ac93c164f20bd6a11a875cfbd5e",
      "17ffd8e6d87f49188e6bf41b4c1a9b39",
      "6d3dda08dcc445b2b9d638b67d993d70",
      "038969066317491586b73cc37d024a38",
      "c4b0052ae500499da709548ac43de459",
      "67e6a7780d5f4c50a84b0cff94fa353e",
      "deb4d9c2b3e54ad2ac967d3982152112",
      "17ca38cc1a5943fbb224f892b4350527",
      "b21ed03feab04b499f98a836ac427d36",
      "58a7feffa9da4f468b8cc672295770fb",
      "7beac36844044cfab00a42d0ea64df81",
      "cdc8b304dde44d2d92c379ebb5517b1a",
      "cdd1db1f5b3345b5a93580f70930967a",
      "e2af722b73a849629498f5964dbd931f",
      "adf753bf487541a89d5dcb25009d5f71",
      "b5e3751dfbcb4273a108a9000f7dd5ba",
      "16c165c5b4de447a9546fcd83b19c75f",
      "e692a4a2c9e84bde801dd5c5796fe2ba",
      "4ebe5ad417c94af6bf4efbe54f4d170c",
      "cfd28b7d28044feca9fd2dffe0321e4b",
      "f718453c725c4e599e9151be66660a21",
      "450c411c5cc6470a8796933858363e80",
      "f3461cea39cc47129291b7631aa3c7c4",
      "103ff732916a4dedaf2e150834b04a58",
      "a342ee2fde444a1da136e2c6ac568d07",
      "89d145e0368b47daa3899e4f6f7daee6",
      "29f85650537142b5abbfff0bea321c2e",
      "ec0b81d4acd24d53ad795832bd11af67",
      "32121a636a0c430f8ff452917cf3bd51",
      "60e84832e506445eae29e26f4b3496f8",
      "900d418a08884306821f5a4a6e85e48a",
      "c0451086e9a4422aab168bdd428094d1",
      "094569394a344715a8077a945c0edc76",
      "db4d82827fa84cec9053ebe06868e037",
      "bfbdfca914324093bcd95915c8b63a6d",
      "b6af46c2d0294a7db36a999d1ef8e014",
      "b91c527b005d48c3be16edfe753bc8ad",
      "4f7c2b3e08fb45e6b8414407404b7b02",
      "d96a61d731a74532915cff67f87485d8",
      "e77be56fbfa94817ba407c5be816bde4",
      "d0d1301ff03344fb9c822ce207e7eb68",
      "c20ebd59651240be84f1b49ef5950fa7",
      "b16cccfd43b54773a584b90c6d87c272",
      "45fa535f63814271b437bd65dd6631dc",
      "c5ab9fe6a5374c618afc60be69da1c35",
      "df1b0cea44d945fa9e947784e279e8c9",
      "47218095f00243349b19dbdc9d07201b",
      "1525017a4800433a90d633b24f19f160",
      "595ad432272a4ea394c457b53412256e",
      "6cbf88d90c6c4ef98dc236b665e9be8f",
      "d19a70b1062e4824ae24b32fccaba497",
      "3e4e3c9fb6864e8dbcec24ba5c0f1c87",
      "ac7f6e4e56994f7495bbe3aa741849aa",
      "ce0215a7bd694508b7498239fd1a0ee8",
      "5c9811f71d864fdd92a99768a6b8eac6",
      "c991e333d9294b60a015d40884b954c5",
      "8a86728f99ba4851bc37972b543d65f6",
      "bada000e74774cb08bfcfe0a6df75f17",
      "35c82ee4328f4975a1039693e9dcd6fe",
      "29c007435ed04d628351b3cec9e39f13",
      "0180753c4ab247b482747c218062e628",
      "8c29ff9d0c3a4162861d65f01acb2a37",
      "c9016cc5fc024e27b3bd1fe18c18ca30",
      "f51955ce1af9499b996ba174c504ab4f",
      "d12cf2b4fda54a109d3bb6c3000f3a07",
      "4d9f2684b1524a54b8b3f23ce222ef03",
      "0442802e08234e98a19702ab121263ba",
      "3c4aa2db0c354331aaabe82025ab05c1",
      "a5bb3a03fb154b2bbfd308dea1e619f0",
      "b3c46a024b454c11aa77ee4b50dcd019",
      "c8eb0c6738e04e21b380008dd388a419",
      "2eedc153f063452dad669bacca9d4d85",
      "4011cdae5f864c3d824dc88a9d24d651",
      "16ca1f5369a9480bbaa2d73a51dcebfb",
      "4cf76ba895044ac283f596843e7aada3",
      "44080f0c682f490e93047bbc10885e5d",
      "245ec30309024bb39e1d3d7cde5558ab",
      "a9f7d16fa42c4aaea0980a9b7013b1f0",
      "e0031d12db114ef59b1c96b794e249e0",
      "21f39da92d3c4da1930dcb008107b5d9",
      "be9c934339ae484f83665c15c0ef022d",
      "ad5002c2677f492f957ef203bb352655",
      "b97d0ea4c2154fb486279336bcf283c2",
      "f59931994e4643138f8d332f86dad0cb",
      "553815ae9fc449208548ed05b950f700",
      "191859cb7d1349e78ccb499f94125d3f",
      "38351a061983475a95782839c75e9ede",
      "f7f1d2bba1a94949ac8bcab22b67c26e",
      "f2ffa4d694ee445d843fa3b1148e18af",
      "415927da13e74bf7b32f6c5ecfe7dd3a",
      "e847ce240da3433c9d78672b677562e1",
      "6b6ca9221183405c8bef36de2191b171",
      "feff14b567d94406af812d5e8a1cb3ea",
      "d4d7362d4bb34b44b2c3bcc398eed9fc",
      "eadaef94aa544c4ea90a1ef770d8e0b8",
      "d50ea2792f3841968fc1687836757485",
      "32305c5b1ee64e2d9f1ca82a77cdab44",
      "ce430c762a254787a97aef21a489c718",
      "f7e966e3f4484281ac97cc890d47cd4e",
      "8ab428339c2a45ff8918dcf95ef1c3e6",
      "922dd5fd2ea64d43be34a4fedbf2c2dc",
      "619eefdc148e40968a8a44e0f9e16dfb",
      "4b09bb4b41334f7c9a2eeb0bd306de14",
      "69b8ff48db384a6ba631e4d4d7fc0e6b",
      "b1840c315c3a47a3a246d295d8c0703e",
      "4aa5a390455f471ab0ce047d37fbaf88",
      "8f9cc917e8634c63861a064b58bba62b",
      "89336751b5ff4f69ba919108962ecf39",
      "6d74c12064f645f88e2b19b4bd9765e5",
      "cfec1f95d9354d339a28e9036a415aaa",
      "4013ac61931d46f08f46a2de1e6e1a42",
      "65a61571d57b47be8f45b5169bfa1f4a",
      "e25b9263e80d49bb909b52900d9409c1",
      "e419add1292f471fb7e9e19b4b2534f7",
      "f835bbef25864258a13b24fbf805c267",
      "c14f668e46f04185835d373249fe4c89",
      "0c45da7509304ad1bf08da854e609567",
      "4650cfea9dca495f821eef3332c2aaca",
      "97fc078e74d743ffb542118c548ec5dc"
     ]
    },
    "id": "XDoMb7wSUCxG",
    "outputId": "4b2bbd3a-08ff-4798-ab02-fdd9cd76361e"
   },
   "outputs": [],
   "source": [
    "import importlib.util\n",
    "\n",
    "spec = importlib.util.spec_from_file_location(\"fusion\", \"/content/drive/MyDrive/CALAMITI_Project/neuroimage_2021_calamiti/code/modules/fusion.py\")\n",
    "fusion = importlib.util.module_from_spec(spec)\n",
    "sys.modules[\"fusion\"] = fusion\n",
    "spec.loader.exec_module(fusion)\n",
    "\n",
    "fusion.run_training()\n"
   ]
  },
  {
   "cell_type": "code",
   "execution_count": null,
   "metadata": {
    "colab": {
     "base_uri": "https://localhost:8080/",
     "height": 211
    },
    "id": "F3fj6CNGV4zV",
    "outputId": "0b798e73-e4e2-40f3-d148-1f8f538e2121"
   },
   "outputs": [],
   "source": [
    "import matplotlib.pyplot as plt\n",
    "import torch\n",
    "\n",
    "# Set your model to evaluation mode\n",
    "fusion.fusion_net.eval()\n",
    "\n",
    "# Get one batch from validation set\n",
    "sample_batch = next(iter(fusion.valid_loader))\n",
    "\n",
    "# Move inputs to the same device as the model\n",
    "axial = sample_batch['axial'].to(fusion.device)\n",
    "sagittal = sample_batch['sagittal'].to(fusion.device)\n",
    "coronal = sample_batch['coronal'].to(fusion.device)\n",
    "ori_img = sample_batch['target'].to(fusion.device)\n",
    "\n",
    "# Concatenate multi-orientation input\n",
    "input_tensor = torch.cat([axial, sagittal, coronal], dim=1)\n",
    "\n",
    "# Run model\n",
    "with torch.no_grad():\n",
    "    syn_img = fusion.fusion_net(input_tensor)\n",
    "\n",
    "# Plot fused vs. original for the first sample in the batch\n",
    "fig, axes = plt.subplots(1, 2, figsize=(10, 5))\n",
    "axes[0].imshow(syn_img[0, 0].cpu().numpy(), cmap='gray')\n",
    "axes[0].set_title(\"Fused Output\")\n",
    "axes[1].imshow(ori_img[0, 0].cpu().numpy(), cmap='gray')\n",
    "axes[1].set_title(\"Ground Truth\")\n",
    "plt.tight_layout()\n",
    "plt.show()\n"
   ]
  },
  {
   "cell_type": "code",
   "execution_count": null,
   "metadata": {
    "colab": {
     "base_uri": "https://localhost:8080/"
    },
    "id": "nueV3KDbWwqK",
    "outputId": "3ff28853-e8dd-4beb-cbcf-611ab2a406f0"
   },
   "outputs": [],
   "source": [
    "import importlib.util\n",
    "import sys\n",
    "\n",
    "# Load the fusion module\n",
    "spec = importlib.util.spec_from_file_location(\"fusion\", \"/content/drive/MyDrive/CALAMITI_Project/neuroimage_2021_calamiti/code/modules/fusion.py\")\n",
    "fusion_module = importlib.util.module_from_spec(spec)\n",
    "sys.modules[\"fusion\"] = fusion_module\n",
    "spec.loader.exec_module(fusion_module)\n",
    "\n",
    "# 🔁 Train and capture the model instance\n",
    "fusion_model = fusion_module.run_training()\n"
   ]
  },
  {
   "cell_type": "code",
   "execution_count": null,
   "metadata": {
    "colab": {
     "base_uri": "https://localhost:8080/",
     "height": 211
    },
    "id": "aV7EsMgBXv-r",
    "outputId": "04346668-04f4-49b8-bfdb-62f98da11cad"
   },
   "outputs": [],
   "source": [
    "import matplotlib.pyplot as plt\n",
    "import torch\n",
    "\n",
    "fusion_model.fusion_net.eval()\n",
    "sample_batch = next(iter(fusion_model.valid_loader))\n",
    "\n",
    "axial = sample_batch['axial'].to(fusion_model.device)\n",
    "sagittal = sample_batch['sagittal'].to(fusion_model.device)\n",
    "coronal = sample_batch['coronal'].to(fusion_model.device)\n",
    "ori_img = sample_batch['target'].to(fusion_model.device)\n",
    "\n",
    "input_tensor = torch.cat([axial, sagittal, coronal], dim=1)\n",
    "\n",
    "with torch.no_grad():\n",
    "    syn_img = fusion_model.fusion_net(input_tensor)\n",
    "\n",
    "fig, axes = plt.subplots(1, 2, figsize=(10, 5))\n",
    "axes[0].imshow(syn_img[0, 0].cpu().numpy(), cmap='gray')\n",
    "axes[0].set_title(\"Fused Output\")\n",
    "axes[1].imshow(ori_img[0, 0].cpu().numpy(), cmap='gray')\n",
    "axes[1].set_title(\"Ground Truth\")\n",
    "plt.tight_layout()\n",
    "plt.show()\n"
   ]
  },
  {
   "cell_type": "code",
   "execution_count": null,
   "metadata": {
    "id": "nJ3IKP7OYgwu"
   },
   "outputs": [],
   "source": [
    "!cp ./output/models/fusion_epoch020.pth /content/drive/MyDrive/fusion_epoch020.pth\n"
   ]
  },
  {
   "cell_type": "markdown",
   "metadata": {
    "id": "LCQLKjD3n83o"
   },
   "source": [
    "**FINE TUNING**"
   ]
  },
  {
   "cell_type": "code",
   "execution_count": null,
   "metadata": {
    "id": "8JxRa-SQuvpZ"
   },
   "outputs": [],
   "source": [
    "import sys\n",
    "import importlib.util\n",
    "\n",
    "# ✅ Add module directory to Python path\n",
    "sys.path.append('/content/drive/MyDrive/CALAMITI_Project/neuroimage_2021_calamiti/code/modules')\n",
    "\n",
    "# 🔁 Load fusion module\n",
    "spec = importlib.util.spec_from_file_location(\"fusion\", \"/content/drive/MyDrive/CALAMITI_Project/neuroimage_2021_calamiti/code/modules/fusion.py\")\n",
    "fusion = importlib.util.module_from_spec(spec)\n",
    "sys.modules[\"fusion\"] = fusion\n",
    "spec.loader.exec_module(fusion)\n"
   ]
  },
  {
   "cell_type": "code",
   "execution_count": null,
   "metadata": {
    "id": "_cBPHx9QvCF6"
   },
   "outputs": [],
   "source": [
    "from multiorientation import MultiOrientationImages, custom_collate\n",
    "from network import FusionNet\n",
    "from utils import mkdir_p\n"
   ]
  },
  {
   "cell_type": "code",
   "execution_count": null,
   "metadata": {
    "id": "qe-WJihM0fMV"
   },
   "outputs": [],
   "source": [
    "from tqdm.notebook import tqdm\n"
   ]
  },
  {
   "cell_type": "code",
   "execution_count": null,
   "metadata": {
    "colab": {
     "base_uri": "https://localhost:8080/"
    },
    "id": "u9C10PVAw-yS",
    "outputId": "95d089a4-ea1f-4eee-8fac-095b34954c5f"
   },
   "outputs": [],
   "source": [
    "import importlib.util\n",
    "import sys\n",
    "\n",
    "sys.path.append('/content/drive/MyDrive/CALAMITI_Project/neuroimage_2021_calamiti/code/modules')\n",
    "\n",
    "spec = importlib.util.spec_from_file_location(\"fusion\", \"/content/drive/MyDrive/CALAMITI_Project/neuroimage_2021_calamiti/code/modules/fusion.py\")\n",
    "fusion = importlib.util.module_from_spec(spec)\n",
    "sys.modules[\"fusion\"] = fusion\n",
    "spec.loader.exec_module(fusion)\n",
    "\n",
    "# Run fine-tuning\n",
    "trained_network = fusion.run_finetuning(\n",
    "    checkpoint_path=\"/content/drive/MyDrive/CALAMITI_Project/neuroimage_2021_calamiti/output/models/fusion_epoch020.pth\",\n",
    "    fine_tune=True\n",
    ")\n"
   ]
  },
  {
   "cell_type": "code",
   "execution_count": null,
   "metadata": {
    "colab": {
     "base_uri": "https://localhost:8080/"
    },
    "id": "NWNufTvjxCcB",
    "outputId": "9b1cdf74-2256-487c-be61-b44b743a23aa"
   },
   "outputs": [],
   "source": [
    "import importlib.util\n",
    "import sys\n",
    "\n",
    "sys.path.append('/content/drive/MyDrive/CALAMITI_Project/neuroimage_2021_calamiti/code/modules')\n",
    "\n",
    "spec = importlib.util.spec_from_file_location(\"fusion\", \"/content/drive/MyDrive/CALAMITI_Project/neuroimage_2021_calamiti/code/modules/fusion.py\")\n",
    "fusion = importlib.util.module_from_spec(spec)\n",
    "sys.modules[\"fusion\"] = fusion\n",
    "spec.loader.exec_module(fusion)\n",
    "\n",
    "# Run fine-tuning\n",
    "trained_network = fusion.run_finetuning(\n",
    "    checkpoint_path=\"/content/drive/MyDrive/CALAMITI_Project/neuroimage_2021_calamiti/output/models/fusion_epoch020.pth\",\n",
    "    fine_tune=True\n",
    ")\n"
   ]
  },
  {
   "cell_type": "code",
   "execution_count": null,
   "metadata": {
    "colab": {
     "base_uri": "https://localhost:8080/"
    },
    "id": "J13F7zQQ1tRi",
    "outputId": "1637984d-dfe1-479d-b797-8a3f4acad58f"
   },
   "outputs": [],
   "source": [
    "print(\"Train batches:\", len(trained_network.train_loader))\n",
    "print(\"Valid batches:\", len(trained_network.valid_loader))\n"
   ]
  },
  {
   "cell_type": "code",
   "execution_count": null,
   "metadata": {
    "colab": {
     "base_uri": "https://localhost:8080/"
    },
    "id": "E4wdinCK2DQx",
    "outputId": "886795d5-868d-43fc-dcc8-2341850820cc"
   },
   "outputs": [],
   "source": [
    "from torch.utils.data import DataLoader\n",
    "from tqdm import tqdm\n",
    "\n",
    "loader = DataLoader(\n",
    "    trained_network.train_dataset,\n",
    "    batch_size=1,\n",
    "    shuffle=True,\n",
    "    num_workers=0,\n",
    "    collate_fn=custom_collate\n",
    ")\n",
    "\n",
    "print(\"Checking manual batches:\")\n",
    "for i, batch in enumerate(tqdm(loader)):\n",
    "    if batch is None:\n",
    "        print(f\"❌ Batch {i} is None\")\n",
    "    else:\n",
    "        print(f\"✅ Batch {i}: keys = {batch.keys()}\")\n",
    "    if i > 4:\n",
    "        break\n"
   ]
  },
  {
   "cell_type": "code",
   "execution_count": null,
   "metadata": {
    "colab": {
     "base_uri": "https://localhost:8080/"
    },
    "id": "dnd0KD3vzvtl",
    "outputId": "60db2940-6a26-4c4f-c541-1fa384e57c57"
   },
   "outputs": [],
   "source": [
    "sample_loader = next(iter(trained_network.train_loader))\n",
    "\n",
    "if sample_loader is None:\n",
    "    print(\"❌ Batch is None\")\n",
    "else:\n",
    "    print(\"✅ Keys in batch:\", sample_loader.keys())\n",
    "    for k, v in sample_loader.items():\n",
    "        print(f\"{k}: shape = {v.shape}\")\n"
   ]
  },
  {
   "cell_type": "code",
   "execution_count": null,
   "metadata": {
    "colab": {
     "base_uri": "https://localhost:8080/"
    },
    "id": "0EbFyK2B0Ags",
    "outputId": "d97e25d0-2c1f-4e93-bbc7-798ea155f160"
   },
   "outputs": [],
   "source": [
    "ds = trained_network.train_dataset\n",
    "sample = ds[0]\n",
    "\n",
    "if sample is None:\n",
    "    print(\"❌ Sample is None — data likely missing or failed to load\")\n",
    "else:\n",
    "    print(\"✅ Sample loaded:\", sample.keys())\n",
    "    for k, v in sample.items():\n",
    "        print(f\"{k}: shape = {v.shape}\")\n"
   ]
  },
  {
   "cell_type": "code",
   "execution_count": null,
   "metadata": {
    "id": "khZP6mrVwhM0"
   },
   "outputs": [],
   "source": [
    "import importlib.util\n",
    "import sys\n",
    "\n",
    "# Add the module directory to path if not already\n",
    "sys.path.append('/content/drive/MyDrive/CALAMITI_Project/neuroimage_2021_calamiti/code/modules')\n",
    "\n",
    "# Reload fusion\n",
    "spec = importlib.util.spec_from_file_location(\"fusion\", \"/content/drive/MyDrive/CALAMITI_Project/neuroimage_2021_calamiti/code/modules/fusion.py\")\n",
    "fusion = importlib.util.module_from_spec(spec)\n",
    "sys.modules[\"fusion\"] = fusion\n",
    "spec.loader.exec_module(fusion)\n"
   ]
  },
  {
   "cell_type": "code",
   "execution_count": null,
   "metadata": {
    "colab": {
     "base_uri": "https://localhost:8080/"
    },
    "id": "yUrcqypBwiuQ",
    "outputId": "f1763e91-958d-4427-dc44-9f328bb4106a"
   },
   "outputs": [],
   "source": [
    "trained_network = fusion.run_finetuning(\n",
    "    checkpoint_path=\"/content/drive/MyDrive/CALAMITI_Project/neuroimage_2021_calamiti/output/models/fusion_epoch020.pth\",\n",
    "    fine_tune=True\n",
    ")\n"
   ]
  },
  {
   "cell_type": "code",
   "execution_count": null,
   "metadata": {
    "colab": {
     "base_uri": "https://localhost:8080/"
    },
    "id": "eOvGA41-vQ3L",
    "outputId": "3c6dec44-8107-4e6f-8cd0-1b8c911f8b59"
   },
   "outputs": [],
   "source": [
    "fusion.run_finetuning(\n",
    "    checkpoint_path=\"/content/drive/MyDrive/CALAMITI_Project/neuroimage_2021_calamiti/output/models/fusion_epoch020.pth\",\n",
    "    fine_tune=True\n",
    ")\n"
   ]
  },
  {
   "cell_type": "code",
   "execution_count": null,
   "metadata": {
    "colab": {
     "base_uri": "https://localhost:8080/"
    },
    "id": "VXlMCVlisag_",
    "outputId": "6e173ff2-3bf8-4313-8464-e8ef1789fff6"
   },
   "outputs": [],
   "source": [
    "import importlib.util\n",
    "import sys\n",
    "\n",
    "spec = importlib.util.spec_from_file_location(\"fusion\", \"/content/drive/MyDrive/CALAMITI_Project/neuroimage_2021_calamiti/code/modules/fusion.py\")\n",
    "fusion = importlib.util.module_from_spec(spec)\n",
    "sys.modules[\"fusion\"] = fusion\n",
    "spec.loader.exec_module(fusion)\n",
    "\n",
    "# 🚀 Now this should work\n",
    "fusion.run_finetuning(fine_tune=True)\n"
   ]
  },
  {
   "cell_type": "code",
   "execution_count": null,
   "metadata": {
    "colab": {
     "base_uri": "https://localhost:8080/",
     "height": 332
    },
    "id": "oMlfhtJLbpkY",
    "outputId": "61f1151b-cc25-42cb-c80b-3ebc3dbf8526"
   },
   "outputs": [],
   "source": [
    "import matplotlib.pyplot as plt\n",
    "\n",
    "# Load loss logs\n",
    "original_log = \"./output/training_log.txt\"\n",
    "finetune_log = \"./output_finetune/training_log.txt\"\n",
    "\n",
    "def load_loss(path):\n",
    "    epochs, train_losses, valid_losses = [], [], []\n",
    "    with open(path, 'r') as f:\n",
    "        for line in f:\n",
    "            e, t, v = line.strip().split(',')\n",
    "            epochs.append(int(e))\n",
    "            train_losses.append(float(t))\n",
    "            valid_losses.append(float(v))\n",
    "    return epochs, train_losses, valid_losses\n",
    "\n",
    "e1, tr1, val1 = load_loss(original_log)\n",
    "e2, tr2, val2 = load_loss(finetune_log)\n",
    "\n",
    "plt.plot(e1, val1, label=\"Before Fine-Tuning\")\n",
    "plt.plot(e2, val2, label=\"After Fine-Tuning\")\n",
    "plt.xlabel(\"Epoch\")\n",
    "plt.ylabel(\"Validation Loss\")\n",
    "plt.title(\"Validation Loss Comparison\")\n",
    "plt.legend()\n",
    "plt.grid(True)\n",
    "plt.show()\n"
   ]
  },
  {
   "cell_type": "code",
   "execution_count": null,
   "metadata": {
    "colab": {
     "base_uri": "https://localhost:8080/",
     "height": 398
    },
    "id": "xSm6_V5NlFhr",
    "outputId": "c51729c5-0075-4a3e-f18e-3cbc50e3493e"
   },
   "outputs": [],
   "source": [
    "import torch\n",
    "import matplotlib.pyplot as plt\n",
    "\n",
    "# 🔄 Get one batch from validation loader\n",
    "val_batch = next(iter(network.valid_loader))\n",
    "\n",
    "# 🎯 Prepare input and target tensors\n",
    "axial = val_batch['axial'].to(network.device)\n",
    "sagittal = val_batch['sagittal'].to(network.device)\n",
    "coronal = val_batch['coronal'].to(network.device)\n",
    "target = val_batch['target'].to(network.device)\n",
    "\n",
    "input_tensor = torch.cat([axial, sagittal, coronal], dim=1)\n",
    "\n",
    "# 🔍 Run inference\n",
    "network.fusion_net.eval()\n",
    "with torch.no_grad():\n",
    "    output = network.fusion_net(input_tensor)\n",
    "\n",
    "# 📊 Plot the results\n",
    "fig, axs = plt.subplots(1, 2, figsize=(10, 4))\n",
    "axs[0].imshow(output[0, 0].cpu().numpy(), cmap='gray')\n",
    "axs[0].set_title(\"Fused Output\")\n",
    "axs[1].imshow(target[0, 0].cpu().numpy(), cmap='gray')\n",
    "axs[1].set_title(\"Ground Truth\")\n",
    "plt.tight_layout()\n",
    "plt.show()\n"
   ]
  },
  {
   "cell_type": "code",
   "execution_count": null,
   "metadata": {
    "id": "_oL_TGlSa3Hh"
   },
   "outputs": [],
   "source": [
    "import importlib.util\n",
    "import sys\n",
    "\n",
    "spec = importlib.util.spec_from_file_location(\"fusion\", \"/content/drive/MyDrive/CALAMITI_Project/neuroimage_2021_calamiti/code/modules/fusion.py\")\n",
    "fusion = importlib.util.module_from_spec(spec)\n",
    "sys.modules[\"fusion\"] = fusion\n",
    "spec.loader.exec_module(fusion)\n"
   ]
  },
  {
   "cell_type": "code",
   "execution_count": null,
   "metadata": {
    "colab": {
     "base_uri": "https://localhost:8080/"
    },
    "id": "wY7r6kDHdAUX",
    "outputId": "eed5fb13-6d73-4483-ac10-205af07bca23"
   },
   "outputs": [],
   "source": [
    "import fusion\n",
    "fusion.run_finetuning()\n"
   ]
  },
  {
   "cell_type": "code",
   "execution_count": null,
   "metadata": {
    "colab": {
     "base_uri": "https://localhost:8080/"
    },
    "id": "fhebbuEgtJUR",
    "outputId": "f016a820-5e78-4435-e60f-eebb0255be16"
   },
   "outputs": [],
   "source": [
    "%cd /content/drive/MyDrive/CALAMITI_Project/neuroimage_2021_calamiti/code/modules"
   ]
  },
  {
   "cell_type": "markdown",
   "metadata": {
    "id": "dJUEDKWEpUSG"
   },
   "source": [
    "**CYCLEGAN**"
   ]
  },
  {
   "cell_type": "code",
   "execution_count": null,
   "metadata": {
    "id": "RcvLbEIKusLB"
   },
   "outputs": [],
   "source": [
    "import os\n",
    "\n",
    "folder_path = '/content/drive/MyDrive/CALAMITI_Project/neuroimage_2021_calamiti/code/modules'  # change this to your folder\n",
    "file_path = os.path.join(folder_path, 'cyclegan_fusion.py')\n",
    "\n",
    "code = '''\n",
    "import torch\n",
    "import torch.nn as nn\n",
    "import torch.nn.functional as F\n",
    "from torch.utils.data import DataLoader\n",
    "from torch.utils.data.dataloader import default_collate\n",
    "from tqdm import tqdm\n",
    "import os\n",
    "\n",
    "from network import FusionNet  # This will act as Generator G\n",
    "from network import Unet       # This can be used for Generator F\n",
    "from utils import mkdir_p\n",
    "from multiorientation import MultiOrientationImages\n",
    "\n",
    "class Discriminator(nn.Module):\n",
    "    def __init__(self, in_ch):\n",
    "        super(Discriminator, self).__init__()\n",
    "        self.model = nn.Sequential(\n",
    "            nn.Conv2d(in_ch, 64, 4, 2, 1),\n",
    "            nn.LeakyReLU(0.2),\n",
    "            nn.Conv2d(64, 128, 4, 2, 1),\n",
    "            nn.InstanceNorm2d(128),\n",
    "            nn.LeakyReLU(0.2),\n",
    "            nn.Conv2d(128, 1, 4, 1, 1),\n",
    "        )\n",
    "\n",
    "    def forward(self, x):\n",
    "        return self.model(x)\n",
    "\n",
    "class CycleGANFusionNetwork:\n",
    "    def __init__(self, dataset_dir, modality, batch_size=1, lr=2e-4, lambda_cycle=10.0, gpu=0):\n",
    "        self.device = torch.device(\"cuda\" if torch.cuda.is_available() and gpu >= 0 else \"cpu\")\n",
    "\n",
    "        # Generators\n",
    "        self.G = FusionNet(in_ch=3, out_ch=1).to(self.device)      # Axial/Sagittal/Coronal → Fused\n",
    "        self.F = Unet(in_ch=1, out_ch=3).to(self.device)            # Fused → Axial/Sagittal/Coronal\n",
    "\n",
    "        # Discriminators\n",
    "        self.D_Y = Discriminator(1).to(self.device)\n",
    "        self.D_X = Discriminator(3).to(self.device)\n",
    "\n",
    "        # Losses\n",
    "        self.adv_loss = nn.MSELoss()\n",
    "        self.cycle_loss = nn.L1Loss()\n",
    "\n",
    "        # Optimizers\n",
    "        self.opt_G = torch.optim.Adam(list(self.G.parameters()) + list(self.F.parameters()), lr=lr, betas=(0.5, 0.999))\n",
    "        self.opt_D_Y = torch.optim.Adam(self.D_Y.parameters(), lr=lr, betas=(0.5, 0.999))\n",
    "        self.opt_D_X = torch.optim.Adam(self.D_X.parameters(), lr=lr, betas=(0.5, 0.999))\n",
    "\n",
    "        # Dataset\n",
    "        self.train_dataset = MultiOrientationImages(dataset_dir=dataset_dir, data_name=modality, mode=\"train\")\n",
    "        self.train_loader = DataLoader(self.train_dataset, batch_size=batch_size, shuffle=True, num_workers=0, collate_fn=default_collate)\n",
    "        self.lambda_cycle = lambda_cycle\n",
    "\n",
    "    def train(self, epochs):\n",
    "        for epoch in range(1, epochs + 1):\n",
    "            print(f\"\\\\nEpoch {epoch}/{epochs}\")\n",
    "            for batch in tqdm(self.train_loader, desc=\"Training\"):\n",
    "                if batch is None or not all(k in batch for k in ['axial', 'sagittal', 'coronal', 'target']):\n",
    "                    continue\n",
    "\n",
    "                real_X = torch.cat([batch['axial'], batch['sagittal'], batch['coronal']], dim=1).to(self.device)\n",
    "                real_Y = batch['target'].to(self.device)\n",
    "\n",
    "                # ----------------------\n",
    "                # Train Generators\n",
    "                # ----------------------\n",
    "                self.opt_G.zero_grad()\n",
    "\n",
    "                fake_Y = self.G(real_X)\n",
    "                rec_X = self.F(fake_Y)\n",
    "\n",
    "                fake_X = self.F(real_Y)\n",
    "                rec_Y = self.G(fake_X)\n",
    "\n",
    "                loss_G_adv_Y = self.adv_loss(self.D_Y(fake_Y), torch.ones_like(self.D_Y(fake_Y)))\n",
    "                loss_G_adv_X = self.adv_loss(self.D_X(fake_X), torch.ones_like(self.D_X(fake_X)))\n",
    "\n",
    "                loss_cycle_X = self.cycle_loss(rec_X, real_X)\n",
    "                loss_cycle_Y = self.cycle_loss(rec_Y, real_Y)\n",
    "\n",
    "                total_loss_G = loss_G_adv_Y + loss_G_adv_X + self.lambda_cycle * (loss_cycle_X + loss_cycle_Y)\n",
    "                total_loss_G.backward()\n",
    "                self.opt_G.step()\n",
    "\n",
    "                # ----------------------\n",
    "                # Train Discriminators\n",
    "                # ----------------------\n",
    "                self.opt_D_Y.zero_grad()\n",
    "                loss_D_Y_real = self.adv_loss(self.D_Y(real_Y), torch.ones_like(self.D_Y(real_Y)))\n",
    "                loss_D_Y_fake = self.adv_loss(self.D_Y(fake_Y.detach()), torch.zeros_like(self.D_Y(fake_Y)))\n",
    "                loss_D_Y = 0.5 * (loss_D_Y_real + loss_D_Y_fake)\n",
    "                loss_D_Y.backward()\n",
    "                self.opt_D_Y.step()\n",
    "\n",
    "                self.opt_D_X.zero_grad()\n",
    "                loss_D_X_real = self.adv_loss(self.D_X(real_X), torch.ones_like(self.D_X(real_X)))\n",
    "                loss_D_X_fake = self.adv_loss(self.D_X(fake_X.detach()), torch.zeros_like(self.D_X(fake_X)))\n",
    "                loss_D_X = 0.5 * (loss_D_X_real + loss_D_X_fake)\n",
    "                loss_D_X.backward()\n",
    "                self.opt_D_X.step()\n",
    "\n",
    "            print(f\"[Epoch {epoch}] Generator Loss: {total_loss_G.item():.4f}, D_Y Loss: {loss_D_Y.item():.4f}, D_X Loss: {loss_D_X.item():.4f}\")\n",
    "'''\n",
    "\n",
    "with open(file_path, 'w') as f:\n",
    "    f.write(code)\n"
   ]
  },
  {
   "cell_type": "code",
   "execution_count": null,
   "metadata": {
    "id": "85-Hxv2U4FUG"
   },
   "outputs": [],
   "source": [
    "import sys\n",
    "import importlib.util\n",
    "\n",
    "# Step 1: Add the folder path to sys.path\n",
    "module_path = \"/content/drive/MyDrive/CALAMITI_Project/neuroimage_2021_calamiti/code/modules\"\n",
    "sys.path.append(module_path)\n",
    "\n",
    "# Step 2: Load the cyclegan_fusion module\n",
    "spec = importlib.util.spec_from_file_location(\"cyclegan_fusion\", f\"{module_path}/cyclegan_fusion.py\")\n",
    "cyclegan_fusion = importlib.util.module_from_spec(spec)\n",
    "sys.modules[\"cyclegan_fusion\"] = cyclegan_fusion\n",
    "spec.loader.exec_module(cyclegan_fusion)\n"
   ]
  },
  {
   "cell_type": "code",
   "execution_count": null,
   "metadata": {
    "id": "-TZtd5mM4K3K"
   },
   "outputs": [],
   "source": []
  },
  {
   "cell_type": "markdown",
   "metadata": {
    "id": "n9cftXTTsYpK"
   },
   "source": [
    "**Reload the file**"
   ]
  },
  {
   "cell_type": "code",
   "execution_count": null,
   "metadata": {
    "colab": {
     "base_uri": "https://localhost:8080/",
     "height": 531
    },
    "id": "6uAQRGPtsTv8",
    "outputId": "c2a72b21-8759-4fbb-e321-ca3e4838938a"
   },
   "outputs": [],
   "source": [
    "import importlib.util\n",
    "import sys\n",
    "\n",
    "spec = importlib.util.spec_from_file_location(\"cyclegan_fusion\", \"/content/drive/MyDrive/CALAMITI_Project/neuroimage_2021_calamiti/code/modules/cyclegan_fusion.py\")\n",
    "cyclegan_fusion = importlib.util.module_from_spec(spec)\n",
    "sys.modules[\"cyclegan_fusion\"] = cyclegan_fusion\n",
    "spec.loader.exec_module(cyclegan_fusion)\n"
   ]
  },
  {
   "cell_type": "markdown",
   "metadata": {
    "id": "u37MaQW_sdAg"
   },
   "source": [
    "**Initialize and Train**"
   ]
  },
  {
   "cell_type": "code",
   "execution_count": null,
   "metadata": {
    "colab": {
     "base_uri": "https://localhost:8080/"
    },
    "id": "UFsQKQZB4jiu",
    "outputId": "720fa79f-35cb-4d18-8793-68c7127390d9"
   },
   "outputs": [],
   "source": [
    "model = cyclegan_fusion.CycleGANFusionNetwork(\n",
    "    dataset_dir='/content/drive/MyDrive/CALAMITI_Project/neuroimage_2021_calamiti/sample_dataset/slices/default',\n",
    "    modality='T1w',\n",
    "    batch_size=1,\n",
    "    lr=2e-4,\n",
    "    lambda_cycle=10.0,\n",
    "    gpu=0  # Set to 0 to use GPU if available\n",
    ")\n"
   ]
  },
  {
   "cell_type": "code",
   "execution_count": null,
   "metadata": {
    "colab": {
     "base_uri": "https://localhost:8080/",
     "height": 1000
    },
    "id": "o01E5XE-sVAY",
    "outputId": "3a2913b1-e204-4525-d02e-145176d2b457"
   },
   "outputs": [],
   "source": [
    "model = cyclegan_fusion.CycleGANFusionNetwork(\n",
    "    dataset_dir=\"/content/drive/MyDrive/CALAMITI_Project/neuroimage_2021_calamiti/sample_dataset/slices/default\",\n",
    "    modality=\"T1w\",\n",
    "    batch_size=1,\n",
    "    lr=0.0002,\n",
    "    gpu=0\n",
    ")\n",
    "\n",
    "model.train(epochs=10)\n"
   ]
  },
  {
   "cell_type": "code",
   "execution_count": null,
   "metadata": {
    "id": "wIgvK8RY1E0I"
   },
   "outputs": [],
   "source": [
    "import sys\n",
    "import importlib.util\n",
    "\n",
    "# ✅ Add your module directory to sys.path\n",
    "module_dir = \"/content/drive/MyDrive/CALAMITI_Project/neuroimage_2021_calamiti/code/modules\"\n",
    "if module_dir not in sys.path:\n",
    "    sys.path.append(module_dir)\n",
    "\n",
    "# ✅ Now load cyclegan_fusion.py\n",
    "cyclegan_path = f\"{module_dir}/cyclegan_fusion.py\"\n",
    "spec = importlib.util.spec_from_file_location(\"cyclegan_fusion\", cyclegan_path)\n",
    "cyclegan_fusion = importlib.util.module_from_spec(spec)\n",
    "sys.modules[\"cyclegan_fusion\"] = cyclegan_fusion\n",
    "spec.loader.exec_module(cyclegan_fusion)\n"
   ]
  },
  {
   "cell_type": "code",
   "execution_count": null,
   "metadata": {
    "id": "KKxmZ3SH9Hhk"
   },
   "outputs": [],
   "source": [
    "import os\n",
    "os.makedirs(\"/content/drive/MyDrive/CALAMITI_Project/output/models\", exist_ok=True)\n",
    "\n",
    "torch.save(model.G.state_dict(), \"/content/drive/MyDrive/CALAMITI_Project/output/models/generator_G.pth\")\n",
    "torch.save(model.F.state_dict(), \"/content/drive/MyDrive/CALAMITI_Project/output/models/generator_F.pth\")\n"
   ]
  },
  {
   "cell_type": "code",
   "execution_count": null,
   "metadata": {
    "id": "AOqsZXYt-_Yk"
   },
   "outputs": [],
   "source": [
    "import shutil\n",
    "import os\n",
    "\n",
    "src_folder = \"/content/drive/MyDrive/CALAMITI_Project/generated_reconstructions\"\n",
    "dst_folder = \"/content/drive/MyDrive/CALAMITI_Project/neuroimage_2021_calamiti/sample_dataset/slices/default/train/T1w\"\n",
    "\n",
    "for file in os.listdir(src_folder):\n",
    "    if file.endswith(\".nii.gz\"):\n",
    "        shutil.copy(os.path.join(src_folder, file), os.path.join(dst_folder, file))\n"
   ]
  },
  {
   "cell_type": "code",
   "execution_count": null,
   "metadata": {
    "id": "2ChvtZEBDi-W"
   },
   "outputs": [],
   "source": [
    "import sys\n",
    "\n",
    "# Add the folder where network.py and multiorientation.py are stored\n",
    "sys.path.append(\"/content/drive/MyDrive/CALAMITI_Project/neuroimage_2021_calamiti/code/modules\")\n"
   ]
  },
  {
   "cell_type": "code",
   "execution_count": null,
   "metadata": {
    "id": "rjfCybtxDkCv"
   },
   "outputs": [],
   "source": [
    "from network import FusionNet, Unet\n",
    "from multiorientation import MultiOrientationImages\n"
   ]
  },
  {
   "cell_type": "code",
   "execution_count": null,
   "metadata": {
    "colab": {
     "base_uri": "https://localhost:8080/"
    },
    "id": "hxS94-2F1GUM",
    "outputId": "db5e8697-17cd-4b82-b57b-3925a2caa05d"
   },
   "outputs": [],
   "source": [
    "import os\n",
    "import torch\n",
    "import nibabel as nib\n",
    "import numpy as np\n",
    "from tqdm import tqdm\n",
    "from torch.utils.data import DataLoader\n",
    "from torch.utils.data.dataloader import default_collate\n",
    "\n",
    "from network import FusionNet, Unet\n",
    "from multiorientation import MultiOrientationImages\n",
    "\n",
    "# === CONFIGURATION ===\n",
    "device = torch.device(\"cuda\" if torch.cuda.is_available() else \"cpu\")\n",
    "dataset_dir = \"/content/drive/MyDrive/CALAMITI_Project/neuroimage_2021_calamiti/sample_dataset/slices/default\"\n",
    "modality = \"T1w\"\n",
    "output_dir = \"/content/drive/MyDrive/CALAMITI_Project/generated_reconstructions\"\n",
    "os.makedirs(output_dir, exist_ok=True)\n",
    "\n",
    "# === LOAD MODELS ===\n",
    "G = FusionNet(in_ch=3, out_ch=1).to(device)\n",
    "F = Unet(in_ch=1, out_ch=3).to(device)\n",
    "\n",
    "G.load_state_dict(torch.load(\"/content/drive/MyDrive/CALAMITI_Project/output/models/generator_G.pth\"))\n",
    "F.load_state_dict(torch.load(\"/content/drive/MyDrive/CALAMITI_Project/output/models/generator_F.pth\"))\n",
    "\n",
    "G.eval()\n",
    "F.eval()\n",
    "\n",
    "# === HELPER TO SAVE .nii.gz ===\n",
    "def tensor_to_nii(tensor, reference_nii_path, save_path):\n",
    "    tensor = tensor.detach().cpu().squeeze().numpy()\n",
    "    ref = nib.load(reference_nii_path)\n",
    "    img = nib.Nifti1Image(tensor, affine=ref.affine, header=ref.header)\n",
    "    nib.save(img, save_path)\n",
    "\n",
    "# === LOAD DATA ===\n",
    "dataset = MultiOrientationImages(dataset_dir=dataset_dir, data_name=modality, mode=\"train\")\n",
    "loader = DataLoader(dataset, batch_size=1, shuffle=False, num_workers=0, collate_fn=default_collate)\n",
    "\n",
    "# === RUN INFERENCE ===\n",
    "with torch.no_grad():\n",
    "    for batch in tqdm(loader, desc=\"Generating Cycle Reconstructions\"):\n",
    "        if batch is None or not all(k in batch for k in ['axial', 'sagittal', 'coronal', 'target']):\n",
    "            continue\n",
    "\n",
    "        real_X = torch.cat([batch['axial'], batch['sagittal'], batch['coronal']], dim=1).to(device)\n",
    "        real_X_path = batch['axial_path'][0]  # assuming you track axial path in dataset\n",
    "\n",
    "        # A → B → A\n",
    "        fake_Y = G(real_X)\n",
    "        cycle_X = F(fake_Y)\n",
    "\n",
    "        filename = os.path.basename(real_X_path).replace('.nii.gz', '')\n",
    "        save_path = os.path.join(output_dir, f\"{filename}_axial_recon_axial_recon.nii.gz\")\n",
    "        tensor_to_nii(cycle_X, real_X_path, save_path)\n",
    "\n"
   ]
  },
  {
   "cell_type": "code",
   "execution_count": null,
   "metadata": {
    "colab": {
     "base_uri": "https://localhost:8080/",
     "height": 1000
    },
    "id": "jK4BYxhAEDKk",
    "outputId": "dc71bfba-123a-4ea9-f74a-4c28a145f9df"
   },
   "outputs": [],
   "source": [
    "import os\n",
    "import numpy as np\n",
    "import nibabel as nib\n",
    "from sklearn.metrics import confusion_matrix\n",
    "from tqdm import tqdm\n",
    "\n",
    "# === CONFIGURATION ===\n",
    "ground_truth_dir = \"/content/drive/MyDrive/CALAMITI_Project/neuroimage_2021_calamiti/sample_dataset/slices/default/train/T1w\"\n",
    "reconstructed_dir = \"/content/drive/MyDrive/CALAMITI_Project/generated_reconstructions\"\n",
    "\n",
    "threshold = 0.5  # Pixel threshold to binarize\n",
    "all_gt = []\n",
    "all_pred = []\n",
    "\n",
    "# === LIST ORIGINAL FILES ===\n",
    "gt_files = sorted([f for f in os.listdir(ground_truth_dir) if f.endswith(\"_axial_recon.nii.gz\")])\n",
    "\n",
    "print(f\"Found {len(gt_files)} ground truth axial slices.\")\n",
    "\n",
    "# === LOOP THROUGH FILES ===\n",
    "for gt_file in tqdm(gt_files, desc=\"Generating confusion data\"):\n",
    "    try:\n",
    "        gt_path = os.path.join(ground_truth_dir, gt_file)\n",
    "\n",
    "        # Corresponding cycle-reconstructed file name\n",
    "        base_name = gt_file.replace(\"_axial_recon.nii.gz\", \"\")\n",
    "        recon_name = f\"{base_name}_axial_recon_axial_recon.nii.gz\"\n",
    "        recon_path = os.path.join(reconstructed_dir, recon_name)\n",
    "\n",
    "        if not os.path.exists(recon_path):\n",
    "            print(f\"[WARNING] Missing reconstruction for {gt_file}\")\n",
    "            continue\n",
    "\n",
    "        # Load images\n",
    "        gt_img = nib.load(gt_path).get_fdata()\n",
    "        recon_img = nib.load(recon_path).get_fdata()\n",
    "\n",
    "        # Normalize if necessary\n",
    "        gt_img = (gt_img - gt_img.min()) / (gt_img.max() - gt_img.min() + 1e-8)\n",
    "        recon_img = (recon_img - recon_img.min()) / (recon_img.max() - recon_img.min() + 1e-8)\n",
    "\n",
    "        # Binarize\n",
    "        gt_bin = (gt_img > threshold).astype(np.uint8).flatten()\n",
    "        recon_bin = (recon_img > threshold).astype(np.uint8).flatten()\n",
    "\n",
    "        # Store\n",
    "        all_gt.append(gt_bin)\n",
    "        all_pred.append(recon_bin)\n",
    "\n",
    "    except Exception as e:\n",
    "        print(f\"[ERROR] Processing {gt_file}: {e}\")\n",
    "        continue\n",
    "\n",
    "# === STACK AND GENERATE CONFUSION MATRIX ===\n",
    "all_gt = np.concatenate(all_gt)\n",
    "all_pred = np.concatenate(all_pred)\n",
    "\n",
    "print(\"Calculating confusion matrix...\")\n",
    "conf_matrix = confusion_matrix(all_gt, all_pred)\n",
    "print(conf_matrix)\n"
   ]
  },
  {
   "cell_type": "code",
   "execution_count": null,
   "metadata": {
    "colab": {
     "base_uri": "https://localhost:8080/"
    },
    "id": "6A31L2IzEtj4",
    "outputId": "67063156-b1d9-49fe-ac80-d75def717974"
   },
   "outputs": [],
   "source": [
    "!ls \"/content/drive/MyDrive/CALAMITI_Project/generated_reconstructions\" | wc -l\n"
   ]
  },
  {
   "cell_type": "code",
   "execution_count": null,
   "metadata": {
    "colab": {
     "base_uri": "https://localhost:8080/"
    },
    "id": "NfQb1xFnExV5",
    "outputId": "2dd59f8b-043c-4ed9-f2a6-920b6970454c"
   },
   "outputs": [],
   "source": [
    "!ls \"/content/drive/MyDrive/CALAMITI_Project/generated_reconstructions\" | head -10\n"
   ]
  },
  {
   "cell_type": "code",
   "execution_count": null,
   "metadata": {
    "colab": {
     "base_uri": "https://localhost:8080/"
    },
    "id": "vNOGCaxqFMu6",
    "outputId": "80502c6d-d064-4a51-c0d6-326a434f8373"
   },
   "outputs": [],
   "source": [
    "import os\n",
    "\n",
    "folder = \"/content/drive/MyDrive/CALAMITI_Project/generated_reconstructions\"\n",
    "\n",
    "for filename in os.listdir(folder):\n",
    "    if filename.endswith(\"_axial_recon_axial_recon_axial_recon.nii.gz\"):\n",
    "        new_filename = filename.replace(\"_axial_recon_axial_recon_axial_recon\", \"_axial_recon_axial_recon\")\n",
    "        os.rename(os.path.join(folder, filename), os.path.join(folder, new_filename))\n",
    "\n",
    "print(\"✅ Renamed all files successfully.\")\n"
   ]
  },
  {
   "cell_type": "code",
   "execution_count": null,
   "metadata": {
    "colab": {
     "base_uri": "https://localhost:8080/"
    },
    "id": "pFGXB-rFEjss",
    "outputId": "9595cf16-f379-4e57-e22e-10729a911597"
   },
   "outputs": [],
   "source": [
    "for gt_file in tqdm(gt_files, desc=\"Generating confusion data\"):\n",
    "    try:\n",
    "        gt_path = os.path.join(ground_truth_dir, gt_file)\n",
    "\n",
    "        base_name = gt_file.replace(\"_axial_recon.nii.gz\", \"\")\n",
    "        recon_name = f\"{base_name}_axial_recon_axial_recon.nii.gz\"\n",
    "        recon_path = os.path.join(reconstructed_dir, recon_name)\n",
    "\n",
    "        if not os.path.exists(recon_path):\n",
    "            print(f\"[WARNING] Missing reconstruction for {gt_file}\")\n",
    "            continue\n",
    "\n",
    "        # Load and normalize images\n",
    "        gt_img = nib.load(gt_path).get_fdata()\n",
    "        recon_img = nib.load(recon_path).get_fdata()\n",
    "\n",
    "        gt_img = (gt_img - gt_img.min()) / (gt_img.max() - gt_img.min() + 1e-8)\n",
    "        recon_img = (recon_img - recon_img.min()) / (recon_img.max() - recon_img.min() + 1e-8)\n",
    "\n",
    "        # Binarize\n",
    "        gt_bin = (gt_img > threshold).astype(np.uint8).flatten()\n",
    "        recon_bin = (recon_img > threshold).astype(np.uint8).flatten()\n",
    "\n",
    "        # ✅ Only add if both arrays are non-empty\n",
    "        if gt_bin.size > 0 and recon_bin.size > 0:\n",
    "            all_gt.append(gt_bin)\n",
    "            all_pred.append(recon_bin)\n",
    "\n",
    "    except Exception as e:\n",
    "        print(f\"[ERROR] Processing {gt_file}: {e}\")\n",
    "        continue\n"
   ]
  },
  {
   "cell_type": "code",
   "execution_count": null,
   "metadata": {
    "colab": {
     "base_uri": "https://localhost:8080/",
     "height": 106
    },
    "id": "5LFGo3f3Fl-Y",
    "outputId": "137c94fc-7273-4adc-b37c-afa8f9b8c9f6"
   },
   "outputs": [],
   "source": [
    "if gt_img.shape != recon_img.shape:\n",
    "    print(f\"[WARNING] Shape mismatch for {gt_file}, skipping...\")\n",
    "    continue\n"
   ]
  },
  {
   "cell_type": "code",
   "execution_count": null,
   "metadata": {
    "colab": {
     "base_uri": "https://localhost:8080/",
     "height": 472
    },
    "id": "asPBisHcOua4",
    "outputId": "ea4a3d50-e423-4d0a-e37c-2288a543ba3b"
   },
   "outputs": [],
   "source": [
    "# After collecting recon_images and gt_images\n",
    "all_pred_prob = np.concatenate([img.flatten() for img in recon_images])\n",
    "all_gt_flat = np.concatenate([img.flatten() for img in gt_images])\n",
    "\n",
    "# Binarize ground truth (VERY IMPORTANT!!)\n",
    "threshold_gt = 0.5\n",
    "all_gt_flat = (all_gt_flat > threshold_gt).astype(np.uint8)\n",
    "\n",
    "# Now compute PR curve\n",
    "from sklearn.metrics import precision_recall_curve\n",
    "import matplotlib.pyplot as plt\n",
    "\n",
    "precision, recall, thresholds = precision_recall_curve(all_gt_flat, all_pred_prob)\n",
    "\n",
    "plt.plot(recall, precision, marker='.')\n",
    "plt.title('Precision-Recall Curve')\n",
    "plt.xlabel('Recall')\n",
    "plt.ylabel('Precision')\n",
    "plt.grid()\n",
    "plt.show()\n"
   ]
  },
  {
   "cell_type": "code",
   "execution_count": null,
   "metadata": {
    "colab": {
     "base_uri": "https://localhost:8080/"
    },
    "id": "A3avFFa5Plk6",
    "outputId": "5f5a5c85-d9e1-4434-ba89-2e23f96a7761"
   },
   "outputs": [],
   "source": [
    "from sklearn.metrics import auc, f1_score\n",
    "\n",
    "# 1. AUC Calculation\n",
    "pr_auc = auc(recall, precision)\n",
    "print(f\"\\n📈 AUC (Precision-Recall): {pr_auc:.4f}\")\n",
    "\n",
    "# 2. F1 Scores across thresholds\n",
    "f1_scores = []\n",
    "for t in thresholds:\n",
    "    preds = (all_pred_prob >= t).astype(int)\n",
    "    f1 = f1_score(all_gt_flat, preds)\n",
    "    f1_scores.append(f1)\n",
    "\n",
    "best_index = np.argmax(f1_scores)\n",
    "best_threshold = thresholds[best_index]\n",
    "best_f1 = f1_scores[best_index]\n",
    "\n",
    "print(f\"🏆 Best Threshold: {best_threshold:.4f}\")\n",
    "print(f\"🔥 Best F1 Score: {best_f1:.4f}\")\n",
    "\n",
    "# Optional: Precision & Recall at Best Threshold\n",
    "from sklearn.metrics import precision_score, recall_score\n",
    "preds_best = (all_pred_prob >= best_threshold).astype(int)\n",
    "p = precision_score(all_gt_flat, preds_best)\n",
    "r = recall_score(all_gt_flat, preds_best)\n",
    "\n",
    "print(f\"✔️ Precision at Best Threshold: {p:.4f}\")\n",
    "print(f\"✔️ Recall at Best Threshold:    {r:.4f}\")\n"
   ]
  },
  {
   "cell_type": "code",
   "execution_count": null,
   "metadata": {
    "colab": {
     "base_uri": "https://localhost:8080/"
    },
    "id": "HX8zvAJklDSt",
    "outputId": "4cf7eeb6-4568-443a-bc9c-2c92aec3c12b"
   },
   "outputs": [],
   "source": [
    "from google.colab import drive\n",
    "drive.mount('/content/drive')\n"
   ]
  },
  {
   "cell_type": "code",
   "execution_count": null,
   "metadata": {
    "id": "XNQJr9eflHl1"
   },
   "outputs": [],
   "source": [
    "import os\n",
    "import numpy as np\n",
    "import matplotlib.pyplot as plt\n",
    "import nibabel as nib\n",
    "from tqdm import tqdm\n",
    "from sklearn.metrics import precision_recall_curve, confusion_matrix, ConfusionMatrixDisplay, f1_score, precision_score, recall_score, auc, roc_curve, roc_auc_score\n"
   ]
  },
  {
   "cell_type": "code",
   "execution_count": null,
   "metadata": {
    "colab": {
     "base_uri": "https://localhost:8080/"
    },
    "id": "OI0X6-7QlKAK",
    "outputId": "7ba7c1c6-0407-4acf-e3aa-5cd021c41d68"
   },
   "outputs": [],
   "source": [
    "# === CONFIGURATION ===\n",
    "ground_truth_dir = \"/content/drive/MyDrive/CALAMITI_Project/neuroimage_2021_calamiti/sample_dataset/slices/default/train/T1w\"\n",
    "reconstructed_dir = \"/content/drive/MyDrive/CALAMITI_Project/generated_reconstructions\"\n",
    "\n",
    "# === LOAD FILES ===\n",
    "gt_files = sorted([f for f in os.listdir(ground_truth_dir) if f.endswith(\"_axial_recon.nii.gz\")])\n",
    "recon_images = []\n",
    "gt_images = []\n",
    "\n",
    "for gt_file in tqdm(gt_files, desc=\"Loading GT and recon\"):\n",
    "    try:\n",
    "        gt_path = os.path.join(ground_truth_dir, gt_file)\n",
    "        base_name = gt_file.replace(\"_axial_recon.nii.gz\", \"\")\n",
    "        recon_name = f\"{base_name}_axial_recon_axial_recon.nii.gz\"\n",
    "        recon_path = os.path.join(reconstructed_dir, recon_name)\n",
    "\n",
    "        if not os.path.exists(recon_path):\n",
    "            continue\n",
    "\n",
    "        gt_img = nib.load(gt_path).get_fdata()\n",
    "        recon_img = nib.load(recon_path).get_fdata()\n",
    "\n",
    "        if recon_img.shape[0] == 3:\n",
    "            recon_img = recon_img[0, :, :]  # use axial slice\n",
    "\n",
    "        # Normalize\n",
    "        gt_img = (gt_img - gt_img.min()) / (gt_img.max() - gt_img.min() + 1e-8)\n",
    "        recon_img = (recon_img - recon_img.min()) / (recon_img.max() - recon_img.min() + 1e-8)\n",
    "\n",
    "        recon_images.append(recon_img)\n",
    "        gt_images.append(gt_img)\n",
    "    except:\n",
    "        continue\n"
   ]
  },
  {
   "cell_type": "code",
   "execution_count": null,
   "metadata": {
    "id": "_ltqt1LYhekh"
   },
   "outputs": [],
   "source": [
    "from sklearn.metrics import precision_recall_curve, confusion_matrix, ConfusionMatrixDisplay, f1_score, precision_score, recall_score\n"
   ]
  },
  {
   "cell_type": "code",
   "execution_count": null,
   "metadata": {
    "id": "8-U6fJK4hql-"
   },
   "outputs": [],
   "source": [
    "from sklearn.metrics import auc, roc_curve, roc_auc_score\n"
   ]
  },
  {
   "cell_type": "code",
   "execution_count": null,
   "metadata": {
    "id": "-CnWHCKdj-5X"
   },
   "outputs": [],
   "source": [
    "# === Subsample full images before flattening ===\n",
    "np.random.seed(42)\n",
    "sample_indices = np.random.choice(len(recon_images), size=20, replace=False)\n",
    "\n",
    "recon_sampled = [recon_images[i] for i in sample_indices]\n",
    "gt_sampled = [gt_images[i] for i in sample_indices]\n",
    "\n",
    "# Now flatten\n",
    "all_pred_prob = np.concatenate([img.flatten() for img in recon_sampled])\n",
    "all_gt_flat = np.concatenate([img.flatten() for img in gt_sampled])\n",
    "\n",
    "# Subsample 10% of all pixels from these 20 images\n",
    "subsample_size = int(0.1 * len(all_gt_flat))\n",
    "pixel_indices = np.random.choice(len(all_gt_flat), size=subsample_size, replace=False)\n",
    "\n",
    "all_pred_prob = all_pred_prob[pixel_indices]\n",
    "all_gt_flat = all_gt_flat[pixel_indices]\n",
    "all_gt_flat = (all_gt_flat > 0.5).astype(np.uint8)\n"
   ]
  },
  {
   "cell_type": "code",
   "execution_count": null,
   "metadata": {
    "colab": {
     "base_uri": "https://localhost:8080/",
     "height": 1000
    },
    "id": "EbzZK_TGkN-I",
    "outputId": "5d6120c7-6079-4252-fd43-28090c07f8ae"
   },
   "outputs": [],
   "source": [
    "# === PR Curve + ROC + Confusion Matrix ===\n",
    "from sklearn.metrics import (\n",
    "    precision_recall_curve, confusion_matrix, ConfusionMatrixDisplay,\n",
    "    f1_score, roc_curve, roc_auc_score, auc\n",
    ")\n",
    "import matplotlib.pyplot as plt\n",
    "\n",
    "precision, recall, thresholds = precision_recall_curve(all_gt_flat, all_pred_prob)\n",
    "pr_auc = auc(recall, precision)\n",
    "\n",
    "f1_scores = [(f1_score(all_gt_flat, (all_pred_prob >= t).astype(int))) for t in thresholds]\n",
    "best_index = np.argmax(f1_scores)\n",
    "best_threshold = thresholds[best_index]\n",
    "\n",
    "preds_best = (all_pred_prob >= best_threshold).astype(int)\n",
    "cm = confusion_matrix(all_gt_flat, preds_best)\n",
    "\n",
    "# === Plot Confusion Matrix ===\n",
    "disp = ConfusionMatrixDisplay(confusion_matrix=cm, display_labels=[\"Background\", \"Region\"])\n",
    "fig, ax = plt.subplots(figsize=(5, 5))\n",
    "disp.plot(ax=ax, cmap='Blues', values_format='d')\n",
    "plt.title(f\"Confusion Matrix at Best Threshold ({best_threshold:.2f})\")\n",
    "plt.grid(False)\n",
    "plt.show()\n",
    "\n",
    "# === Plot ROC Curve ===\n",
    "fpr, tpr, _ = roc_curve(all_gt_flat, all_pred_prob)\n",
    "roc_auc = roc_auc_score(all_gt_flat, all_pred_prob)\n",
    "\n",
    "plt.figure(figsize=(7, 6))\n",
    "plt.plot(fpr, tpr, color='blue', lw=2, label=f'ROC Curve (AUC = {roc_auc:.4f})')\n",
    "plt.plot([0, 1], [0, 1], color='gray', linestyle='--')\n",
    "plt.xlabel('False Positive Rate')\n",
    "plt.ylabel('True Positive Rate')\n",
    "plt.title('Receiver Operating Characteristic (ROC) Curve')\n",
    "plt.legend(loc=\"lower right\")\n",
    "plt.grid(True)\n",
    "plt.show()\n",
    "\n",
    "# === Print Summary ===\n",
    "print(f\"✅ AUC (PR): {pr_auc:.4f}\")\n",
    "print(f\"✅ AUC (ROC): {roc_auc:.4f}\")\n",
    "print(f\"✅ Best Threshold (max F1): {best_threshold:.4f}\")\n"
   ]
  },
  {
   "cell_type": "code",
   "execution_count": null,
   "metadata": {
    "colab": {
     "base_uri": "https://localhost:8080/",
     "height": 531
    },
    "id": "p6Um0Cmd5PBV",
    "outputId": "b1aeb1f5-b6cc-4ed9-a6d1-90e15899bc3d"
   },
   "outputs": [],
   "source": [
    "import os\n",
    "import numpy as np\n",
    "import nibabel as nib\n",
    "from tqdm import tqdm\n",
    "import matplotlib.pyplot as plt\n",
    "from sklearn.metrics import (\n",
    "    precision_recall_curve, auc, f1_score, precision_score, recall_score,\n",
    "    confusion_matrix, ConfusionMatrixDisplay\n",
    ")\n",
    "\n",
    "# === CONFIGURATION ===\n",
    "ground_truth_dir = \"/content/drive/MyDrive/CALAMITI_Project/neuroimage_2021_calamiti/sample_dataset/slices/default/train/T1w\"\n",
    "reconstructed_dir = \"/content/drive/MyDrive/CALAMITI_Project/generated_reconstructions\"\n",
    "\n",
    "# === LOAD SAMPLE FILES (subset for speed) ===\n",
    "gt_files = sorted([f for f in os.listdir(ground_truth_dir) if f.endswith(\"_axial_recon.nii.gz\")])\n",
    "np.random.seed(42)\n",
    "gt_files = np.random.choice(gt_files, size=20, replace=False)\n",
    "\n",
    "recon_images = []\n",
    "gt_images = []\n",
    "\n",
    "for gt_file in tqdm(gt_files, desc=\"Loading 20 images\"):\n",
    "    try:\n",
    "        gt_path = os.path.join(ground_truth_dir, gt_file)\n",
    "        base_name = gt_file.replace(\"_axial_recon.nii.gz\", \"\")\n",
    "        recon_name = f\"{base_name}_axial_recon_axial_recon.nii.gz\"\n",
    "        recon_path = os.path.join(reconstructed_dir, recon_name)\n",
    "        if not os.path.exists(recon_path): continue\n",
    "\n",
    "        gt_img = nib.load(gt_path).get_fdata()\n",
    "        recon_img = nib.load(recon_path).get_fdata()\n",
    "\n",
    "        if recon_img.shape[0] == 3:\n",
    "            recon_img = recon_img[0, :, :]\n",
    "\n",
    "        # Normalize\n",
    "        gt_img = (gt_img - gt_img.min()) / (gt_img.max() - gt_img.min() + 1e-8)\n",
    "        recon_img = (recon_img - recon_img.min()) / (recon_img.max() - recon_img.min() + 1e-8)\n",
    "\n",
    "        recon_images.append(recon_img)\n",
    "        gt_images.append(gt_img)\n",
    "    except:\n",
    "        continue\n",
    "\n",
    "# === FLATTEN & SUBSAMPLE 10% Pixels ===\n",
    "all_pred_prob = np.concatenate([img.flatten() for img in recon_images])\n",
    "all_gt_flat = np.concatenate([img.flatten() for img in gt_images])\n",
    "\n",
    "indices = np.random.choice(len(all_gt_flat), size=int(0.1 * len(all_gt_flat)), replace=False)\n",
    "all_pred_prob = all_pred_prob[indices]\n",
    "all_gt_flat = (all_gt_flat[indices] > 0.5).astype(np.uint8)\n",
    "\n",
    "# === PR CURVE + BEST THRESHOLD ===\n",
    "precision, recall, thresholds = precision_recall_curve(all_gt_flat, all_pred_prob)\n",
    "pr_auc = auc(recall, precision)\n",
    "\n",
    "f1_scores = [(f1_score(all_gt_flat, (all_pred_prob >= t).astype(int))) for t in thresholds]\n",
    "best_index = np.argmax(f1_scores)\n",
    "best_threshold = thresholds[best_index]\n",
    "\n",
    "# === CONFUSION MATRIX ===\n",
    "preds_best = (all_pred_prob >= best_threshold).astype(int)\n",
    "cm = confusion_matrix(all_gt_flat, preds_best)\n",
    "\n",
    "# === DISPLAY CONFUSION MATRIX ===\n",
    "disp = ConfusionMatrixDisplay(confusion_matrix=cm, display_labels=[\"Background\", \"Region\"])\n",
    "fig, ax = plt.subplots(figsize=(5, 5))\n",
    "disp.plot(ax=ax, cmap='Blues', values_format='d')\n",
    "plt.title(f\"Confusion Matrix at Best Threshold ({best_threshold:.4f})\")\n",
    "plt.grid(False)\n",
    "plt.show()\n",
    "\n",
    "# === PRINT METRICS ===\n",
    "f1 = f1_score(all_gt_flat, preds_best)\n",
    "prec = precision_score(all_gt_flat, preds_best)\n",
    "rec = recall_score(all_gt_flat, preds_best)\n",
    "\n",
    "print(f\"📊 Metrics @ Best Threshold ({best_threshold:.4f}):\")\n",
    "print(f\"🔹 F1 Score   : {f1:.4f}\")\n",
    "print(f\"🔹 Precision  : {prec:.4f}\")\n",
    "print(f\"🔹 Recall     : {rec:.4f}\")\n",
    "print(f\"🔹 PR AUC     : {pr_auc:.4f}\")\n"
   ]
  },
  {
   "cell_type": "code",
   "execution_count": null,
   "metadata": {
    "id": "SJhzBobalqZv"
   },
   "outputs": [],
   "source": [
    "# === FLATTEN FOR EVALUATION ===\n",
    "all_pred_prob = np.concatenate([img.flatten() for img in recon_images])\n",
    "all_gt_flat = np.concatenate([img.flatten() for img in gt_images])\n",
    "\n",
    "# 🛑 Subsample\n",
    "np.random.seed(42)\n",
    "indices = np.random.choice(len(all_gt_flat), size=int(0.1 * len(all_gt_flat)), replace=False)\n",
    "\n",
    "all_pred_prob = all_pred_prob[indices]\n",
    "all_gt_flat = all_gt_flat[indices]\n",
    "\n",
    "all_gt_flat = (all_gt_flat > 0.5).astype(np.uint8)\n",
    "\n",
    "# === PR Curve + ROC + Confusion Matrix ===\n",
    "precision, recall, thresholds = precision_recall_curve(all_gt_flat, all_pred_prob)\n",
    "pr_auc = auc(recall, precision)\n",
    "\n",
    "f1_scores = [(f1_score(all_gt_flat, (all_pred_prob >= t).astype(int))) for t in thresholds]\n",
    "best_index = np.argmax(f1_scores)\n",
    "best_threshold = thresholds[best_index]\n",
    "\n",
    "preds_best = (all_pred_prob >= best_threshold).astype(int)\n",
    "cm = confusion_matrix(all_gt_flat, preds_best)\n",
    "\n",
    "# === Plot confusion matrix ===\n",
    "disp = ConfusionMatrixDisplay(confusion_matrix=cm, display_labels=[\"Background\", \"Region\"])\n",
    "fig, ax = plt.subplots(figsize=(5, 5))\n",
    "disp.plot(ax=ax, cmap='Blues', values_format='d')\n",
    "plt.title(f\"Confusion Matrix at Best Threshold ({best_threshold:.2f})\")\n",
    "plt.grid(False)\n",
    "plt.show()\n",
    "\n",
    "# === Plot ROC Curve ===\n",
    "fpr, tpr, _ = roc_curve(all_gt_flat, all_pred_prob)\n",
    "roc_auc = roc_auc_score(all_gt_flat, all_pred_prob)\n",
    "\n",
    "plt.figure(figsize=(7, 6))\n",
    "plt.plot(fpr, tpr, color='blue', lw=2, label=f'ROC Curve (AUC = {roc_auc:.4f})')\n",
    "plt.plot([0, 1], [0, 1], color='gray', linestyle='--')\n",
    "plt.xlabel('False Positive Rate')\n",
    "plt.ylabel('True Positive Rate')\n",
    "plt.title('Receiver Operating Characteristic (ROC) Curve')\n",
    "plt.legend(loc=\"lower right\")\n",
    "plt.grid(True)\n",
    "plt.show()\n"
   ]
  },
  {
   "cell_type": "code",
   "execution_count": null,
   "metadata": {
    "colab": {
     "base_uri": "https://localhost:8080/",
     "height": 211
    },
    "id": "gw1Ryd1PTlTK",
    "outputId": "725df11a-782d-4c73-de50-c5df83d39e00"
   },
   "outputs": [],
   "source": [
    "import seaborn as sns\n",
    "import pandas as pd\n",
    "\n",
    "labels = [\"Background\", \"Target\"]\n",
    "df_cm = pd.DataFrame(cm, index=labels, columns=labels)\n",
    "\n",
    "sns.heatmap(df_cm, annot=True, fmt='d', cmap=\"Blues\")\n",
    "plt.title(f\"Normalized Confusion Matrix at Threshold {best_threshold:.2f}\")\n",
    "plt.ylabel('True Label')\n",
    "plt.xlabel('Predicted Label')\n",
    "plt.show()\n"
   ]
  },
  {
   "cell_type": "code",
   "execution_count": null,
   "metadata": {
    "colab": {
     "base_uri": "https://localhost:8080/",
     "height": 373
    },
    "id": "8cgVecXWFXwL",
    "outputId": "dbaab13f-902e-4b25-a5d5-ea5dfd2bb88b"
   },
   "outputs": [],
   "source": [
    "import os\n",
    "import numpy as np\n",
    "import nibabel as nib\n",
    "from tqdm import tqdm\n",
    "\n",
    "ground_truth_dir = \"/content/drive/MyDrive/CALAMITI_Project/neuroimage_2021_calamiti/sample_dataset/slices/default/train/T1w\"\n",
    "reconstructed_dir = \"/content/drive/MyDrive/CALAMITI_Project/generated_reconstructions\"\n",
    "\n",
    "gt_files = sorted([f for f in os.listdir(ground_truth_dir) if f.endswith(\"_axial_recon.nii.gz\")])\n",
    "\n",
    "recon_images = []\n",
    "gt_images = []\n",
    "\n",
    "for gt_file in tqdm(gt_files):\n",
    "    try:\n",
    "        gt_path = os.path.join(ground_truth_dir, gt_file)\n",
    "        base_name = gt_file.replace(\"_axial_recon.nii.gz\", \"\")\n",
    "        recon_name = f\"{base_name}_axial_recon_axial_recon.nii.gz\"\n",
    "        recon_path = os.path.join(reconstructed_dir, recon_name)\n",
    "\n",
    "        if not os.path.exists(recon_path):\n",
    "            continue\n",
    "\n",
    "        gt_img = nib.load(gt_path).get_fdata()\n",
    "        recon_img = nib.load(recon_path).get_fdata()\n",
    "\n",
    "        if recon_img.shape[0] == 3:\n",
    "            recon_img = recon_img[0, :, :]  # 👈 Take axial only\n",
    "\n",
    "        gt_img = (gt_img - gt_img.min()) / (gt_img.max() - gt_img.min() + 1e-8)\n",
    "        recon_img = (recon_img - recon_img.min()) / (recon_img.max() - recon_img.min() + 1e-8)\n",
    "\n",
    "        recon_images.append(recon_img)\n",
    "        gt_images.append(gt_img)\n",
    "\n",
    "    except Exception as e:\n",
    "        continue\n",
    "\n",
    "# Now for precision-recall curve:\n",
    "from sklearn.metrics import precision_recall_curve\n",
    "import matplotlib.pyplot as plt\n",
    "\n",
    "all_pred_prob = np.concatenate([img.flatten() for img in recon_images])\n",
    "all_gt_flat = np.concatenate([img.flatten() for img in gt_images])\n",
    "\n",
    "precision, recall, thresholds = precision_recall_curve(all_gt_flat, all_pred_prob)\n",
    "\n",
    "plt.plot(recall, precision, marker='.')\n",
    "plt.title('Precision-Recall Curve')\n",
    "plt.xlabel('Recall')\n",
    "plt.ylabel('Precision')\n",
    "plt.grid()\n",
    "plt.show()\n"
   ]
  },
  {
   "cell_type": "code",
   "execution_count": null,
   "metadata": {
    "colab": {
     "base_uri": "https://localhost:8080/",
     "height": 611
    },
    "id": "IiZJt6ABIcmj",
    "outputId": "4a5c7d09-5a72-4598-8c9c-afd9aad34010"
   },
   "outputs": [],
   "source": [
    "import matplotlib.pyplot as plt\n",
    "import seaborn as sns\n",
    "from sklearn.metrics import accuracy_score, precision_score, recall_score, f1_score, ConfusionMatrixDisplay\n",
    "\n",
    "# === METRICS ===\n",
    "accuracy = accuracy_score(all_gt, all_pred)\n",
    "precision = precision_score(all_gt, all_pred)\n",
    "recall = recall_score(all_gt, all_pred)\n",
    "f1 = f1_score(all_gt, all_pred)\n",
    "\n",
    "print(\"\\n📊 Evaluation Metrics:\")\n",
    "print(f\"Accuracy : {accuracy:.4f}\")\n",
    "print(f\"Precision: {precision:.4f}\")\n",
    "print(f\"Recall   : {recall:.4f}\")\n",
    "print(f\"F1 Score : {f1:.4f}\")\n",
    "\n",
    "# === VISUALIZATION ===\n",
    "plt.figure(figsize=(6, 5))\n",
    "sns.heatmap(conf_matrix, annot=True, fmt='d', cmap=\"Blues\", cbar=False,\n",
    "            xticklabels=[\"Pred 0\", \"Pred 1\"], yticklabels=[\"Actual 0\", \"Actual 1\"])\n",
    "plt.title(\"Confusion Matrix Heatmap\")\n",
    "plt.xlabel(\"Predicted Label\")\n",
    "plt.ylabel(\"True Label\")\n",
    "plt.tight_layout()\n",
    "plt.show()\n"
   ]
  },
  {
   "cell_type": "code",
   "execution_count": null,
   "metadata": {
    "colab": {
     "base_uri": "https://localhost:8080/",
     "height": 236
    },
    "id": "nBYLgKEIJKhT",
    "outputId": "94d89e1e-5105-477a-a9f9-8e114b6c8d1f"
   },
   "outputs": [],
   "source": [
    "import matplotlib.pyplot as plt\n",
    "import nibabel as nib\n",
    "import numpy as np\n",
    "\n",
    "# === CONFIG ===\n",
    "gt_path = \"/content/drive/MyDrive/CALAMITI_Project/neuroimage_2021_calamiti/sample_dataset/slices/default/train/T1w/SAMPLE_T1w_SUB001_AXIAL_SLICE010_axial_recon.nii.gz\"\n",
    "recon_path = \"/content/drive/MyDrive/CALAMITI_Project/generated_reconstructions/SAMPLE_T1w_SUB001_AXIAL_SLICE010_axial_recon_axial_recon.nii.gz\"\n",
    "\n",
    "# === LOAD ===\n",
    "gt_img = nib.load(gt_path).get_fdata()\n",
    "recon_img = nib.load(recon_path).get_fdata()\n",
    "\n",
    "# === Fix recon image if it's 3-channel ===\n",
    "if recon_img.shape[0] == 3:\n",
    "    recon_img = np.mean(recon_img, axis=0)\n",
    "\n",
    "# === Normalize both ===\n",
    "gt_img = (gt_img - gt_img.min()) / (gt_img.max() - gt_img.min() + 1e-8)\n",
    "recon_img = (recon_img - recon_img.min()) / (recon_img.max() - recon_img.min() + 1e-8)\n",
    "\n",
    "# === Squeeze if needed ===\n",
    "gt_img = np.squeeze(gt_img)\n",
    "recon_img = np.squeeze(recon_img)\n",
    "\n",
    "# === Resize if shape mismatch ===\n",
    "if gt_img.shape != recon_img.shape:\n",
    "    from scipy.ndimage import zoom\n",
    "    zoom_factors = (\n",
    "        gt_img.shape[0] / recon_img.shape[0],\n",
    "        gt_img.shape[1] / recon_img.shape[1]\n",
    "    )\n",
    "    recon_img = zoom(recon_img, zoom_factors, order=1)\n",
    "\n",
    "# === PLOT ===\n",
    "plt.figure(figsize=(12, 4))\n",
    "\n",
    "plt.subplot(1, 3, 1)\n",
    "plt.imshow(gt_img, cmap='gray')\n",
    "plt.title(\"Ground Truth\")\n",
    "plt.axis('off')\n",
    "\n",
    "plt.subplot(1, 3, 2)\n",
    "plt.imshow(recon_img, cmap='gray')\n",
    "plt.title(\"Reconstructed (CycleGAN)\")\n",
    "plt.axis('off')\n",
    "\n",
    "plt.subplot(1, 3, 3)\n",
    "plt.imshow(np.abs(gt_img - recon_img), cmap='hot')\n",
    "plt.title(\"Difference Map\")\n",
    "plt.axis('off')\n",
    "\n",
    "plt.suptitle(\"CycleGAN Output Visualization\", fontsize=14)\n",
    "plt.tight_layout()\n",
    "plt.show()\n"
   ]
  },
  {
   "cell_type": "code",
   "execution_count": null,
   "metadata": {
    "colab": {
     "base_uri": "https://localhost:8080/"
    },
    "id": "TJnh5DvALj0o",
    "outputId": "73b9e067-edfd-44a5-fac0-1c36f143044a"
   },
   "outputs": [],
   "source": [
    "!pip install albumentations\n"
   ]
  },
  {
   "cell_type": "code",
   "execution_count": null,
   "metadata": {
    "id": "WCYznoTWLmAx"
   },
   "outputs": [],
   "source": [
    "import cv2\n",
    "\n",
    "# Post-process recon_bin with dilation\n",
    "recon_reshaped = recon_bin.reshape(gt_img.shape).astype(np.uint8)\n",
    "kernel = np.ones((3, 3), np.uint8)\n",
    "recon_dilated = cv2.dilate(recon_reshaped, kernel, iterations=1)\n",
    "\n",
    "# Flatten again\n",
    "recon_bin = recon_dilated.flatten()\n"
   ]
  },
  {
   "cell_type": "code",
   "execution_count": null,
   "metadata": {
    "colab": {
     "base_uri": "https://localhost:8080/",
     "height": 228
    },
    "id": "yscuR0FjNeGw",
    "outputId": "b4a78b59-edbf-47f1-82c9-ba17b34627a8"
   },
   "outputs": [],
   "source": [
    "from sklearn.metrics import precision_recall_curve\n",
    "import matplotlib.pyplot as plt\n",
    "\n",
    "# Convert predictions to float scores (before thresholding)\n",
    "all_pred_prob = np.concatenate([recon_img.flatten() for recon_img in recon_images])\n",
    "all_gt_flat = np.concatenate([gt.flatten() for gt in gt_images])\n",
    "\n",
    "precision, recall, thresholds = precision_recall_curve(all_gt_flat, all_pred_prob)\n",
    "\n",
    "plt.plot(recall, precision, marker='.')\n",
    "plt.title(\"Precision-Recall Curve\")\n",
    "plt.xlabel(\"Recall\")\n",
    "plt.ylabel(\"Precision\")\n",
    "plt.grid()\n",
    "plt.show()\n"
   ]
  },
  {
   "cell_type": "code",
   "execution_count": null,
   "metadata": {
    "colab": {
     "base_uri": "https://localhost:8080/"
    },
    "id": "I7nUd1Jp2_fK",
    "outputId": "2fc8a381-d014-48c2-ce57-918e6d6f92c3"
   },
   "outputs": [],
   "source": [
    "from multiorientation import MultiOrientationImages, custom_collate\n",
    "from torch.utils.data import DataLoader\n",
    "\n",
    "test_dataset = MultiOrientationImages(\n",
    "    dataset_dir=\"/content/drive/MyDrive/CALAMITI_Project/neuroimage_2021_calamiti/sample_dataset/slices/default\",\n",
    "    data_name=\"T1w\",\n",
    "    mode=\"test\"\n",
    ")\n",
    "\n",
    "test_loader = DataLoader(test_dataset, batch_size=1, shuffle=False, collate_fn=custom_collate)\n"
   ]
  },
  {
   "cell_type": "code",
   "execution_count": null,
   "metadata": {
    "id": "xaaYvxsi7Nld"
   },
   "outputs": [],
   "source": [
    "from multiorientation import MultiOrientationImages, custom_collate\n",
    "from torch.utils.data import DataLoader\n"
   ]
  },
  {
   "cell_type": "code",
   "execution_count": null,
   "metadata": {
    "colab": {
     "base_uri": "https://localhost:8080/"
    },
    "id": "9mD5NQbP7PCE",
    "outputId": "93d63c7f-b1c5-4a00-ea54-fedf0fdbafa8"
   },
   "outputs": [],
   "source": [
    "test_dataset = MultiOrientationImages(\n",
    "    dataset_dir=\"/content/drive/MyDrive/CALAMITI_Project/neuroimage_2021_calamiti/sample_dataset/slices/default\",\n",
    "    data_name=\"T1w\",\n",
    "    mode=\"test\"\n",
    ")\n",
    "\n",
    "test_loader = DataLoader(\n",
    "    test_dataset,\n",
    "    batch_size=1,\n",
    "    shuffle=False,\n",
    "    collate_fn=custom_collate\n",
    ")\n"
   ]
  },
  {
   "cell_type": "code",
   "execution_count": null,
   "metadata": {
    "colab": {
     "base_uri": "https://localhost:8080/",
     "height": 141
    },
    "id": "9v0Vky2b3Vjc",
    "outputId": "b1b865fd-d4dd-4c01-8030-0154a425a45d"
   },
   "outputs": [],
   "source": [
    "model.test(model.test_loader, output_dir=\"./cyclegan_test_output\")\n"
   ]
  },
  {
   "cell_type": "code",
   "execution_count": null,
   "metadata": {
    "id": "UTLIp6bQ3VQ8"
   },
   "outputs": [],
   "source": []
  },
  {
   "cell_type": "code",
   "execution_count": null,
   "metadata": {
    "colab": {
     "base_uri": "https://localhost:8080/",
     "height": 141
    },
    "id": "sd4roYlJ3C-N",
    "outputId": "59fa7534-9472-4fa4-8e4a-9edae0bb4f32"
   },
   "outputs": [],
   "source": [
    "model.test(test_loader, output_dir=\"./cyclegan_test_output\")\n"
   ]
  },
  {
   "cell_type": "code",
   "execution_count": null,
   "metadata": {
    "colab": {
     "base_uri": "https://localhost:8080/",
     "height": 158
    },
    "id": "oQ8EVi2E2lhs",
    "outputId": "d6909eb7-8f96-4155-b53e-ff59636325c9"
   },
   "outputs": [],
   "source": [
    "cyclegan_model = model\n",
    "cyclegan_model.test(test_loader, output_dir=\"./cyclegan_test_output\")\n"
   ]
  },
  {
   "cell_type": "code",
   "execution_count": null,
   "metadata": {
    "colab": {
     "base_uri": "https://localhost:8080/",
     "height": 141
    },
    "id": "DczNOXCW1nMq",
    "outputId": "49f7c2b1-b957-416c-f8ac-20198f3fcd09"
   },
   "outputs": [],
   "source": [
    "cyclegan_model.test(test_loader, output_dir=\"./cyclegan_test_output\")\n"
   ]
  },
  {
   "cell_type": "code",
   "execution_count": null,
   "metadata": {
    "colab": {
     "base_uri": "https://localhost:8080/",
     "height": 494
    },
    "id": "JsAnVq5600x7",
    "outputId": "3eb986e3-eb2e-4d72-e23f-fed1fcd08be9"
   },
   "outputs": [],
   "source": [
    "import importlib.util\n",
    "import sys\n",
    "\n",
    "# Path to your cyclegan_fusion.py\n",
    "cyclegan_path = \"/content/drive/MyDrive/CALAMITI_Project/neuroimage_2021_calamiti/code/modules/cyclegan_fusion.py\"\n",
    "\n",
    "spec = importlib.util.spec_from_file_location(\"cyclegan_fusion\", cyclegan_path)\n",
    "cyclegan_fusion = importlib.util.module_from_spec(spec)\n",
    "sys.modules[\"cyclegan_fusion\"] = cyclegan_fusion\n",
    "spec.loader.exec_module(cyclegan_fusion)\n"
   ]
  },
  {
   "cell_type": "code",
   "execution_count": null,
   "metadata": {
    "id": "ZpBTBrc20gDk"
   },
   "outputs": [],
   "source": [
    "import importlib.util\n",
    "import sys\n",
    "\n",
    "path = \"/content/drive/MyDrive/CALAMITI_Project/neuroimage_2021_calamiti/code/modules/multiorientation.py\"\n",
    "spec = importlib.util.spec_from_file_location(\"multiorientation\", path)\n",
    "multiorientation = importlib.util.module_from_spec(spec)\n",
    "sys.modules[\"multiorientation\"] = multiorientation\n",
    "spec.loader.exec_module(multiorientation)\n",
    "\n",
    "from multiorientation import MultiOrientationImages, custom_collate\n"
   ]
  },
  {
   "cell_type": "code",
   "execution_count": null,
   "metadata": {
    "colab": {
     "base_uri": "https://localhost:8080/",
     "height": 228
    },
    "id": "OOmZvQcg0jmj",
    "outputId": "ce5a21ea-610d-472b-ded0-0e199d471888"
   },
   "outputs": [],
   "source": [
    "model = cyclegan_fusion.CycleGANFusionNetwork(\n",
    "    dataset_dir=\"/content/drive/MyDrive/CALAMITI_Project/neuroimage_2021_calamiti/sample_dataset/slices/default\",\n",
    "    modality=\"T1w\",\n",
    "    batch_size=1,\n",
    "    lr=0.0002,\n",
    "    gpu=0\n",
    ")\n",
    "\n",
    "model.train(epochs=10)\n"
   ]
  },
  {
   "cell_type": "code",
   "execution_count": null,
   "metadata": {
    "colab": {
     "base_uri": "https://localhost:8080/",
     "height": 408
    },
    "id": "-OImHIl30MM5",
    "outputId": "ac938ef7-de0a-4100-f963-241ad6adc11f"
   },
   "outputs": [],
   "source": [
    "model = cyclegan_fusion.CycleGANFusionNetwork(\n",
    "    dataset_dir=\"/content/drive/MyDrive/CALAMITI_Project/neuroimage_2021_calamiti/sample_dataset/slices/default\",\n",
    "    modality=\"T1w\",\n",
    "    batch_size=1,\n",
    "    lr=0.0002,\n",
    "    gpu=0\n",
    ")\n"
   ]
  },
  {
   "cell_type": "markdown",
   "metadata": {
    "id": "FzshqbK3tT8b"
   },
   "source": [
    "**To Visualize the Output**"
   ]
  },
  {
   "cell_type": "code",
   "execution_count": null,
   "metadata": {
    "id": "R09dig5TbdKN"
   },
   "outputs": [],
   "source": [
    "import sys\n",
    "sys.path.append('/content/drive/MyDrive/CALAMITI_Project/neuroimage_2021_calamiti/code/modules')  # ✅ this is the directory\n",
    "from cyclegan_fusion import CycleGANFusionNetwork  # ✅ this is the filename without .py\n"
   ]
  },
  {
   "cell_type": "code",
   "execution_count": null,
   "metadata": {
    "id": "12XpLdRicpIo"
   },
   "outputs": [],
   "source": [
    "dataset_dir = \"/content/drive/MyDrive/CALAMITI_Project/neuroimage_2021_calamiti/sample_dataset/slices/default\"  # ✅ Replace with your actual dataset path\n",
    "modality = \"T1w\""
   ]
  },
  {
   "cell_type": "code",
   "execution_count": null,
   "metadata": {
    "colab": {
     "base_uri": "https://localhost:8080/"
    },
    "id": "r3K0PNYjcqZD",
    "outputId": "2b6896c8-cb01-4bc3-c8a9-9cb1a51cad7e"
   },
   "outputs": [],
   "source": [
    "model = CycleGANFusionNetwork(dataset_dir=dataset_dir, modality=modality)\n"
   ]
  },
  {
   "cell_type": "code",
   "execution_count": null,
   "metadata": {
    "colab": {
     "base_uri": "https://localhost:8080/",
     "height": 34
    },
    "id": "MV4ivSRRd3N4",
    "outputId": "936392b1-13dd-445e-c698-7e8c64c43faf"
   },
   "outputs": [],
   "source": [
    "import matplotlib.pyplot as plt\n",
    "\n",
    "n_samples = 5\n",
    "test_loader = model.test_loader\n",
    "plt.figure(figsize=(10, 2 * n_samples))\n",
    "\n",
    "for i, batch in enumerate(test_loader):\n",
    "    if i >= n_samples:\n",
    "        break\n",
    "\n",
    "    axial = batch['axial'].to(model.device)\n",
    "    sagittal = batch['sagittal'].to(model.device)\n",
    "    coronal = batch['coronal'].to(model.device)\n",
    "    target = batch['target'].to(model.device)\n",
    "\n",
    "    input_tensor = torch.cat([axial, sagittal, coronal], dim=1)\n",
    "    with torch.no_grad():\n",
    "        fused = model.G(input_tensor)\n",
    "\n",
    "    plt.subplot(n_samples, 2, 2 * i + 1)\n",
    "    plt.imshow(fused[0, 0].cpu().numpy(), cmap='gray')\n",
    "    plt.title(f\"Fused Output #{i+1}\")\n",
    "    plt.axis(\"off\")\n",
    "\n",
    "    plt.subplot(n_samples, 2, 2 * i + 2)\n",
    "    plt.imshow(target[0, 0].cpu().numpy(), cmap='gray')\n",
    "    plt.title(f\"Ground Truth #{i+1}\")\n",
    "    plt.axis(\"off\")\n",
    "\n",
    "plt.tight_layout()\n",
    "plt.show()\n"
   ]
  },
  {
   "cell_type": "code",
   "execution_count": null,
   "metadata": {
    "colab": {
     "base_uri": "https://localhost:8080/",
     "height": 34
    },
    "id": "Y4f2xEhneK09",
    "outputId": "bff6374f-83d2-4f2f-8e98-5aa29abf7b64"
   },
   "outputs": [],
   "source": [
    "plt.savefig(\"fusion_vs_target.png\", dpi=300, bbox_inches='tight')\n"
   ]
  },
  {
   "cell_type": "code",
   "execution_count": null,
   "metadata": {
    "colab": {
     "base_uri": "https://localhost:8080/",
     "height": 356
    },
    "id": "T-B1spiEeaBN",
    "outputId": "d42b5ca7-703f-46c5-b7a2-f072ff9f1bae"
   },
   "outputs": [],
   "source": [
    "import matplotlib.pyplot as plt\n",
    "import torch\n",
    "\n",
    "# Step 1: Get a batch from test_loader\n",
    "val_batch = next(iter(model.test_loader))\n",
    "\n",
    "# Step 2: Send input slices to device\n",
    "axial = val_batch['axial'].to(model.device)\n",
    "sagittal = val_batch['sagittal'].to(model.device)\n",
    "coronal = val_batch['coronal'].to(model.device)\n",
    "target = val_batch['target'].to(model.device)\n",
    "\n",
    "# Step 3: Forward pass through generator\n",
    "input_tensor = torch.cat([axial, sagittal, coronal], dim=1)\n",
    "with torch.no_grad():\n",
    "    fused = model.G(input_tensor)\n",
    "\n",
    "# Step 4: Convert outputs to numpy\n",
    "axial_np = axial[0, 0].cpu().numpy()\n",
    "sagittal_np = sagittal[0, 0].cpu().numpy()\n",
    "coronal_np = coronal[0, 0].cpu().numpy()\n",
    "fused_np = fused[0, 0].cpu().numpy()\n",
    "target_np = target[0, 0].cpu().numpy()\n",
    "\n",
    "# Step 5: Plot all views\n",
    "plt.figure(figsize=(15, 4))\n",
    "\n",
    "plt.subplot(1, 5, 1)\n",
    "plt.imshow(axial_np, cmap='gray')\n",
    "plt.title(\"Axial Input\")\n",
    "plt.axis(\"off\")\n",
    "\n",
    "plt.subplot(1, 5, 2)\n",
    "plt.imshow(sagittal_np, cmap='gray')\n",
    "plt.title(\"Sagittal Input\")\n",
    "plt.axis(\"off\")\n",
    "\n",
    "plt.subplot(1, 5, 3)\n",
    "plt.imshow(coronal_np, cmap='gray')\n",
    "plt.title(\"Coronal Input\")\n",
    "plt.axis(\"off\")\n",
    "\n",
    "plt.subplot(1, 5, 4)\n",
    "plt.imshow(fused_np, cmap='gray')\n",
    "plt.title(\"Fused Output\")\n",
    "plt.axis(\"off\")\n",
    "\n",
    "plt.subplot(1, 5, 5)\n",
    "plt.imshow(target_np, cmap='gray')\n",
    "plt.title(\"Ground Truth\")\n",
    "plt.axis(\"off\")\n",
    "\n",
    "plt.tight_layout()\n",
    "plt.show()\n"
   ]
  },
  {
   "cell_type": "code",
   "execution_count": null,
   "metadata": {
    "id": "2GGzN7MCeZwD"
   },
   "outputs": [],
   "source": []
  },
  {
   "cell_type": "code",
   "execution_count": null,
   "metadata": {
    "colab": {
     "base_uri": "https://localhost:8080/",
     "height": 491
    },
    "id": "XuuSpu9FePQJ",
    "outputId": "2b41bb5e-b9b5-4f35-a106-9a86d0cf506c"
   },
   "outputs": [],
   "source": [
    "plt.figure(figsize=(15, 3))\n",
    "\n",
    "plt.subplot(1, 4, 1)\n",
    "plt.imshow(axial[0, 0].cpu().numpy(), cmap='gray')\n",
    "plt.title(\"Axial Input\")\n",
    "plt.axis(\"off\")\n",
    "\n",
    "plt.subplot(1, 4, 2)\n",
    "plt.imshow(sagittal[0, 0].cpu().numpy(), cmap='gray')\n",
    "plt.title(\"Sagittal Input\")\n",
    "plt.axis(\"off\")\n",
    "\n",
    "plt.subplot(1, 4, 3)\n",
    "plt.imshow(coronal[0, 0].cpu().numpy(), cmap='gray')\n",
    "plt.title(\"Coronal Input\")\n",
    "plt.axis(\"off\")\n",
    "\n",
    "plt.subplot(1, 4, 4)\n",
    "plt.imshow(fused_img, cmap='gray')\n",
    "plt.title(\"Fused Output\")\n",
    "plt.axis(\"off\")\n",
    "\n",
    "plt.tight_layout()\n",
    "plt.savefig(\"multi_input_fusion.png\", dpi=300, bbox_inches='tight')\n",
    "plt.show()\n"
   ]
  },
  {
   "cell_type": "code",
   "execution_count": null,
   "metadata": {
    "colab": {
     "base_uri": "https://localhost:8080/",
     "height": 356
    },
    "id": "rzSzgl8yeGKi",
    "outputId": "30ad1fa3-ea12-4ca5-d4e6-7ab415e04c73"
   },
   "outputs": [],
   "source": [
    "import matplotlib.pyplot as plt\n",
    "\n",
    "# Get one test batch\n",
    "val_batch = next(iter(model.test_loader))\n",
    "\n",
    "axial = val_batch['axial'].to(model.device)\n",
    "sagittal = val_batch['sagittal'].to(model.device)\n",
    "coronal = val_batch['coronal'].to(model.device)\n",
    "target = val_batch['target'].to(model.device)\n",
    "\n",
    "input_tensor = torch.cat([axial, sagittal, coronal], dim=1)\n",
    "\n",
    "# Run inference\n",
    "with torch.no_grad():\n",
    "    fused = model.G(input_tensor)\n",
    "\n",
    "# Convert to NumPy\n",
    "fused_img = fused[0, 0].cpu().numpy()\n",
    "target_img = target[0, 0].cpu().numpy()\n",
    "\n",
    "# Plot side by side\n",
    "plt.figure(figsize=(10, 5))\n",
    "\n",
    "plt.subplot(1, 2, 1)\n",
    "plt.imshow(fused_img, cmap='gray')\n",
    "plt.title(\"CycleGAN Fused Output\")\n",
    "plt.axis(\"off\")\n",
    "\n",
    "plt.subplot(1, 2, 2)\n",
    "plt.imshow(target_img, cmap='gray')\n",
    "plt.title(\"Ground Truth\")\n",
    "plt.axis(\"off\")\n",
    "\n",
    "plt.tight_layout()\n",
    "plt.show()\n"
   ]
  },
  {
   "cell_type": "code",
   "execution_count": null,
   "metadata": {
    "colab": {
     "base_uri": "https://localhost:8080/",
     "height": 304
    },
    "id": "O4s36cJnd-nI",
    "outputId": "2b031c0d-5913-4b0e-b21b-e46b1f26fd5f"
   },
   "outputs": [],
   "source": [
    "model.G.load_state_dict(torch.load('/path/to/fused_model.pth', map_location=model.device))\n",
    "model.G.eval()\n"
   ]
  },
  {
   "cell_type": "code",
   "execution_count": null,
   "metadata": {
    "colab": {
     "base_uri": "https://localhost:8080/",
     "height": 445
    },
    "id": "ThFqR5DDslVl",
    "outputId": "3f619a58-9276-4e8a-cd54-0a2b53a57837"
   },
   "outputs": [],
   "source": [
    "# -------------------- 1. Import Required Modules --------------------\n",
    "from cyclegan_fusion import CycleGANFusionNetwork\n",
    "import matplotlib.pyplot as plt\n",
    "import torch\n",
    "\n",
    "# -------------------- 2. Set Dataset Path and Modality --------------------\n",
    "dataset_dir = \"/content/drive/MyDrive/CALAMITI_Project/neuroimage_2021_calamiti/code/modules/cyclegan_fusion.py\"  # ✅ Replace with your actual dataset path\n",
    "modality = \"T1w\"  # ✅ Replace with the actual modality folder name (T1w, T2w, FLAIR, etc.)\n",
    "\n",
    "# -------------------- 3. Initialize the CycleGAN Model --------------------\n",
    "model = CycleGANFusionNetwork(dataset_dir=dataset_dir, modality=modality)\n",
    "\n",
    "# -------------------- 4. Get a Batch for Visualization --------------------\n",
    "val_batch = next(iter(model.test_loader))  # ✅ No more AttributeError\n",
    "\n",
    "# -------------------- 5. Prepare Tensors and Run Model --------------------\n",
    "axial = val_batch['axial'].to(model.device)\n",
    "sagittal = val_batch['sagittal'].to(model.device)\n",
    "coronal = val_batch['coronal'].to(model.device)\n",
    "target = val_batch['target'].to(model.device)\n",
    "\n",
    "input_tensor = torch.cat([axial, sagittal, coronal], dim=1)\n",
    "\n",
    "with torch.no_grad():\n",
    "    fused = model.G(input_tensor)\n",
    "\n",
    "# -------------------- 6. Plot Results --------------------\n",
    "plt.figure(figsize=(12, 4))\n",
    "\n",
    "plt.subplot(1, 2, 1)\n",
    "plt.imshow(fused[0, 0].cpu().numpy(), cmap='gray')\n",
    "plt.title(\"CycleGAN Fused Output\")\n",
    "plt.axis(\"off\")\n",
    "\n",
    "plt.subplot(1, 2, 2)\n",
    "plt.imshow(target[0, 0].cpu().numpy(), cmap='gray')\n",
    "plt.title(\"Ground Truth\")\n",
    "plt.axis(\"off\")\n",
    "\n",
    "plt.tight_layout()\n",
    "plt.show()\n"
   ]
  },
  {
   "cell_type": "code",
   "execution_count": null,
   "metadata": {
    "id": "Y6pmMPEMyHdp"
   },
   "outputs": [],
   "source": []
  },
  {
   "cell_type": "code",
   "execution_count": null,
   "metadata": {
    "colab": {
     "base_uri": "https://localhost:8080/"
    },
    "id": "SDDxOtqpyHGg",
    "outputId": "4a21ecc4-6512-4b29-cb8b-2fb37493c1a7"
   },
   "outputs": [],
   "source": [
    "# 👇 Open and read the current content\n",
    "with open(\"/content/drive/MyDrive/CALAMITI_Project/neuroimage_2021_calamiti/code/modules/fusion.py\", \"r\") as file:\n",
    "    lines = file.readlines()\n",
    "\n",
    "# 🛠 Modify lines here if needed OR print to check content\n",
    "for i, line in enumerate(lines[-10:]):  # Last 10 lines\n",
    "    print(f\"{i+1}: {line.strip()}\")\n",
    "\n",
    "# OR reassign fixed lines and write back\n",
    "# with open(\"path\", \"w\") as file:\n",
    "#     file.writelines(fixed_lines)\n"
   ]
  },
  {
   "cell_type": "code",
   "execution_count": null,
   "metadata": {
    "id": "_twRnLBkvEEf"
   },
   "outputs": [],
   "source": [
    "code = \"\"\"\n",
    "def run_training():\n",
    "    class Args:\n",
    "        dataset_dir = \"/content/drive/MyDrive/CALAMITI_Project/neuroimage_2021_calamiti/sample_dataset/slices/default\"\n",
    "        modality = \"T1w\"\n",
    "        output_dir = \"./output\"\n",
    "        batch_size = 1\n",
    "        epochs = 20\n",
    "        lr = 0.0001\n",
    "        gpu = 0 if torch.cuda.is_available() else -1\n",
    "        checkpoint = None\n",
    "\n",
    "    args = Args()\n",
    "\n",
    "    network = FusionNetwork(\n",
    "        pretrained_model=args.checkpoint,\n",
    "        gpu=args.gpu,\n",
    "        data_path=args.dataset_dir,\n",
    "        data_name=args.modality,\n",
    "        batch_size=args.batch_size\n",
    "    )\n",
    "\n",
    "    network.load_dataset(args.dataset_dir, args.modality, args.batch_size)\n",
    "    network.initialize_training(args.output_dir, lr=args.lr)\n",
    "    print(f\"🚀 Starting training for {args.epochs} epochs...\")\n",
    "    network.train(epochs=args.epochs)\n",
    "    print(f\"✅ Training complete. Model saved to {args.output_dir}/models/\")\n",
    "    return network\n",
    "\"\"\"\n",
    "\n",
    "with open(\"/content/drive/MyDrive/CALAMITI_Project/neuroimage_2021_calamiti/code/modules/fusion.py\", \"a\") as f:\n",
    "    f.write(\"\\n\" + code)\n"
   ]
  },
  {
   "cell_type": "code",
   "execution_count": null,
   "metadata": {
    "colab": {
     "base_uri": "https://localhost:8080/",
     "height": 1000,
     "referenced_widgets": [
      "9c4cddbd4da846e2aa9be29e12015559",
      "85d7948a99534a808babe37ee92bbeae",
      "b193fe9400f74395bf57e3cb8d4ea6ea",
      "e39cb566f84e41378a6cd516e3d3ccb0",
      "61c65198068848a3aaa180c5b0785938",
      "583c5fa44fba4fb2827754ab6517961f",
      "3d30bc9bb68b4cf09aac00f1ba0c2049",
      "eca448a079184d53a710f5ca3f717667",
      "788994b5057a48cd9030f832549453a3",
      "ed2803c9eec1477483ed24e2bbe9e773",
      "30b50739306141c0af961749d9cf90bd",
      "a37c00f36b2e4286b0abbe2dfc731e31",
      "58a56202b0904a87a06e575c02d5ce05",
      "55848b150a154817ab9d0a27162772b9",
      "6b2de664475b497792d42c4885f69f2f",
      "586aca4d3505461285f13422534b3b27",
      "b56a7e42c78b4ef0b739915a3898f151",
      "0bd33171a524421d8b960f7c786cbd09",
      "1ab5f8db50cd49bba1855dec53499b1e",
      "6e1a8b991fea4db893352619afeef15e",
      "c1ff455f807f416fa30238ef34c4cb12",
      "a0c9e1672ac940fd957a111c0edebf99",
      "82813e7cb7f843be966d50c7f62a6dae",
      "f10625cce9f44734831c4ef359fb87d0",
      "d515b0d7576943ebaa6774b68f462d02",
      "867e1c7cbea64bfbb117c7eea1efdbb7",
      "3da7850c57c5462abcdc1e763ee160cd",
      "7e68daf7391c4667b0024ddcb6a76bc0",
      "f54b519ddeb14263b4c3f071c2f4c718",
      "6c3ab4c4a44f417ab35d941101fbc476",
      "dd474882b09446e0a7e2a9179520b5a8",
      "42c3a42815d94ee59e60de11ba22f075",
      "6578e3961ec948a78a211fc42358c393",
      "8f82f7aec81f45738ae8df06baa4606d",
      "ff94441733ac498b8d7674748bf2fa2e",
      "f46d69b2736346679697ae48b97b9232",
      "1033deb7ee664bcba8d0b2ad28237faf",
      "522746c2bb6742ecb1d25590a0eca968",
      "7be815fd51f24095a006d8d685162f33",
      "5032c9caca4349efa4f4f005852dc904",
      "0342b2cff9684490a031c7b892c07b83",
      "db42474589304531995a3a241651cb71",
      "ace2febbbcb74b87afb5caf5654281fe",
      "6c0750cad28348a2a74a350ddf9f2acb",
      "1e022fe177d14fa9988a0adb116e17ab",
      "63378ca2c77e4fcea6dc56be7e1affe4",
      "026172b2f1f34ad1a16852367a5c1344",
      "23d390fee78d4b749d6b690d83a98439",
      "d8520fa9bed748a19fb8892ac08650bf",
      "d80af69bb7c342ad9969fafb251f008e",
      "3bd8c238772b4752bde54e7967924c76",
      "2c69adf258c643c4b95a18f560ffb333",
      "603718c1a4cb4e5b8904d024af00ed5c",
      "bc60ddcc158f4d55b53933596b58d60b",
      "7de8a61debf64839a1f638664b082477",
      "4f822546420d4647b02a33db5203a900",
      "9c218a541ed84712a336442a01d4b6ba",
      "caef242bb9f74c948be8af256cfa98f9",
      "e751f4fae5de40b5b8de1fd90cc21599",
      "3d781be2122c4d6cb3d763aa4524328c",
      "c81fd5c95aaa41c89bcab06b49d6a0e1",
      "1fa8234cdccb4935a56336a478044579",
      "c24e000af11b4c0089849cbab27e42bd",
      "c149bd79be8a4d5488ba8720e57274a9",
      "cd2dcb588cbe480d8064ff485e629fe0",
      "85922c15817947cf95bd98ad70495f55",
      "4ca1a60533814c8ea1952008b5287f61",
      "fc1212e93f9646cfa065bbe5f3db8438",
      "87c6bdfbab3d48a1bff5983a70b213f8",
      "b8e484f71c424ce08b733b0bbd2bb5b9",
      "d262b20987e642c89c60a316f3f67c6b",
      "5538bc9a1aa04d67b035453803ba840d",
      "429c1120bc69444fa8bc324590a1f054",
      "010fa0720bf949c2bf26bcd81712238a",
      "10572d8b646e4415803ac80906537f02",
      "c3a3cc5c30c942948f251f2d38fa2752",
      "01cfe8da1da141ec8310c6d650aa9efc",
      "d970d9366001455cb4ff7386c6ce116b",
      "5f07db7100294f3e8c0e2650df9fae7d",
      "b43a97530904476fb8e14cd46fc6ffae",
      "76a1c037f0a0430da55ce69ee87b3684",
      "0ff4cbd22afd47de8f491bf810a6612b",
      "1672243474f44670b70da6bfcc03ea91",
      "7dcbe18b88ff419e897d969f6ea53969",
      "90715f75ceec476ab6a8d58761514b96",
      "ecf773e470b14d8cac1842e0e564dbb4",
      "5ded5507bbd04352a4f855f5e5c23be4",
      "8025fa64e8fb46429826a5ccbf46d88a",
      "355d60d1506c4b4992a9268043badb7a",
      "26d7f32639544f2a8fdb9f987896e461",
      "5728fddbe6d148f8b2ea75591eb28dcc",
      "f6fd2b3402894827a9006ae1e5a0347a",
      "fca459a239804241a507f0dd574b67ce",
      "bc2220597fad441bb3062ffb79bfab19",
      "d97838f7ac624f56b011727c07df0dc7",
      "cdabb51b4a13464b8965bd4f477c69e6",
      "3e3f75a6545d445f939429166f548f1f",
      "7168df3cf83240f885e00992aff656be",
      "3ddf91b010d7422da102de4c463e3b46",
      "50ea07538bca44f99765159cc7040ad1",
      "db43593b1e9d4e6cbb1908306e06fe9e",
      "43a81be2df844ff1805819c077a49d8c",
      "52464bbd5fe6445fb52cad896808192c",
      "55cc36ac55f248df81009f00d84964a3",
      "cb9a042c3cc743bd8f91ae96f0fcbf16",
      "d8b545260a664d0780ff216bc42fd2d1",
      "1b18aa57191242968f0586f2bd113da7",
      "3ac8e21c862344dbacb30c27dadbd75e",
      "8177dc5d73b3462d96718ef59d9040bb",
      "5c83f34943a545c1981246da89afa431",
      "e3b1947c544d46218f933aeacf996a80",
      "de26a33616e444b2ac46c3476fb823ee",
      "458a718e52ed476d97d3105c1f11eb91",
      "15a144dc2817416cb47f9c25b3c82145",
      "499c958f09e746fba44e896a1d7d6e6e",
      "8177cc7e6cc146b695b3f31277006a23",
      "9e0bfa7e75f54d4da82e4ec542a6716a",
      "3902f2802b9b416ea570bef49a5c1668",
      "b5a8762bc0a6475295418edbad6366ce",
      "063dcba070b449f4b4e0d2717b3d4945",
      "2a17d4dd865d407abecf00977952fb1a",
      "9b61beafd9194ceb98bad1c6b663d29f",
      "a668dabbca7144aa931fa439f1024d51",
      "c552fb79e97f4965949bc49761607cd4",
      "c4f8a520b0f743ca8041a9d67954d380",
      "7201f83ed9b446e19d8d33253522f40c",
      "6d77bc43bfef41c3aee38c767acf69d5",
      "ecb505457e814685b904d9cbf9fd8072",
      "070be60b8aa145eba1b7cfa83f7ba990",
      "5545fe0330304cb5a752124d4aec0720",
      "bb99e9999e334cf5945ed0d4a238b49e",
      "785d4e05d11f4fa39fe7871b8be338b5",
      "451c60ecb21c43909f2995abfd4f1da3",
      "d4e645c4b482486daa62a5cc4e6ceeee",
      "5945959b4ff248c383b37e3e9fcc341c",
      "959da6020f2b421b86572e8a9fd1fa8d",
      "711d0ceeee974d0fbb6d87c394851973",
      "6da7679da2c04fae936089d1ab320653",
      "33bdc71477754500b2ad4a67ecfd2e89",
      "677c78286ede45cd8b410297a9c583f8",
      "2a4096d3c1d440d5b9b8f9ec4e7d1974",
      "febce5eb1526450b94079fdc543512b4",
      "fa68a1c8574f438cbcc004a81512c7b0",
      "623ac3d0a3964fb89c41613830493186",
      "7a66d2824bcf450a9ee3e86e2c8c40cf",
      "bf4efe9966914166ae38b59bf6fc531f",
      "f78d4bf190ca4d20832b2fae14614fe0",
      "c8bb012e39fb4a2ba18eb0b9809bc953",
      "9189fb7017ad4ce2b379bdd23c7e6339",
      "228d398f362b46a7b6984afe73963628",
      "d8212a58c329457fab3e431dde9069c4",
      "632956435b4a46b09ee602e7044d62a6",
      "7fc67bd55e1948fcb9ffbc2bc39410ac",
      "a268f0f8ca2a4f2991a838d581859c66",
      "797d8804eda24971825dd436350d6ce3",
      "12d629f033ca415f8638f6076fdeb4c2",
      "335586ec036b44d4b1555940ce4f84f4",
      "7b57ae09303146ffa5084f1e9df1ab93",
      "509433f119f24232ac61d0911fca4d34",
      "4a4351739ed74adba199b175c9f58958",
      "1cf916297ef44f41829ced18a8666002",
      "8dfc8f1dc2e04723a367bf66dac440de",
      "cc5c19ef59bd4414b43b969a27e56e91",
      "06d74438d73b4ef6ae61d85b9ed7d4b3",
      "8a22fcc0298a487989b6b03db3306fee",
      "a73398d681f94d739a714756f62b4672",
      "654df8d26417403d904881605bb21817",
      "ab879fca2fc94a05beacdfaa4570afb4",
      "8fcba07547ab401c8e0014b3abe5c76f",
      "7f2009a3a6e44ceaabca2ff5a5423b64",
      "9ccc10094f31450cb46660fb52fb86cf",
      "fb04971a85ca4dd5915779bb467275ce",
      "661393bce25d4757b7abbe244df40766",
      "c231a795519d45949af86e0949c67ef5",
      "ff7b3ea41290475aa88215a94593b4bc",
      "ae95ea1909b94bd684da22b6bbda6d30",
      "9ad4177095554562937954008f05c751",
      "89a38f21edc84f60b8f72a3fbcfa5a57",
      "fa744bc2eb0f4afbb210f0333ffa1f68",
      "f01ed13ea47648fa9ec2a865352c75bd",
      "407f000692e54a77be806f4aaa000756",
      "3d9dd6f5ad7a407daec0ab7a3ffb9f74",
      "f136fa2b1a854b6f8cd917081a40bf3b",
      "b3fdd08ed8074851992bfcedc6060ffe",
      "f42301110ed64bbfa3f1587f7695c3d5",
      "1e2142217d3a419aaedc8fc175dd1814",
      "b09ea94efb834d53ae7e78385b2d6064",
      "ce2a28b15ec742038849f759ebfdbb71",
      "0eaf2a5179a44f4694735bdc991f6913",
      "f589430ed11f4094a829485cdc68d04f",
      "d3da40d06dba43659d256c824f2780aa",
      "fcacd535607c4bc6bb9e47d93e752e97",
      "7531a2211dc647ec841f673e50850159",
      "4a8aaa36955f4681bcdc1c8a8d15cbc7",
      "e5d32d2a2d71466cbab1ff37898da56b",
      "48ac50dcd7794f5e94f00a1b6ec58a33",
      "143af0c467cc4ef5b6ffe751aed572a8",
      "23f31faa37aa43a8af6c75e2b53c92af",
      "5814e236410041d2a0c53aa2ab4e8483",
      "6ef3fee8d1ce497085161a90c028925e",
      "a513c804082f4d17928fbde26144505f",
      "9204f4f4603a45f39cac9aa47d9024a9",
      "54227705086145a495cda5a59d501d95",
      "aa21de70304749659d696093e684d92c",
      "755ae9265b9f4668a7eb3f2c052a5ec0",
      "46887473ec0945938eb2cda1598da5ed",
      "dbde9b4c71634064a4b3d7a1609c116b",
      "fca0f9c2b8914503af5d744ab6ec886b",
      "4744df7a30024ee491a47f82672b7bfa",
      "f2fb8d15e66c41739fcc1b56c120f06c",
      "d6e41440f70645c5b29bf9d428653c99",
      "10a217e52178478b9e1a926b7b18fba1",
      "acd2d6a8536840f3b650b9e7fc0af822",
      "356040ed78f149099da09f9a51779294",
      "4d51875eb290478895245ec972c2448d",
      "0d562c2dbbea4516985df8b2d7c5ccb4",
      "6f88bae0561e489c83b8405e704a56b5",
      "d5a07882a9f44a21b41d381d99c00f25",
      "8f7af9cfeab44cdca0d105de32b7a0ff",
      "42895b4a90444bfa8d8a5edd553c1761",
      "0138ea74db3c49dca44c6a869a016756",
      "888548b63f0c468c88c21590dda747ea",
      "c20e5e6c5785462daeaf27b0471fb204",
      "c6a5155ca9124a748e6b235e20ccb1f8",
      "3f993c531eca417894b5f7804310f340",
      "8bd8f4ac94d4440bbb3f39404db7bf2c",
      "dbf301bae7be4100b8600125ea3c9150",
      "18488712730147a982a221b4c22b0383",
      "1f28978045ec4ee796453e20bf3a2e25",
      "4ef2485c1acf4c9ba88d4acaf42cd2fe",
      "f42f46c2d82f4ce8987a8c7d4927671c",
      "a54899cc3c444de0be57c00f06d583b3",
      "4aa392516c7c4129832ffd8c777642a7",
      "5536d5946eb948588350caffa33d834a",
      "cf225b5011144d1c8c3cb26f07126aa8",
      "e651ec025b5f47a89fa6659a1d46562c",
      "de82ab3b798349aca0749f37d5489e7b",
      "0a148c36369f4f1b97dc308f26795bc1",
      "03f0e73127984321a8dab60200584cf1",
      "0858e758d294469789241f3efa2e20d5",
      "93234d951fe84aacbdc917f7c461f63d",
      "bfb8eaf9609d4368888490fc3eb6f17e",
      "3519850f84eb4fbf9b372cc02bb95475",
      "45f4ef9f0a774b70a73ed3a44ceee2ea",
      "a1714b2c5ae8474587d56805029c44b3",
      "b70d31dc60f74a7c8cb0887c95404425",
      "6b8af7001cc545b582854198039c0dc1",
      "0b732214ccfd41ea8a2b6730c94d4e22",
      "6f239431356c478aa43fb86aec691929",
      "855754a26c17406597390df68355f758",
      "ba545990a91f4ba7a741cbefe68c2fe4",
      "dec6a7c41b9b4edda12bea7809b40c1c",
      "f80a34b3a9524ea8a47acb0381e74073",
      "86aab983905d4b44ab72068c5dbdb024",
      "60e3e0aa313f428984eff46445b2ad82",
      "7a93cf7b4d9745b8ae83a46d0cc8bcd8",
      "2e358939d31648cbab3471d42bc0b5c8",
      "21dbf7ddfb4a4898b531060f10b5a80c",
      "e8c6a0fc618f489b93c5c596004a2bf2",
      "a1fd63fd104b4d18888fb186422a7845",
      "102f55e9c9ce42d3846f27d01b261604",
      "b5fac7e3e88145998d54178879e8a757",
      "eede1b349a8d4358b97ea6501cb10f7c",
      "77135d5822c2477e9908f50192bda45e",
      "c0d3caf67c5744a5982d8ec7d2ecb60f",
      "8777aa9813a04595b0b963d708d22dd2",
      "5692e83bf2ac4fcdbb29e3db10dae324",
      "b49d183883674d60bb1ee20aaf5c928b",
      "75feb8e19b584ddfb333ef767ec77e2f",
      "621d97ca7ec845648b5fa8241bc5e588",
      "45e5a03b51af416381c7aec75b15e93c",
      "1e4cc6284faf4a729019c3ad81216335",
      "d240b0e2f22a441ba5cca0f113ab39c7",
      "47ac696617174ee48c2b36f83f8528a4",
      "ae433f85807a4701bdfec244754d63bd",
      "b69d9617d597415f8fa0d745c020d9ed",
      "4a4d73f45bf142c1995499f0c8ee0805",
      "f13a1b9db9f1498cb37d7754285e1117",
      "62a363aafc3442d0bfe39e99436def5e",
      "e4ed7ca89c0146c59ea6837124c198e8",
      "a55054e614044ac9ba61fc39f2358635",
      "25dc338ec81c4a11a84e58d284b06e1f",
      "2ba2a60f094b489e9b0287ea726ae965",
      "91c5c2ce2a434ad49a624fe8ffc323d1",
      "b16c2c31c5f849af815bbf0ecd5fa98d",
      "ccb215712fe741e9876a74707bc6eea1",
      "8d696512fe5b4f2abfae732e080a2336",
      "a17d57e8f8894677a36aa1e756a9d2db",
      "cc92ea16cf18481982928b27e88a9c24",
      "123d4285e92342ed88ad7747f4241fbf",
      "a8a8a09e5cba4789965ef712d6b79cd2",
      "9047c08969a64be3880d6004f00d6a20",
      "7629e752011740c5b98328b9927badc4",
      "7e73ed8999e241b8892e2d9688a46db0",
      "7006398261034120a68877a72068f933",
      "d516e4a23f2c4682a6b8603023dba2a9",
      "e92d17dcc4e248b98c4c358512cc4e46",
      "a5ce4d30b76e42a4a536f9daa5541260",
      "cb81cd9ed2354f039c0cb97f4546813f",
      "2668332231704e7a8f785d0fcc91871a",
      "c0181b07d6544c52a0688e2557b6cde3",
      "7344cfb2736b46d4a8451fea8ba90486",
      "2b66a6f38ed3471f8afe8df7c57dc79e",
      "56fc56a3373241f89157ad86a5ed12d7",
      "8735b7580d714362b04569962041d757",
      "289793459dde4a4e9570f06a168c4ee2",
      "ae27e695df3a49f8a318f449df3bb439",
      "1641c93b21d54c7fb3dd65663748dd38",
      "2d44f41e3f48437591a6166edfad8279",
      "ed73894f779941718fe94720ceec6ede",
      "7f1f5467c4bf42e29c341fb08bd2e09d",
      "646884d344c44276a168096949925ae2",
      "292262a1536a45a188fae47dc0d62176",
      "775ab01569fe4283a0dd1c2af8afd3ca",
      "cf37ea1c18cf4659bbfd2a55a23b4a55",
      "652d213f829c48ad9b963d7f2ce41b5e",
      "bdc1bfecd97e428da4f97668c0750bed",
      "1339a4a9e80149ccb475d9ea1d1a5897",
      "852618d0e6de4f0d997f6c7003d8b0ea",
      "e0596ceb9b864e28b3de422eba6fcda9",
      "982917b10aa048f5830377e485cb18d3",
      "70f6f62a0bb04460b4c571a1ae95ae1c",
      "21fad32acb584fae8d9e095184139d2d",
      "2e65818e076644b99ea771089281bdd8",
      "63ec09b4fd524c2a89524d284c679f91",
      "6a27227d1f814f26854cdbf44b22c3ed",
      "8524369e322a4a379f124f0f03c8cde7",
      "3699cb9943414250aa0645c8ba99c327",
      "591c7017ac6549be97cf16f202522fc0",
      "f2334684cd4843658a2bb27fc723bde5",
      "c48cb24b99b04f9a975c178cf4d4e18f",
      "3e124e4cb20446708c66881f19afd061",
      "eec414e39de64790aeffec07e896915a",
      "53939aeedee241e7bb5f33d405cfea1d",
      "1fbfdf15cf5b41e9922af73455240596",
      "ea380a56fb054a25a9e94d1841e3c277",
      "580f3a4b21c04298a78686cd40848125",
      "78287df0bb1346a0b30a81da829cc3f7",
      "f32255ff08df411586942bf8b86d506b",
      "057b2ec843774fbf9df1fea3daf42073",
      "69444c416c39476291087181aa9e7b0c",
      "338809f2fd2f4c689211bd35b93aba5f",
      "d9dd4dd4781c4e789988dc796fc06ab7",
      "aec7c50e923f4568b53aaec0167f347a",
      "1326b4c44f0149d78f59af3f77c9cf68",
      "41d5ac36e29e435781006d938bb082ed",
      "5b3208acbcb64c30943bfbc66168fd2a",
      "f9d9345facb846f8a935c8ce6bfbb62e",
      "7002fc2e8399439ca4ccfdcd3827c67f",
      "d38bc218fede44dfbd3fbc027d89b95e",
      "b5415e86482a4120bce8f6d5fce25da0",
      "44cbded8e8ba4313a789416474add787",
      "de2dac8dbc014443bc9622414f8ff44c",
      "bdef24b3705f4a0f91adc065b94066d9",
      "41f25bdfafe14e27935b21ac673eafc2",
      "b33080dc6def4630940a9f254dbb56ff",
      "432fd7520f7d4bc18323887f2b933c54",
      "04be34c4e6474862a9d97b053a28e727",
      "e81f0658768f4f83a60eb805a9476313",
      "f36def7d26224cb69e3755569086dbbd",
      "681327b6d2cc4ac79b2405832e91803c",
      "f9db653d73134f738e6c8028f25b63d4",
      "a662d26623764414b55e7e0deead12b3",
      "87ae8bbe51554f14bed554ce74c74ebd",
      "e69cf4a0622448daa9e4689fbc94bf1c",
      "026c8af4b1bd4c1cb65ce56a106d2a29",
      "03d009c8f25c499a8b3977e1dd4450f5",
      "6a806b64ca5b490ba856501092a8561f",
      "4cd331ade0a14c0eb634ae7ac38be510",
      "05eca32965824e6ab81b1c7325d1805a",
      "bd698aa5ff6b462fadd1e729f3579b67",
      "1929c46dac594bb5ac6166ce9d15defd",
      "83dcb9eca14f45a7987504df0847e66d",
      "8999482080a0436781e6953099c4cb25",
      "8ccdcfa8aebe40f98486669108728144",
      "5523f822c4164d1fa013a07ebabb9f6f",
      "05bdc0a6cc42468599cd89963a01ed0c",
      "bf644b0df04e46cfae1948247753e08c",
      "07e49294cd0743fe875316f67b882103",
      "9df45ad27f4a4c6a98060333c1f8799f",
      "4b8dd63775e6431b9d967e072ca75827",
      "2d18fc83ea324c81b766b2ab980c6c86",
      "cc61d8f7f6e24a7abf6eeb78379a968d",
      "b1ad6b9b57b14c37be7feaf29fea3f3e",
      "14b7d159d4cd4160b10340b46273171e",
      "8e12720f99a34be9ad8dabab3d9edc8c",
      "6414f6f232034df1a09c5c8e64993ac3",
      "fd4ce0e0f7654f159b3f162af3c4b84c",
      "f8262fa1e03b49f2a6ce063a0766f815",
      "d37bd23275e74e03a21f1957d87d7457",
      "7f597b057cab4d42a9e4fc5a09edd95b",
      "c8b86a34e0294a658fc262e48ee4b889",
      "e84b0c9113ff429db8d3f86f99c3a0a4",
      "576595614dfb47099b83e5de6e0807c2",
      "effa5bd677274403a02319615d6c04e0",
      "1731ae28d2cf4aa79d1f0bc6964913f0",
      "555dc12f5d71473984df8d56ca75c585",
      "87708e17ddc94d808626b82f942335a0",
      "c8f98704528e40a2ae413e89cbc78511",
      "ee4184234adb4bbf99fb095d0aac1a81",
      "4744a97387f242cfae80d5c53d57aebe",
      "47013bd313714bddbb63e3376e9b935f",
      "16765ec4fe754273b96b5f5d2621b01b",
      "9deceb02fbb54ff6a7d617242a8a32d9",
      "036b1cc72d704981964490696ffbfa10",
      "0e6b68dac8ae47ea99ca074105f3ce46",
      "c5dd43a81ce44cb993baeb08f24357ad",
      "22b9c9beeb944ef8b7800c07e5a8cc19",
      "6a880466135b4cdb89722a1bf22037d4",
      "43d8b6903cda4b359edf6434d5da8f56",
      "d89b4cf4f7cf4262b4f3ac64ed4781dd",
      "a446e90938584f20a1ff826ed226f240",
      "4a6aa08d6b8548c1b5e144f555563ce1",
      "b3a6fa27b330406ea4aa7cbc15113c29",
      "fe7d282669d44995a1a25a58ae932714",
      "24267083b5e54badb73e7a8cdc2fdd9b",
      "217135c249ec4b67a8abafc5f85bef73",
      "2a6eed7fb9ed4fd9a77b6fe3f444a835",
      "dfbab3803f374818a69505de4ac9a81b",
      "c338a0dac8004a6a9d7182db431bae63",
      "8462408115ea47e2a5d78e2f5e2aed83",
      "f960ab4466e1457885c1c10b3c61ffb6",
      "f0236ad567124250ba96bdf9d2fba574",
      "64ee5ab3298b4deb8439eeff1376757e",
      "4d718526696747279bec22a368b6b77a",
      "fca629c0f48a4c19b580efc0f543f403",
      "580e52f2af4c4647975ebef893b2b5ad",
      "6b4b4038e98b40278c016d6910b32bd6",
      "d8302e9b09cc47e99b959f4d07c06fb6",
      "dde8357b8214443686e23bbb46f4a356",
      "f0b13588eab04e4998356c92f0c533ca",
      "27a1b52568d34cd68b220129d1312850",
      "a881a212dbfb469dbe3ee1174a360633",
      "94870d6a87834a1f9426d5df83c7937e",
      "2b9bba0ab42c460d85c9bf12ea72ae0e",
      "e7696e08dbca4a5e9fd7552956d6ad32",
      "69eae24f4e704329b955ef5a7bbe5f5d",
      "778c5f2e5d564ec284f7688e8efec8f2",
      "9ed0db4b902e4930a1d1c69ed31b8ee6",
      "6aa4c7e01f7041a9882f96216e849b26"
     ]
    },
    "id": "uskJxpAlzJ_S",
    "outputId": "2b84279e-158b-48f0-bae6-56b0763e0784"
   },
   "outputs": [],
   "source": [
    "import importlib.util\n",
    "import sys\n",
    "\n",
    "script_path = \"/content/drive/MyDrive/CALAMITI_Project/neuroimage_2021_calamiti/code/modules/fusion.py\"\n",
    "spec = importlib.util.spec_from_file_location(\"fusion_sr\", script_path)\n",
    "fusion_sr = importlib.util.module_from_spec(spec)\n",
    "sys.modules[\"fusion_sr\"] = fusion_sr\n",
    "spec.loader.exec_module(fusion_sr)\n",
    "\n",
    "# ✅ Run the training now\n",
    "network = fusion_sr.run_training()\n"
   ]
  },
  {
   "cell_type": "code",
   "execution_count": null,
   "metadata": {
    "id": "j0ZCOzRU0yCf"
   },
   "outputs": [],
   "source": [
    "import matplotlib.pyplot as plt\n",
    "import torch\n"
   ]
  },
  {
   "cell_type": "code",
   "execution_count": null,
   "metadata": {
    "colab": {
     "base_uri": "https://localhost:8080/"
    },
    "id": "4rBn_ddH08vk",
    "outputId": "c4d87b39-75c1-4121-e28b-5d4eed8d8a30"
   },
   "outputs": [],
   "source": [
    "val_batch = next(iter(network.valid_loader))\n",
    "\n",
    "axial = val_batch['axial'].to(network.device)\n",
    "sagittal = val_batch['sagittal'].to(network.device)\n",
    "coronal = val_batch['coronal'].to(network.device)\n",
    "target = val_batch['target'].to(network.device)\n",
    "\n",
    "input_tensor = torch.cat([axial, sagittal, coronal], dim=1)\n"
   ]
  },
  {
   "cell_type": "code",
   "execution_count": null,
   "metadata": {
    "id": "YyMgkBXc1AD0"
   },
   "outputs": [],
   "source": [
    "network.fusion_net.eval()\n",
    "with torch.no_grad():\n",
    "    output = network.fusion_net(input_tensor)\n"
   ]
  },
  {
   "cell_type": "code",
   "execution_count": null,
   "metadata": {
    "colab": {
     "base_uri": "https://localhost:8080/",
     "height": 353
    },
    "id": "zWrEyDvM1Cn-",
    "outputId": "75a8af29-cc41-4d76-b309-a67600cfa2c1"
   },
   "outputs": [],
   "source": [
    "plt.figure(figsize=(12, 4))\n",
    "\n",
    "# Fused Output\n",
    "plt.subplot(1, 2, 1)\n",
    "plt.imshow(output[0, 0].cpu(), cmap='gray')\n",
    "plt.title(\"Fused Output\")\n",
    "plt.axis(\"off\")\n",
    "\n",
    "# Ground Truth\n",
    "plt.subplot(1, 2, 2)\n",
    "plt.imshow(target[0, 0].cpu(), cmap='gray')\n",
    "plt.title(\"Ground Truth\")\n",
    "plt.axis(\"off\")\n",
    "\n",
    "plt.tight_layout()\n",
    "plt.show()\n"
   ]
  },
  {
   "cell_type": "code",
   "execution_count": null,
   "metadata": {
    "id": "_BHZ45TMs-8h"
   },
   "outputs": [],
   "source": [
    "import sys\n",
    "sys.path.append(\"/content/drive/MyDrive/CALAMITI_Project/neuroimage_2021_calamiti/code/modules\")\n"
   ]
  },
  {
   "cell_type": "code",
   "execution_count": null,
   "metadata": {
    "colab": {
     "base_uri": "https://localhost:8080/"
    },
    "id": "ui0HjpFL9J2n",
    "outputId": "eebf81b9-1b0b-4a57-ef03-b8182c723d35"
   },
   "outputs": [],
   "source": [
    "test_dataset = MultiOrientationImages(\n",
    "    dataset_dir=\"/content/drive/MyDrive/CALAMITI_Project/neuroimage_2021_calamiti/sample_dataset/slices/default\",\n",
    "    data_name=\"T1w\",\n",
    "    mode=\"test\"\n",
    ")\n"
   ]
  },
  {
   "cell_type": "code",
   "execution_count": null,
   "metadata": {
    "colab": {
     "base_uri": "https://localhost:8080/"
    },
    "id": "vxvJUF3c909r",
    "outputId": "844300ae-9a19-4992-e83b-314b19f32120"
   },
   "outputs": [],
   "source": [
    "import os\n",
    "\n",
    "test_path = \"/content/drive/MyDrive/CALAMITI_Project/neuroimage_2021_calamiti/sample_dataset/slices/default/test/T1w\"\n",
    "count = 0\n",
    "\n",
    "files = sorted(os.listdir(test_path))\n",
    "axial_files = [f for f in files if \"AXIAL_SLICE\" in f and f.endswith(\".nii.gz\") and \"_recon\" not in f]\n",
    "\n",
    "print(f\"\\n🔍 Found {len(axial_files)} axial slice base files.\\n\")\n",
    "\n",
    "for f in axial_files:\n",
    "    base = f.replace(\".nii.gz\", \"\")\n",
    "    axial_recon = f\"{base}_axial_recon.nii.gz\"\n",
    "    sagittal_recon = f\"{base}_sagittal_recon.nii.gz\"\n",
    "    coronal_recon = f\"{base}_coronal_recon.nii.gz\"\n",
    "\n",
    "    recon_files = [axial_recon, sagittal_recon, coronal_recon]\n",
    "    missing = [r for r in recon_files if not os.path.exists(os.path.join(test_path, r))]\n",
    "\n",
    "    if not missing:\n",
    "        count += 1\n",
    "    else:\n",
    "        print(f\"❌ Missing for {base}: {missing}\")\n",
    "\n",
    "print(f\"\\n✅ Total valid samples: {count}\")\n"
   ]
  },
  {
   "cell_type": "code",
   "execution_count": null,
   "metadata": {
    "colab": {
     "base_uri": "https://localhost:8080/"
    },
    "id": "tksPQX-Y9dUT",
    "outputId": "b7ddc8cf-1803-4b8c-ef11-5af3a5b81c68"
   },
   "outputs": [],
   "source": [
    "test_dataset = MultiOrientationImages(\n",
    "    dataset_dir=\"/content/drive/MyDrive/CALAMITI_Project/neuroimage_2021_calamiti/sample_dataset/slices/default\",\n",
    "    data_name=\"T1w\",\n",
    "    mode=\"test\"\n",
    ")\n"
   ]
  },
  {
   "cell_type": "code",
   "execution_count": null,
   "metadata": {
    "colab": {
     "base_uri": "https://localhost:8080/",
     "height": 339
    },
    "id": "qeEqgi5ItBP2",
    "outputId": "a979f893-e3e0-471e-ae1f-1db0016c3e09"
   },
   "outputs": [],
   "source": [
    "import importlib.util\n",
    "\n",
    "script_path = \"/content/drive/MyDrive/CALAMITI_Project/neuroimage_2021_calamiti/code/modules/fusion.py\"\n",
    "spec = importlib.util.spec_from_file_location(\"fusion\", script_path)\n",
    "fusion = importlib.util.module_from_spec(spec)\n",
    "sys.modules[\"fusion\"] = fusion\n",
    "spec.loader.exec_module(fusion)\n"
   ]
  },
  {
   "cell_type": "code",
   "execution_count": null,
   "metadata": {
    "colab": {
     "base_uri": "https://localhost:8080/",
     "height": 529
    },
    "id": "YqcqDhQgszYJ",
    "outputId": "bfb0c654-9354-46f7-92b2-cf5f07864555"
   },
   "outputs": [],
   "source": [
    "import importlib.util\n",
    "import sys\n",
    "\n",
    "# 🔁 Load your updated fusion.py\n",
    "script_path = \"/content/drive/MyDrive/CALAMITI_Project/neuroimage_2021_calamiti/code/modules/fusion.py\"\n",
    "spec = importlib.util.spec_from_file_location(\"fusion\", script_path)\n",
    "fusion = importlib.util.module_from_spec(spec)\n",
    "sys.modules[\"fusion\"] = fusion\n",
    "spec.loader.exec_module(fusion)\n",
    "\n",
    "# ✅ Test using fine-tuned or final model\n",
    "fusion.run_testing(\n",
    "    checkpoint_path=\"./output/models/fusion_epoch020.pth\",  # or best model path\n",
    "    modality=\"T1w\",\n",
    "    dataset_dir=\"/content/drive/MyDrive/CALAMITI_Project/neuroimage_2021_calamiti/sample_dataset/slices/default\",\n",
    "    output_dir=\"./output_test\"\n",
    ")\n"
   ]
  },
  {
   "cell_type": "code",
   "execution_count": null,
   "metadata": {
    "colab": {
     "base_uri": "https://localhost:8080/",
     "height": 1000,
     "referenced_widgets": [
      "ec4f4180c9d44090afe32d64f9671fc0",
      "d0fa747a6f0941bba487ea9da78b4b3e",
      "7c35f5613ce1410289c74837241d7a87",
      "799e7bd3bd47422ea4326b813f7f49a7",
      "2af68f39c61849a5bf0fb7e42ff193a2",
      "67fe81fa83644a1d9b0ab61375f38603",
      "fa2751634bc549b4ad2bdd367b1e3fec",
      "4a359f00eb624677ad416ed30077fd48",
      "3a1dbac247894057bf7310874a1eb02d",
      "29ac444af47f407682ad147cdc6cccf1",
      "9c400f9336264d71b304224bc723f649"
     ]
    },
    "id": "9ebqiDk81m4h",
    "outputId": "84147975-788d-4761-aa09-0324db8b4ac5"
   },
   "outputs": [],
   "source": [
    "network_t2 = fusion_sr.FusionNetwork(\n",
    "    pretrained_model=None,  # or path to pretrained model if you want to fine-tune\n",
    "    gpu=0 if torch.cuda.is_available() else -1,\n",
    "    data_path=\"/content/drive/MyDrive/CALAMITI_Project/neuroimage_2021_calamiti/sample_dataset/slices/default\",\n",
    "    data_name=\"T2w\",\n",
    "    batch_size=1\n",
    ")\n",
    "\n",
    "network_t2.load_dataset(\n",
    "    dataset_dir=\"/content/drive/MyDrive/CALAMITI_Project/neuroimage_2021_calamiti/sample_dataset/slices/default\",\n",
    "    data_name=\"T2w\",\n",
    "    batch_size=1\n",
    ")\n",
    "\n",
    "network_t2.initialize_training(\n",
    "    out_dir=\"./output_T2w\",\n",
    "    lr=0.0001\n",
    ")\n",
    "\n",
    "# 🚀 Start training\n",
    "network_t2.train(epochs=20)\n"
   ]
  },
  {
   "cell_type": "code",
   "execution_count": null,
   "metadata": {
    "colab": {
     "base_uri": "https://localhost:8080/"
    },
    "id": "wbEWWqxxvzlL",
    "outputId": "34c54fcf-803c-4133-844b-3a7174598364"
   },
   "outputs": [],
   "source": [
    "!code /content/drive/MyDrive/CALAMITI_Project/neuroimage_2021_calamiti/code/modules/fusion.py\n"
   ]
  },
  {
   "cell_type": "code",
   "execution_count": null,
   "metadata": {
    "colab": {
     "base_uri": "https://localhost:8080/"
    },
    "id": "ac4321z6rJrB",
    "outputId": "b1fccf54-826f-4c52-b78c-f2d11cafdefd"
   },
   "outputs": [],
   "source": [
    "!pip install scikit-image\n"
   ]
  },
  {
   "cell_type": "code",
   "execution_count": null,
   "metadata": {
    "id": "sraE46Qay__J"
   },
   "outputs": [],
   "source": [
    "import importlib.util\n",
    "spec = importlib.util.spec_from_file_location(\"multiorientation\", \"/content/drive/MyDrive/CALAMITI_Project/neuroimage_2021_calamiti/code/modules/multiorientation.py\")\n",
    "multi = importlib.util.module_from_spec(spec)\n",
    "spec.loader.exec_module(multi)\n"
   ]
  },
  {
   "cell_type": "code",
   "execution_count": null,
   "metadata": {
    "colab": {
     "base_uri": "https://localhost:8080/"
    },
    "id": "bGcA-wGlzLW_",
    "outputId": "e70bcd69-ab97-4e1d-e5cd-7ab15bca5aeb"
   },
   "outputs": [],
   "source": [
    "test_dataset = multi.MultiOrientationImages(dataset_dir=\"/content/drive/MyDrive/CALAMITI_Project/neuroimage_2021_calamiti/sample_dataset/slices/default\", data_name=\"T1w\", mode=\"test\")\n",
    "test_loader = DataLoader(test_dataset, batch_size=1, shuffle=False, collate_fn=multi.custom_collate)\n"
   ]
  },
  {
   "cell_type": "code",
   "execution_count": null,
   "metadata": {
    "colab": {
     "base_uri": "https://localhost:8080/",
     "height": 529
    },
    "id": "cp-E6u-ov7Za",
    "outputId": "f235914b-a957-4d12-d9de-1f74361bb5fc"
   },
   "outputs": [],
   "source": [
    "# Step 1: Import your updated module\n",
    "import importlib.util\n",
    "import sys\n",
    "\n",
    "module_path = \"/content/drive/MyDrive/CALAMITI_Project/neuroimage_2021_calamiti/code/modules/fusion.py\"\n",
    "spec = importlib.util.spec_from_file_location(\"fusion\", module_path)\n",
    "fusion = importlib.util.module_from_spec(spec)\n",
    "sys.modules[\"fusion\"] = fusion\n",
    "spec.loader.exec_module(fusion)\n",
    "\n",
    "# Step 2: Instantiate the model with checkpoint\n",
    "network = fusion.FusionNetwork(\n",
    "    pretrained_model=\"./output/models/fusion_epoch020.pth\",\n",
    "    gpu=0 if torch.cuda.is_available() else -1,\n",
    "    data_path=\"/content/drive/MyDrive/CALAMITI_Project/neuroimage_2021_calamiti/sample_dataset/slices/default\",\n",
    "    data_name=\"T1w\",\n",
    "    batch_size=1\n",
    ")\n",
    "\n",
    "# Step 3: Run the test evaluation\n",
    "network.run_testing(\n",
    "    dataset_dir=\"/content/drive/MyDrive/CALAMITI_Project/neuroimage_2021_calamiti/sample_dataset/slices/default\",\n",
    "    modality=\"T1w\",\n",
    "    output_dir=\"./test_results\"\n",
    ")\n"
   ]
  },
  {
   "cell_type": "code",
   "execution_count": null,
   "metadata": {
    "colab": {
     "base_uri": "https://localhost:8080/",
     "height": 383
    },
    "id": "CsoaWiAfrO7W",
    "outputId": "8ae06c23-58c5-4ba3-f112-809784c56aa0"
   },
   "outputs": [],
   "source": [
    "from multiorientation import MultiOrientationImages, custom_collate\n",
    "from torch.utils.data import DataLoader\n",
    "\n",
    "# Load test dataset\n",
    "test_dataset = MultiOrientationImages(\n",
    "    dataset_dir=\"/content/drive/MyDrive/CALAMITI_Project/neuroimage_2021_calamiti/sample_dataset/slices/default\",\n",
    "    data_name=\"T1w\", mode=\"test\"\n",
    ")\n",
    "test_loader = DataLoader(test_dataset, batch_size=1, shuffle=False, collate_fn=custom_collate)\n",
    "\n",
    "# Load model\n",
    "model = fusion.FusionNetwork(\n",
    "    pretrained_model=\"./output/models/fusion_epoch020.pth\",\n",
    "    gpu=0\n",
    ")\n",
    "\n",
    "# Run test and compute metrics\n",
    "model.test_on_loader(test_loader)\n"
   ]
  },
  {
   "cell_type": "code",
   "execution_count": null,
   "metadata": {
    "colab": {
     "base_uri": "https://localhost:8080/",
     "height": 176
    },
    "id": "Wpb5DMnivFi4",
    "outputId": "3055f32d-a2f6-4d7a-fd5a-a104df1300a8"
   },
   "outputs": [],
   "source": [
    "import importlib.util\n",
    "import sys\n",
    "\n",
    "script_path = \"/content/drive/MyDrive/CALAMITI_Project/neuroimage_2021_calamiti/code/modules/fusion.py\"\n",
    "spec = importlib.util.spec_from_file_location(\"fusion_sr\", script_path)\n",
    "fusion_sr = importlib.util.module_from_spec(spec)\n",
    "sys.modules[\"fusion_sr\"] = fusion_sr\n",
    "spec.loader.exec_module(fusion_sr)\n",
    "\n",
    "# 🚀 Now run training\n",
    "network = fusion_sr.run_training()\n"
   ]
  },
  {
   "cell_type": "code",
   "execution_count": null,
   "metadata": {
    "colab": {
     "base_uri": "https://localhost:8080/",
     "height": 252
    },
    "id": "cOC5nlZnu2a0",
    "outputId": "caacd7a7-50f5-43c6-c0a1-97c3eeef94a1"
   },
   "outputs": [],
   "source": [
    "import importlib.util\n",
    "import sys\n",
    "\n",
    "script_path = \"/content/drive/MyDrive/CALAMITI_Project/neuroimage_2021_calamiti/code/modules/fusion.py\"\n",
    "spec = importlib.util.spec_from_file_location(\"fusion_sr\", script_path)\n",
    "fusion_sr = importlib.util.module_from_spec(spec)\n",
    "sys.modules[\"fusion_sr\"] = fusion_sr\n",
    "spec.loader.exec_module(fusion_sr)\n"
   ]
  },
  {
   "cell_type": "code",
   "execution_count": null,
   "metadata": {
    "colab": {
     "base_uri": "https://localhost:8080/",
     "height": 211
    },
    "id": "NZb38BwItaw5",
    "outputId": "e6a9d213-4f41-4ed0-f7fe-ee78dd494669"
   },
   "outputs": [],
   "source": [
    "import sys\n",
    "import importlib.util\n",
    "\n",
    "# ✅ Step 1: Add the module directory to sys.path\n",
    "sys.path.append(\"/content/drive/MyDrive/CALAMITI_Project/neuroimage_2021_calamiti/code/modules\")\n",
    "\n",
    "# ✅ Step 2: Load fusion.py as a module\n",
    "script_path = \"/content/drive/MyDrive/CALAMITI_Project/neuroimage_2021_calamiti/code/modules/fusion.py\"\n",
    "spec = importlib.util.spec_from_file_location(\"fusion\", script_path)\n",
    "fusion_sr = importlib.util.module_from_spec(spec)\n",
    "sys.modules[\"fusion\"] = fusion\n",
    "spec.loader.exec_module(fusion)\n",
    "\n",
    "# ✅ Step 3: Now run training (optional)\n",
    "network = fusion.run_training()\n"
   ]
  },
  {
   "cell_type": "markdown",
   "metadata": {
    "id": "Uc2tzzMBdSgM"
   },
   "source": [
    "Cleaning fo github part"
   ]
  },
  {
   "cell_type": "code",
   "execution_count": null,
   "metadata": {
    "colab": {
     "base_uri": "https://localhost:8080/"
    },
    "id": "wDR-0qE2dS6N",
    "outputId": "0deaa8bf-e473-4496-f602-8adad3e1c5dc"
   },
   "outputs": [],
   "source": [
    "pip install nbstripout\n"
   ]
  },
  {
   "cell_type": "code",
   "execution_count": null,
   "metadata": {
    "colab": {
     "base_uri": "https://localhost:8080/"
    },
    "id": "WZfKtDSHdaK2",
    "outputId": "1dc8fea4-6edd-4aba-c765-22151938d6fb"
   },
   "outputs": [],
   "source": [
    "!nbstripout CALAMITI_NNK.ipynb -o CALAMITI_NNK_clean.ipynb"
   ]
  },
  {
   "cell_type": "code",
   "execution_count": null,
   "metadata": {
    "id": "RFQzZHFPecZd"
   },
   "outputs": [],
   "source": []
  }
 ],
 "metadata": {
  "accelerator": "GPU",
  "colab": {
   "gpuType": "T4",
   "provenance": []
  },
  "kernelspec": {
   "display_name": "Python 3",
   "name": "python3"
  },
  "language_info": {
   "name": "python"
  }
 },
 "nbformat": 4,
 "nbformat_minor": 0
}
